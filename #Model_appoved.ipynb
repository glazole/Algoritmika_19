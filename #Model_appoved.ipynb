{
 "cells": [
  {
   "cell_type": "code",
   "execution_count": 1,
   "metadata": {},
   "outputs": [
    {
     "name": "stderr",
     "output_type": "stream",
     "text": [
      "[nltk_data] Downloading package punkt to\n",
      "[nltk_data]     C:\\Users\\oigla\\AppData\\Roaming\\nltk_data...\n",
      "[nltk_data]   Package punkt is already up-to-date!\n",
      "[nltk_data] Downloading package stopwords to\n",
      "[nltk_data]     C:\\Users\\oigla\\AppData\\Roaming\\nltk_data...\n",
      "[nltk_data]   Package stopwords is already up-to-date!\n"
     ]
    }
   ],
   "source": [
    "import pandas as pd\n",
    "import numpy as np\n",
    "from datetime import datetime\n",
    "today = datetime.today()\n",
    "# Библиотеки для моделирования\n",
    "from sklearn.metrics import mean_squared_error\n",
    "from sklearn.feature_extraction.text import TfidfVectorizer\n",
    "from sklearn.metrics.pairwise import linear_kernel\n",
    "# Стоп-слова, знаки пунктуации\n",
    "import nltk\n",
    "from nltk.tokenize import word_tokenize\n",
    "from nltk.corpus import stopwords\n",
    "nltk.download('punkt')\n",
    "nltk.download('stopwords')\n",
    "stop_words = stopwords.words(\"russian\")"
   ]
  },
  {
   "cell_type": "code",
   "execution_count": 2,
   "metadata": {},
   "outputs": [],
   "source": [
    "plan = pd.read_csv('I:/Download/Датасеты/test_plan_01.csv')\n",
    "test = pd.read_csv('I:/Download/Датасеты/test.csv')"
   ]
  },
  {
   "cell_type": "code",
   "execution_count": 3,
   "metadata": {},
   "outputs": [
    {
     "name": "stdout",
     "output_type": "stream",
     "text": [
      "type2\n",
      "ОНЛАЙН Красота и стиль           0\n",
      "ОНЛАЙН Домоводство               1\n",
      "ОНЛАЙН Домоводство               2\n",
      "ОНЛАЙН Домоводство               3\n",
      "ОНЛАЙН Домоводство               4\n",
      "                             ...  \n",
      "Информационные технологии    59008\n",
      "Иностранные языки            59009\n",
      "Иностранные языки            59010\n",
      "Спортивные игры              59011\n",
      "Информационные технологии    59012\n",
      "Length: 59013, dtype: int64\n"
     ]
    }
   ],
   "source": [
    "tfidf = TfidfVectorizer(stop_words=list(stop_words))\n",
    "plan['type3'] = plan['type3'].fillna('')\n",
    "overview_matrix = tfidf.fit_transform(plan['type3'])\n",
    "similarity_matrix = linear_kernel(overview_matrix,overview_matrix)\n",
    "mapping = pd.Series(plan.index,index =plan['type2'])\n",
    "print(mapping)"
   ]
  },
  {
   "cell_type": "code",
   "execution_count": 4,
   "metadata": {},
   "outputs": [
    {
     "data": {
      "text/plain": [
       "RangeIndex(start=0, stop=59013, step=1)"
      ]
     },
     "execution_count": 4,
     "metadata": {},
     "output_type": "execute_result"
    }
   ],
   "source": [
    "plan.index"
   ]
  },
  {
   "cell_type": "code",
   "execution_count": 5,
   "metadata": {},
   "outputs": [
    {
     "data": {
      "text/plain": [
       "<59013x458 sparse matrix of type '<class 'numpy.float64'>'\n",
       "\twith 178006 stored elements in Compressed Sparse Row format>"
      ]
     },
     "execution_count": 5,
     "metadata": {},
     "output_type": "execute_result"
    }
   ],
   "source": [
    "overview_matrix"
   ]
  },
  {
   "cell_type": "code",
   "execution_count": 6,
   "metadata": {},
   "outputs": [
    {
     "data": {
      "text/plain": [
       "array([[1.       , 0.0271926, 0.0271926, ..., 0.       , 0.       ,\n",
       "        0.       ],\n",
       "       [0.0271926, 1.       , 1.       , ..., 0.       , 0.       ,\n",
       "        0.       ],\n",
       "       [0.0271926, 1.       , 1.       , ..., 0.       , 0.       ,\n",
       "        0.       ],\n",
       "       ...,\n",
       "       [0.       , 0.       , 0.       , ..., 1.       , 0.       ,\n",
       "        0.       ],\n",
       "       [0.       , 0.       , 0.       , ..., 0.       , 1.       ,\n",
       "        0.       ],\n",
       "       [0.       , 0.       , 0.       , ..., 0.       , 0.       ,\n",
       "        1.       ]])"
      ]
     },
     "execution_count": 6,
     "metadata": {},
     "output_type": "execute_result"
    }
   ],
   "source": [
    "similarity_matrix"
   ]
  },
  {
   "cell_type": "code",
   "execution_count": 7,
   "metadata": {},
   "outputs": [],
   "source": [
    "def recommend_plan(plan_input):\n",
    "    plan_index = mapping[plan_input]\n",
    "    similarity_score = list(enumerate(similarity_matrix[plan_index]))\n",
    "    similarity_score = sorted(similarity_score, key=lambda x: x[0], reverse=True)\n",
    "    similarity_score = similarity_score[0:10]\n",
    "    plan_indices = [i[0] for i in similarity_score]\n",
    "    return (plan['numgroup'].iloc[plan_indices])"
   ]
  },
  {
   "cell_type": "code",
   "execution_count": 8,
   "metadata": {},
   "outputs": [
    {
     "name": "stdout",
     "output_type": "stream",
     "text": [
      "8323    801352526\n",
      "8322    801350520\n",
      "8321    801349601\n",
      "8320    801369467\n",
      "8319    801366648\n",
      "8318    801373454\n",
      "8317    801353771\n",
      "8316    801352950\n",
      "8315    801351464\n",
      "8314    801347511\n",
      "Name: numgroup, dtype: int64\n"
     ]
    }
   ],
   "source": [
    "print(recommend_plan('ОНЛАЙН Гимнастика'))"
   ]
  }
 ],
 "metadata": {
  "kernelspec": {
   "display_name": "base",
   "language": "python",
   "name": "python3"
  },
  "language_info": {
   "codemirror_mode": {
    "name": "ipython",
    "version": 3
   },
   "file_extension": ".py",
   "mimetype": "text/x-python",
   "name": "python",
   "nbconvert_exporter": "python",
   "pygments_lexer": "ipython3",
   "version": "3.10.9"
  },
  "orig_nbformat": 4
 },
 "nbformat": 4,
 "nbformat_minor": 2
}
