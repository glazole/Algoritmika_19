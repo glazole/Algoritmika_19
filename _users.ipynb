{
 "cells": [
  {
   "cell_type": "code",
   "execution_count": 1,
   "id": "576fb15c",
   "metadata": {},
   "outputs": [],
   "source": [
    "import pandas as pd\n",
    "import zipfile\n",
    "with zipfile.ZipFile('I:\\\\Download\\\\Датасеты.zip', 'r') as zip_ref:\n",
    "    zip_ref.extractall('I:\\\\Download')"
   ]
  },
  {
   "cell_type": "code",
   "execution_count": 6,
   "id": "4803ef42",
   "metadata": {},
   "outputs": [
    {
     "name": "stdout",
     "output_type": "stream",
     "text": [
      "<class 'pandas.core.frame.DataFrame'>\n",
      "RangeIndex: 52334 entries, 0 to 52333\n",
      "Data columns (total 5 columns):\n",
      " #   Column                      Non-Null Count  Dtype \n",
      "---  ------                      --------------  ----- \n",
      " 0   уникальный номер            52334 non-null  int64 \n",
      " 1   дата создание личного дела  52334 non-null  object\n",
      " 2   пол                         52334 non-null  object\n",
      " 3   дата рождения               52334 non-null  object\n",
      " 4   адрес проживания            52334 non-null  object\n",
      "dtypes: int64(1), object(4)\n",
      "memory usage: 2.0+ MB\n"
     ]
    }
   ],
   "source": [
    "users = pd.read_csv('I:\\\\Download\\\\Датасеты\\\\users.csv')\n",
    "users.info()"
   ]
  },
  {
   "cell_type": "code",
   "execution_count": 7,
   "id": "9428a61a",
   "metadata": {},
   "outputs": [
    {
     "data": {
      "text/html": [
       "<div>\n",
       "<style scoped>\n",
       "    .dataframe tbody tr th:only-of-type {\n",
       "        vertical-align: middle;\n",
       "    }\n",
       "\n",
       "    .dataframe tbody tr th {\n",
       "        vertical-align: top;\n",
       "    }\n",
       "\n",
       "    .dataframe thead th {\n",
       "        text-align: right;\n",
       "    }\n",
       "</style>\n",
       "<table border=\"1\" class=\"dataframe\">\n",
       "  <thead>\n",
       "    <tr style=\"text-align: right;\">\n",
       "      <th></th>\n",
       "      <th>уникальный номер</th>\n",
       "      <th>дата создание личного дела</th>\n",
       "      <th>пол</th>\n",
       "      <th>дата рождения</th>\n",
       "      <th>адрес проживания</th>\n",
       "    </tr>\n",
       "  </thead>\n",
       "  <tbody>\n",
       "    <tr>\n",
       "      <th>0</th>\n",
       "      <td>101391104</td>\n",
       "      <td>2019-02-26 15:52:09.000</td>\n",
       "      <td>Женщина</td>\n",
       "      <td>1959-09-10</td>\n",
       "      <td>город москва, константинова, дом 30</td>\n",
       "    </tr>\n",
       "    <tr>\n",
       "      <th>1</th>\n",
       "      <td>101437383</td>\n",
       "      <td>2022-09-14 13:46:41.079</td>\n",
       "      <td>Женщина</td>\n",
       "      <td>1958-06-29</td>\n",
       "      <td>г. москва, большая серпуховская улица, дом 40,...</td>\n",
       "    </tr>\n",
       "    <tr>\n",
       "      <th>2</th>\n",
       "      <td>101351338</td>\n",
       "      <td>2018-03-19 18:34:58.000</td>\n",
       "      <td>Женщина</td>\n",
       "      <td>1956-08-28</td>\n",
       "      <td>город москва, летчика грицевца, дом 10</td>\n",
       "    </tr>\n",
       "    <tr>\n",
       "      <th>3</th>\n",
       "      <td>101354578</td>\n",
       "      <td>2018-03-22 13:19:42.000</td>\n",
       "      <td>Женщина</td>\n",
       "      <td>1939-05-19</td>\n",
       "      <td>город москва, лобачевского, дом 76</td>\n",
       "    </tr>\n",
       "    <tr>\n",
       "      <th>4</th>\n",
       "      <td>101411997</td>\n",
       "      <td>2019-12-17 12:29:25.481</td>\n",
       "      <td>Женщина</td>\n",
       "      <td>1951-03-02</td>\n",
       "      <td>г. москва, улица вертолётчиков, дом 13</td>\n",
       "    </tr>\n",
       "  </tbody>\n",
       "</table>\n",
       "</div>"
      ],
      "text/plain": [
       "   уникальный номер дата создание личного дела      пол дата рождения  \\\n",
       "0         101391104    2019-02-26 15:52:09.000  Женщина    1959-09-10   \n",
       "1         101437383    2022-09-14 13:46:41.079  Женщина    1958-06-29   \n",
       "2         101351338    2018-03-19 18:34:58.000  Женщина    1956-08-28   \n",
       "3         101354578    2018-03-22 13:19:42.000  Женщина    1939-05-19   \n",
       "4         101411997    2019-12-17 12:29:25.481  Женщина    1951-03-02   \n",
       "\n",
       "                                    адрес проживания  \n",
       "0                город москва, константинова, дом 30  \n",
       "1  г. москва, большая серпуховская улица, дом 40,...  \n",
       "2             город москва, летчика грицевца, дом 10  \n",
       "3                 город москва, лобачевского, дом 76  \n",
       "4             г. москва, улица вертолётчиков, дом 13  "
      ]
     },
     "execution_count": 7,
     "metadata": {},
     "output_type": "execute_result"
    }
   ],
   "source": [
    "users.head()"
   ]
  },
  {
   "cell_type": "code",
   "execution_count": 8,
   "id": "a4a1dfcc",
   "metadata": {},
   "outputs": [
    {
     "data": {
      "text/plain": [
       "уникальный номер              0\n",
       "дата создание личного дела    0\n",
       "пол                           0\n",
       "дата рождения                 0\n",
       "адрес проживания              0\n",
       "dtype: int64"
      ]
     },
     "execution_count": 8,
     "metadata": {},
     "output_type": "execute_result"
    }
   ],
   "source": [
    "users.isnull().sum()"
   ]
  },
  {
   "cell_type": "code",
   "execution_count": 16,
   "id": "74d157b9",
   "metadata": {},
   "outputs": [
    {
     "name": "stdout",
     "output_type": "stream",
     "text": [
      "<class 'pandas.core.frame.DataFrame'>\n",
      "RangeIndex: 200 entries, 0 to 199\n",
      "Data columns (total 2 columns):\n",
      " #   Column                      Non-Null Count  Dtype  \n",
      "---  ------                      --------------  -----  \n",
      " 0   уникальный номер участника  200 non-null    int64  \n",
      " 1   уникальный номер группы     0 non-null      float64\n",
      "dtypes: float64(1), int64(1)\n",
      "memory usage: 3.2 KB\n"
     ]
    }
   ],
   "source": [
    "test.info()"
   ]
  }
 ],
 "metadata": {
  "kernelspec": {
   "display_name": "Python 3 (ipykernel)",
   "language": "python",
   "name": "python3"
  },
  "language_info": {
   "codemirror_mode": {
    "name": "ipython",
    "version": 3
   },
   "file_extension": ".py",
   "mimetype": "text/x-python",
   "name": "python",
   "nbconvert_exporter": "python",
   "pygments_lexer": "ipython3",
   "version": "3.10.9"
  }
 },
 "nbformat": 4,
 "nbformat_minor": 5
}
