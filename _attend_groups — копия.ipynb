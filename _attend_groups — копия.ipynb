{
 "cells": [
  {
   "cell_type": "code",
   "execution_count": 69,
   "id": "576fb15c",
   "metadata": {},
   "outputs": [],
   "source": [
    "# data analysis \n",
    "import pandas as pd\n",
    "import numpy as np\n",
    "import random as rnd\n",
    "from sklearn.impute import SimpleImputer\n",
    "from sklearn import preprocessing\n",
    "import scipy.sparse as sp\n",
    "import datetime as dt\n",
    "from datetime import datetime\n",
    "today = datetime.today()\n",
    "# visualization\n",
    "import seaborn as sns\n",
    "import matplotlib.pyplot as plt\n",
    "%matplotlib inline\n",
    "\n",
    "pd.set_option('display.max_rows', None)"
   ]
  },
  {
   "cell_type": "code",
   "execution_count": 2,
   "id": "5d9796ce",
   "metadata": {},
   "outputs": [],
   "source": [
    "attend = pd.read_csv('I:\\\\Download\\\\Датасеты\\\\attend.csv')\n",
    "groups = pd.read_csv('I:\\\\Download\\\\Датасеты\\\\groups.csv')"
   ]
  },
  {
   "cell_type": "code",
   "execution_count": 3,
   "id": "0db1b33a",
   "metadata": {},
   "outputs": [
    {
     "name": "stdout",
     "output_type": "stream",
     "text": [
      "<class 'pandas.core.frame.DataFrame'>\n",
      "RangeIndex: 27003 entries, 0 to 27002\n",
      "Data columns (total 10 columns):\n",
      " #   Column                          Non-Null Count  Dtype \n",
      "---  ------                          --------------  ----- \n",
      " 0   уникальный номер                27003 non-null  int64 \n",
      " 1   направление 1                   27003 non-null  object\n",
      " 2   направление 2                   27003 non-null  object\n",
      " 3   направление 3                   27003 non-null  object\n",
      " 4   адрес площадки                  27003 non-null  object\n",
      " 5   округ площадки                  23021 non-null  object\n",
      " 6   район площадки                  23021 non-null  object\n",
      " 7   расписание в активных периодах  6522 non-null   object\n",
      " 8   расписание в закрытых периодах  21643 non-null  object\n",
      " 9   расписание в плановом периоде   67 non-null     object\n",
      "dtypes: int64(1), object(9)\n",
      "memory usage: 2.1+ MB\n"
     ]
    }
   ],
   "source": [
    "groups.info()"
   ]
  },
  {
   "cell_type": "code",
   "execution_count": 4,
   "id": "9f6c7339",
   "metadata": {},
   "outputs": [],
   "source": [
    "groups = groups.rename(columns={\"уникальный номер\": \"numgroup\", \"направление 1\": \"type1\", \"направление 2\": \"type2\", \"направление 3\": \"type3\", \n",
    "                       \"адрес площадки\": \"addres\", \"округ площадки\": \"okrug\", \"район площадки\": \"region\", \"расписание в активных периодах\": \"active_schedule\",\n",
    "                      \"расписание в закрытых периодах\": \"end_schedule\", \"расписание в плановом периоде\": \"plan_schedule\"})"
   ]
  },
  {
   "cell_type": "code",
   "execution_count": 5,
   "id": "bacc6fb9",
   "metadata": {},
   "outputs": [
    {
     "data": {
      "text/html": [
       "<div>\n",
       "<style scoped>\n",
       "    .dataframe tbody tr th:only-of-type {\n",
       "        vertical-align: middle;\n",
       "    }\n",
       "\n",
       "    .dataframe tbody tr th {\n",
       "        vertical-align: top;\n",
       "    }\n",
       "\n",
       "    .dataframe thead th {\n",
       "        text-align: right;\n",
       "    }\n",
       "</style>\n",
       "<table border=\"1\" class=\"dataframe\">\n",
       "  <thead>\n",
       "    <tr style=\"text-align: right;\">\n",
       "      <th></th>\n",
       "      <th>numgroup</th>\n",
       "      <th>type1</th>\n",
       "      <th>type2</th>\n",
       "      <th>type3</th>\n",
       "      <th>addres</th>\n",
       "      <th>okrug</th>\n",
       "      <th>region</th>\n",
       "      <th>active_schedule</th>\n",
       "      <th>end_schedule</th>\n",
       "      <th>plan_schedule</th>\n",
       "    </tr>\n",
       "  </thead>\n",
       "  <tbody>\n",
       "    <tr>\n",
       "      <th>0</th>\n",
       "      <td>801357270</td>\n",
       "      <td>Физическая активность</td>\n",
       "      <td>ОФП</td>\n",
       "      <td>ОФП</td>\n",
       "      <td>город Москва, Саратовская улица, дом 16, корпус 2</td>\n",
       "      <td>Юго-Восточный административный округ</td>\n",
       "      <td>муниципальный округ Текстильщики</td>\n",
       "      <td>NaN</td>\n",
       "      <td>c 01.01.2023 по 31.03.2023, Пн., Ср. 19:10-20:...</td>\n",
       "      <td>NaN</td>\n",
       "    </tr>\n",
       "    <tr>\n",
       "      <th>1</th>\n",
       "      <td>801356857</td>\n",
       "      <td>Физическая активность</td>\n",
       "      <td>ОФП</td>\n",
       "      <td>ОФП</td>\n",
       "      <td>город Москва, Подольская улица, дом 5</td>\n",
       "      <td>Юго-Восточный административный округ</td>\n",
       "      <td>муниципальный округ Марьино</td>\n",
       "      <td>NaN</td>\n",
       "      <td>c 09.01.2023 по 31.03.2023, Вт., Чт. 10:00-11:...</td>\n",
       "      <td>NaN</td>\n",
       "    </tr>\n",
       "    <tr>\n",
       "      <th>2</th>\n",
       "      <td>801351684</td>\n",
       "      <td>Физическая активность</td>\n",
       "      <td>ОФП</td>\n",
       "      <td>ОФП</td>\n",
       "      <td>г. Москва, Базовская улица, дом 15, строение 1...</td>\n",
       "      <td>Северный административный округ, Северный адми...</td>\n",
       "      <td>муниципальный округ Западное Дегунино, муницип...</td>\n",
       "      <td>NaN</td>\n",
       "      <td>c 09.01.2023 по 31.03.2023, Вт., Чт. 19:00-20:...</td>\n",
       "      <td>NaN</td>\n",
       "    </tr>\n",
       "    <tr>\n",
       "      <th>3</th>\n",
       "      <td>801353683</td>\n",
       "      <td>Физическая активность</td>\n",
       "      <td>ОФП</td>\n",
       "      <td>ОФП</td>\n",
       "      <td>город Москва, улица Обручева, дом 28А, город М...</td>\n",
       "      <td>Юго-Западный административный округ, Юго-Запад...</td>\n",
       "      <td>муниципальный округ Обручевский, муниципальный...</td>\n",
       "      <td>NaN</td>\n",
       "      <td>c 09.01.2023 по 31.03.2023, Пн., Ср. 13:30-14:...</td>\n",
       "      <td>NaN</td>\n",
       "    </tr>\n",
       "    <tr>\n",
       "      <th>4</th>\n",
       "      <td>801352164</td>\n",
       "      <td>Физическая активность</td>\n",
       "      <td>ОФП</td>\n",
       "      <td>ОФП</td>\n",
       "      <td>город Москва, Воронцовский парк, дом 3, город ...</td>\n",
       "      <td>Юго-Западный административный округ, Юго-Запад...</td>\n",
       "      <td>муниципальный округ Обручевский, муниципальный...</td>\n",
       "      <td>NaN</td>\n",
       "      <td>c 10.01.2023 по 28.02.2023, Вт., Пт. 12:00-13:...</td>\n",
       "      <td>NaN</td>\n",
       "    </tr>\n",
       "  </tbody>\n",
       "</table>\n",
       "</div>"
      ],
      "text/plain": [
       "    numgroup                  type1 type2 type3  \\\n",
       "0  801357270  Физическая активность   ОФП   ОФП   \n",
       "1  801356857  Физическая активность   ОФП   ОФП   \n",
       "2  801351684  Физическая активность   ОФП   ОФП   \n",
       "3  801353683  Физическая активность   ОФП   ОФП   \n",
       "4  801352164  Физическая активность   ОФП   ОФП   \n",
       "\n",
       "                                              addres  \\\n",
       "0  город Москва, Саратовская улица, дом 16, корпус 2   \n",
       "1              город Москва, Подольская улица, дом 5   \n",
       "2  г. Москва, Базовская улица, дом 15, строение 1...   \n",
       "3  город Москва, улица Обручева, дом 28А, город М...   \n",
       "4  город Москва, Воронцовский парк, дом 3, город ...   \n",
       "\n",
       "                                               okrug  \\\n",
       "0               Юго-Восточный административный округ   \n",
       "1               Юго-Восточный административный округ   \n",
       "2  Северный административный округ, Северный адми...   \n",
       "3  Юго-Западный административный округ, Юго-Запад...   \n",
       "4  Юго-Западный административный округ, Юго-Запад...   \n",
       "\n",
       "                                              region active_schedule  \\\n",
       "0                   муниципальный округ Текстильщики             NaN   \n",
       "1                        муниципальный округ Марьино             NaN   \n",
       "2  муниципальный округ Западное Дегунино, муницип...             NaN   \n",
       "3  муниципальный округ Обручевский, муниципальный...             NaN   \n",
       "4  муниципальный округ Обручевский, муниципальный...             NaN   \n",
       "\n",
       "                                        end_schedule plan_schedule  \n",
       "0  c 01.01.2023 по 31.03.2023, Пн., Ср. 19:10-20:...           NaN  \n",
       "1  c 09.01.2023 по 31.03.2023, Вт., Чт. 10:00-11:...           NaN  \n",
       "2  c 09.01.2023 по 31.03.2023, Вт., Чт. 19:00-20:...           NaN  \n",
       "3  c 09.01.2023 по 31.03.2023, Пн., Ср. 13:30-14:...           NaN  \n",
       "4  c 10.01.2023 по 28.02.2023, Вт., Пт. 12:00-13:...           NaN  "
      ]
     },
     "execution_count": 5,
     "metadata": {},
     "output_type": "execute_result"
    }
   ],
   "source": [
    "groups.head()"
   ]
  },
  {
   "cell_type": "code",
   "execution_count": 6,
   "id": "4a799b80",
   "metadata": {
    "scrolled": true
   },
   "outputs": [
    {
     "data": {
      "text/plain": [
       "numgroup               0\n",
       "type1                  0\n",
       "type2                  0\n",
       "type3                  0\n",
       "addres                 0\n",
       "okrug               3982\n",
       "region              3982\n",
       "active_schedule    20481\n",
       "end_schedule        5360\n",
       "plan_schedule      26936\n",
       "dtype: int64"
      ]
     },
     "execution_count": 6,
     "metadata": {},
     "output_type": "execute_result"
    }
   ],
   "source": [
    "groups.isnull().sum()"
   ]
  },
  {
   "cell_type": "code",
   "execution_count": 7,
   "id": "f90fe7bc",
   "metadata": {},
   "outputs": [
    {
     "data": {
      "text/html": [
       "<div>\n",
       "<style scoped>\n",
       "    .dataframe tbody tr th:only-of-type {\n",
       "        vertical-align: middle;\n",
       "    }\n",
       "\n",
       "    .dataframe tbody tr th {\n",
       "        vertical-align: top;\n",
       "    }\n",
       "\n",
       "    .dataframe thead th {\n",
       "        text-align: right;\n",
       "    }\n",
       "</style>\n",
       "<table border=\"1\" class=\"dataframe\">\n",
       "  <thead>\n",
       "    <tr style=\"text-align: right;\">\n",
       "      <th></th>\n",
       "      <th>уникальный номер занятия</th>\n",
       "      <th>уникальный номер группы</th>\n",
       "      <th>уникальный номер участника</th>\n",
       "      <th>направление 2</th>\n",
       "      <th>направление 3</th>\n",
       "      <th>онлайн/офлайн</th>\n",
       "      <th>дата занятия</th>\n",
       "      <th>время начала занятия</th>\n",
       "      <th>время окончания занятия</th>\n",
       "    </tr>\n",
       "  </thead>\n",
       "  <tbody>\n",
       "    <tr>\n",
       "      <th>0</th>\n",
       "      <td>401346550</td>\n",
       "      <td>801346550</td>\n",
       "      <td>101352023</td>\n",
       "      <td>ОНЛАЙН Гимнастика</td>\n",
       "      <td>ОНЛАЙН Цигун</td>\n",
       "      <td>Да</td>\n",
       "      <td>2022-08-01</td>\n",
       "      <td>09:00:00</td>\n",
       "      <td>10:00:00</td>\n",
       "    </tr>\n",
       "    <tr>\n",
       "      <th>1</th>\n",
       "      <td>401346550</td>\n",
       "      <td>801346550</td>\n",
       "      <td>101385462</td>\n",
       "      <td>ОНЛАЙН Гимнастика</td>\n",
       "      <td>ОНЛАЙН Цигун</td>\n",
       "      <td>Да</td>\n",
       "      <td>2022-08-01</td>\n",
       "      <td>09:00:00</td>\n",
       "      <td>10:00:00</td>\n",
       "    </tr>\n",
       "    <tr>\n",
       "      <th>2</th>\n",
       "      <td>401346550</td>\n",
       "      <td>801346550</td>\n",
       "      <td>101421897</td>\n",
       "      <td>ОНЛАЙН Гимнастика</td>\n",
       "      <td>ОНЛАЙН Цигун</td>\n",
       "      <td>Да</td>\n",
       "      <td>2022-08-01</td>\n",
       "      <td>09:00:00</td>\n",
       "      <td>10:00:00</td>\n",
       "    </tr>\n",
       "    <tr>\n",
       "      <th>3</th>\n",
       "      <td>401346550</td>\n",
       "      <td>801346550</td>\n",
       "      <td>101354499</td>\n",
       "      <td>ОНЛАЙН Гимнастика</td>\n",
       "      <td>ОНЛАЙН Цигун</td>\n",
       "      <td>Да</td>\n",
       "      <td>2022-08-01</td>\n",
       "      <td>09:00:00</td>\n",
       "      <td>10:00:00</td>\n",
       "    </tr>\n",
       "    <tr>\n",
       "      <th>4</th>\n",
       "      <td>401346550</td>\n",
       "      <td>801346550</td>\n",
       "      <td>101421312</td>\n",
       "      <td>ОНЛАЙН Гимнастика</td>\n",
       "      <td>ОНЛАЙН Цигун</td>\n",
       "      <td>Да</td>\n",
       "      <td>2022-08-01</td>\n",
       "      <td>09:00:00</td>\n",
       "      <td>10:00:00</td>\n",
       "    </tr>\n",
       "  </tbody>\n",
       "</table>\n",
       "</div>"
      ],
      "text/plain": [
       "   уникальный номер занятия  уникальный номер группы  \\\n",
       "0                 401346550                801346550   \n",
       "1                 401346550                801346550   \n",
       "2                 401346550                801346550   \n",
       "3                 401346550                801346550   \n",
       "4                 401346550                801346550   \n",
       "\n",
       "   уникальный номер участника      направление 2 направление 3 онлайн/офлайн  \\\n",
       "0                   101352023  ОНЛАЙН Гимнастика  ОНЛАЙН Цигун            Да   \n",
       "1                   101385462  ОНЛАЙН Гимнастика  ОНЛАЙН Цигун            Да   \n",
       "2                   101421897  ОНЛАЙН Гимнастика  ОНЛАЙН Цигун            Да   \n",
       "3                   101354499  ОНЛАЙН Гимнастика  ОНЛАЙН Цигун            Да   \n",
       "4                   101421312  ОНЛАЙН Гимнастика  ОНЛАЙН Цигун            Да   \n",
       "\n",
       "  дата занятия время начала занятия время окончания занятия  \n",
       "0   2022-08-01             09:00:00                10:00:00  \n",
       "1   2022-08-01             09:00:00                10:00:00  \n",
       "2   2022-08-01             09:00:00                10:00:00  \n",
       "3   2022-08-01             09:00:00                10:00:00  \n",
       "4   2022-08-01             09:00:00                10:00:00  "
      ]
     },
     "execution_count": 7,
     "metadata": {},
     "output_type": "execute_result"
    }
   ],
   "source": [
    "attend.head()"
   ]
  },
  {
   "cell_type": "code",
   "execution_count": 8,
   "id": "8ebb095d",
   "metadata": {},
   "outputs": [
    {
     "name": "stdout",
     "output_type": "stream",
     "text": [
      "<class 'pandas.core.frame.DataFrame'>\n",
      "RangeIndex: 5901274 entries, 0 to 5901273\n",
      "Data columns (total 9 columns):\n",
      " #   Column      Dtype \n",
      "---  ------      ----- \n",
      " 0   numzan      int64 \n",
      " 1   numgroup    int64 \n",
      " 2   numclient   int64 \n",
      " 3   type2       object\n",
      " 4   type3       object\n",
      " 5   online      object\n",
      " 6   date        object\n",
      " 7   time_begin  object\n",
      " 8   time_end    object\n",
      "dtypes: int64(3), object(6)\n",
      "memory usage: 405.2+ MB\n"
     ]
    }
   ],
   "source": [
    "#Переименовываю столбцы\n",
    "attend = attend.rename(columns={\"уникальный номер занятия\": \"numzan\", \"уникальный номер группы\": \"numgroup\", \"уникальный номер участника\": \"numclient\",\n",
    "                               \"направление 2\": \"type2\", \"направление 3\": \"type3\", \"онлайн/офлайн\": \"online\", \"дата занятия\": \"date\",\n",
    "                               \"время начала занятия\": \"time_begin\", \"время окончания занятия\": \"time_end\"})\n",
    "attend.info()"
   ]
  },
  {
   "cell_type": "code",
   "execution_count": 9,
   "id": "31f2f7b0",
   "metadata": {},
   "outputs": [
    {
     "data": {
      "text/plain": [
       "numzan        0\n",
       "numgroup      0\n",
       "numclient     0\n",
       "type2         0\n",
       "type3         0\n",
       "online        0\n",
       "date          0\n",
       "time_begin    0\n",
       "time_end      0\n",
       "dtype: int64"
      ]
     },
     "execution_count": 9,
     "metadata": {},
     "output_type": "execute_result"
    }
   ],
   "source": [
    "#Смотрим пропущенные значения - пропущенных нет\n",
    "attend.isnull().sum()"
   ]
  },
  {
   "cell_type": "code",
   "execution_count": 10,
   "id": "e05fd88d",
   "metadata": {},
   "outputs": [
    {
     "data": {
      "text/html": [
       "<div>\n",
       "<style scoped>\n",
       "    .dataframe tbody tr th:only-of-type {\n",
       "        vertical-align: middle;\n",
       "    }\n",
       "\n",
       "    .dataframe tbody tr th {\n",
       "        vertical-align: top;\n",
       "    }\n",
       "\n",
       "    .dataframe thead th {\n",
       "        text-align: right;\n",
       "    }\n",
       "</style>\n",
       "<table border=\"1\" class=\"dataframe\">\n",
       "  <thead>\n",
       "    <tr style=\"text-align: right;\">\n",
       "      <th></th>\n",
       "      <th>numzan</th>\n",
       "      <th>numgroup</th>\n",
       "      <th>numclient</th>\n",
       "      <th>type2</th>\n",
       "      <th>type3</th>\n",
       "      <th>online</th>\n",
       "      <th>date</th>\n",
       "      <th>time_begin</th>\n",
       "      <th>time_end</th>\n",
       "    </tr>\n",
       "  </thead>\n",
       "  <tbody>\n",
       "    <tr>\n",
       "      <th>0</th>\n",
       "      <td>401346550</td>\n",
       "      <td>801346550</td>\n",
       "      <td>101352023</td>\n",
       "      <td>ОНЛАЙН Гимнастика</td>\n",
       "      <td>ОНЛАЙН Цигун</td>\n",
       "      <td>Yes</td>\n",
       "      <td>2022-08-01</td>\n",
       "      <td>09:00:00</td>\n",
       "      <td>10:00:00</td>\n",
       "    </tr>\n",
       "    <tr>\n",
       "      <th>1</th>\n",
       "      <td>401346550</td>\n",
       "      <td>801346550</td>\n",
       "      <td>101385462</td>\n",
       "      <td>ОНЛАЙН Гимнастика</td>\n",
       "      <td>ОНЛАЙН Цигун</td>\n",
       "      <td>Yes</td>\n",
       "      <td>2022-08-01</td>\n",
       "      <td>09:00:00</td>\n",
       "      <td>10:00:00</td>\n",
       "    </tr>\n",
       "    <tr>\n",
       "      <th>2</th>\n",
       "      <td>401346550</td>\n",
       "      <td>801346550</td>\n",
       "      <td>101421897</td>\n",
       "      <td>ОНЛАЙН Гимнастика</td>\n",
       "      <td>ОНЛАЙН Цигун</td>\n",
       "      <td>Yes</td>\n",
       "      <td>2022-08-01</td>\n",
       "      <td>09:00:00</td>\n",
       "      <td>10:00:00</td>\n",
       "    </tr>\n",
       "    <tr>\n",
       "      <th>3</th>\n",
       "      <td>401346550</td>\n",
       "      <td>801346550</td>\n",
       "      <td>101354499</td>\n",
       "      <td>ОНЛАЙН Гимнастика</td>\n",
       "      <td>ОНЛАЙН Цигун</td>\n",
       "      <td>Yes</td>\n",
       "      <td>2022-08-01</td>\n",
       "      <td>09:00:00</td>\n",
       "      <td>10:00:00</td>\n",
       "    </tr>\n",
       "    <tr>\n",
       "      <th>4</th>\n",
       "      <td>401346550</td>\n",
       "      <td>801346550</td>\n",
       "      <td>101421312</td>\n",
       "      <td>ОНЛАЙН Гимнастика</td>\n",
       "      <td>ОНЛАЙН Цигун</td>\n",
       "      <td>Yes</td>\n",
       "      <td>2022-08-01</td>\n",
       "      <td>09:00:00</td>\n",
       "      <td>10:00:00</td>\n",
       "    </tr>\n",
       "  </tbody>\n",
       "</table>\n",
       "</div>"
      ],
      "text/plain": [
       "      numzan   numgroup  numclient              type2         type3 online  \\\n",
       "0  401346550  801346550  101352023  ОНЛАЙН Гимнастика  ОНЛАЙН Цигун    Yes   \n",
       "1  401346550  801346550  101385462  ОНЛАЙН Гимнастика  ОНЛАЙН Цигун    Yes   \n",
       "2  401346550  801346550  101421897  ОНЛАЙН Гимнастика  ОНЛАЙН Цигун    Yes   \n",
       "3  401346550  801346550  101354499  ОНЛАЙН Гимнастика  ОНЛАЙН Цигун    Yes   \n",
       "4  401346550  801346550  101421312  ОНЛАЙН Гимнастика  ОНЛАЙН Цигун    Yes   \n",
       "\n",
       "         date time_begin  time_end  \n",
       "0  2022-08-01   09:00:00  10:00:00  \n",
       "1  2022-08-01   09:00:00  10:00:00  \n",
       "2  2022-08-01   09:00:00  10:00:00  \n",
       "3  2022-08-01   09:00:00  10:00:00  \n",
       "4  2022-08-01   09:00:00  10:00:00  "
      ]
     },
     "execution_count": 10,
     "metadata": {},
     "output_type": "execute_result"
    }
   ],
   "source": [
    "#Значение Да/Нет преобразовываю в True/False\n",
    "d = {'Нет':'No', 'Да':'Yes'}\n",
    "attend['online'] = attend['online'].map(d)\n",
    "attend.head()"
   ]
  },
  {
   "cell_type": "code",
   "execution_count": 11,
   "id": "6d9f2f70",
   "metadata": {},
   "outputs": [],
   "source": [
    "attend['date'] = attend['date'].astype(\"datetime64[ns]\") #Дату преобразовал в формат даты"
   ]
  },
  {
   "cell_type": "code",
   "execution_count": 12,
   "id": "e1c7f8af",
   "metadata": {},
   "outputs": [
    {
     "data": {
      "text/html": [
       "<div>\n",
       "<style scoped>\n",
       "    .dataframe tbody tr th:only-of-type {\n",
       "        vertical-align: middle;\n",
       "    }\n",
       "\n",
       "    .dataframe tbody tr th {\n",
       "        vertical-align: top;\n",
       "    }\n",
       "\n",
       "    .dataframe thead th {\n",
       "        text-align: right;\n",
       "    }\n",
       "</style>\n",
       "<table border=\"1\" class=\"dataframe\">\n",
       "  <thead>\n",
       "    <tr style=\"text-align: right;\">\n",
       "      <th></th>\n",
       "      <th>online</th>\n",
       "      <th>type2</th>\n",
       "      <th>type3</th>\n",
       "    </tr>\n",
       "    <tr>\n",
       "      <th>numgroup</th>\n",
       "      <th></th>\n",
       "      <th></th>\n",
       "      <th></th>\n",
       "    </tr>\n",
       "  </thead>\n",
       "  <tbody>\n",
       "    <tr>\n",
       "      <th>801346549</th>\n",
       "      <td>30</td>\n",
       "      <td>30</td>\n",
       "      <td>30</td>\n",
       "    </tr>\n",
       "    <tr>\n",
       "      <th>801346550</th>\n",
       "      <td>855</td>\n",
       "      <td>855</td>\n",
       "      <td>855</td>\n",
       "    </tr>\n",
       "    <tr>\n",
       "      <th>801346551</th>\n",
       "      <td>451</td>\n",
       "      <td>451</td>\n",
       "      <td>451</td>\n",
       "    </tr>\n",
       "    <tr>\n",
       "      <th>801346552</th>\n",
       "      <td>388</td>\n",
       "      <td>388</td>\n",
       "      <td>388</td>\n",
       "    </tr>\n",
       "    <tr>\n",
       "      <th>801346553</th>\n",
       "      <td>2239</td>\n",
       "      <td>2239</td>\n",
       "      <td>2239</td>\n",
       "    </tr>\n",
       "  </tbody>\n",
       "</table>\n",
       "</div>"
      ],
      "text/plain": [
       "           online  type2  type3\n",
       "numgroup                       \n",
       "801346549      30     30     30\n",
       "801346550     855    855    855\n",
       "801346551     451    451    451\n",
       "801346552     388    388    388\n",
       "801346553    2239   2239   2239"
      ]
     },
     "execution_count": 12,
     "metadata": {},
     "output_type": "execute_result"
    }
   ],
   "source": [
    "columns_to_show = ['type2', 'type3', 'online']\n",
    "attend.pivot_table(columns_to_show, ['numgroup'], aggfunc='count').head()"
   ]
  },
  {
   "cell_type": "code",
   "execution_count": 13,
   "id": "02d2089a",
   "metadata": {},
   "outputs": [
    {
     "data": {
      "text/plain": [
       "24535"
      ]
     },
     "execution_count": 13,
     "metadata": {},
     "output_type": "execute_result"
    }
   ],
   "source": [
    "attend.numgroup.nunique() #Количество уникальных групп"
   ]
  },
  {
   "cell_type": "code",
   "execution_count": 14,
   "id": "65898e82",
   "metadata": {},
   "outputs": [
    {
     "data": {
      "text/plain": [
       "647132"
      ]
     },
     "execution_count": 14,
     "metadata": {},
     "output_type": "execute_result"
    }
   ],
   "source": [
    "attend.numzan.nunique() #Количество уникальных занятий"
   ]
  },
  {
   "cell_type": "code",
   "execution_count": 15,
   "id": "02ccc5b9",
   "metadata": {},
   "outputs": [
    {
     "data": {
      "text/plain": [
       "50906"
      ]
     },
     "execution_count": 15,
     "metadata": {},
     "output_type": "execute_result"
    }
   ],
   "source": [
    "attend.numclient.nunique() #Уникальное количество пользователей всего"
   ]
  },
  {
   "cell_type": "code",
   "execution_count": 16,
   "id": "85d8bd43",
   "metadata": {},
   "outputs": [
    {
     "data": {
      "text/html": [
       "<div>\n",
       "<style scoped>\n",
       "    .dataframe tbody tr th:only-of-type {\n",
       "        vertical-align: middle;\n",
       "    }\n",
       "\n",
       "    .dataframe tbody tr th {\n",
       "        vertical-align: top;\n",
       "    }\n",
       "\n",
       "    .dataframe thead th {\n",
       "        text-align: right;\n",
       "    }\n",
       "</style>\n",
       "<table border=\"1\" class=\"dataframe\">\n",
       "  <thead>\n",
       "    <tr style=\"text-align: right;\">\n",
       "      <th></th>\n",
       "      <th></th>\n",
       "      <th>numgroup</th>\n",
       "    </tr>\n",
       "    <tr>\n",
       "      <th>numclient</th>\n",
       "      <th>type2</th>\n",
       "      <th></th>\n",
       "    </tr>\n",
       "  </thead>\n",
       "  <tbody>\n",
       "    <tr>\n",
       "      <th>101387204</th>\n",
       "      <th>ОНЛАЙН Художественно-прикладное творчество</th>\n",
       "      <td>743</td>\n",
       "    </tr>\n",
       "    <tr>\n",
       "      <th>101426166</th>\n",
       "      <th>ОНЛАЙН Рисование</th>\n",
       "      <td>628</td>\n",
       "    </tr>\n",
       "    <tr>\n",
       "      <th>101391680</th>\n",
       "      <th>ОНЛАЙН Рисование</th>\n",
       "      <td>621</td>\n",
       "    </tr>\n",
       "    <tr>\n",
       "      <th>101354085</th>\n",
       "      <th>ОНЛАЙН Художественно-прикладное творчество</th>\n",
       "      <td>569</td>\n",
       "    </tr>\n",
       "    <tr>\n",
       "      <th>101358683</th>\n",
       "      <th>ОНЛАЙН Рисование</th>\n",
       "      <td>567</td>\n",
       "    </tr>\n",
       "  </tbody>\n",
       "</table>\n",
       "</div>"
      ],
      "text/plain": [
       "                                                      numgroup\n",
       "numclient type2                                               \n",
       "101387204 ОНЛАЙН Художественно-прикладное творчество       743\n",
       "101426166 ОНЛАЙН Рисование                                 628\n",
       "101391680 ОНЛАЙН Рисование                                 621\n",
       "101354085 ОНЛАЙН Художественно-прикладное творчество       569\n",
       "101358683 ОНЛАЙН Рисование                                 567"
      ]
     },
     "execution_count": 16,
     "metadata": {},
     "output_type": "execute_result"
    }
   ],
   "source": [
    "# ТОП пользователей по группам \n",
    "attend\\\n",
    "    .groupby(['numclient', 'type2']) \\\n",
    "    .agg({'numgroup':'count'}) \\\n",
    "    .sort_values(by=['numgroup'], ascending=False).head() "
   ]
  },
  {
   "cell_type": "code",
   "execution_count": 17,
   "id": "f10a5a84",
   "metadata": {},
   "outputs": [
    {
     "data": {
      "text/html": [
       "<div>\n",
       "<style scoped>\n",
       "    .dataframe tbody tr th:only-of-type {\n",
       "        vertical-align: middle;\n",
       "    }\n",
       "\n",
       "    .dataframe tbody tr th {\n",
       "        vertical-align: top;\n",
       "    }\n",
       "\n",
       "    .dataframe thead th {\n",
       "        text-align: right;\n",
       "    }\n",
       "</style>\n",
       "<table border=\"1\" class=\"dataframe\">\n",
       "  <thead>\n",
       "    <tr style=\"text-align: right;\">\n",
       "      <th></th>\n",
       "      <th>type2</th>\n",
       "      <th>type3</th>\n",
       "      <th>online</th>\n",
       "      <th>numclient</th>\n",
       "    </tr>\n",
       "  </thead>\n",
       "  <tbody>\n",
       "    <tr>\n",
       "      <th>0</th>\n",
       "      <td>ОНЛАЙН Красота и стиль</td>\n",
       "      <td>ОНЛАЙН Мастер-класс по уходу за кожей в зрелом...</td>\n",
       "      <td>Yes</td>\n",
       "      <td>413095</td>\n",
       "    </tr>\n",
       "    <tr>\n",
       "      <th>1</th>\n",
       "      <td>ОНЛАЙН Гимнастика</td>\n",
       "      <td>ОНЛАЙН Гимнастика</td>\n",
       "      <td>Yes</td>\n",
       "      <td>209704</td>\n",
       "    </tr>\n",
       "    <tr>\n",
       "      <th>2</th>\n",
       "      <td>Скандинавская ходьба</td>\n",
       "      <td>Скандинавская ходьба</td>\n",
       "      <td>No</td>\n",
       "      <td>182593</td>\n",
       "    </tr>\n",
       "    <tr>\n",
       "      <th>3</th>\n",
       "      <td>ОНЛАЙН Гимнастика</td>\n",
       "      <td>ОНЛАЙН Суставная гимнастика</td>\n",
       "      <td>Yes</td>\n",
       "      <td>173138</td>\n",
       "    </tr>\n",
       "    <tr>\n",
       "      <th>4</th>\n",
       "      <td>ОНЛАЙН Психология и коммуникации</td>\n",
       "      <td>ОНЛАЙН Психологические тренинги</td>\n",
       "      <td>Yes</td>\n",
       "      <td>145011</td>\n",
       "    </tr>\n",
       "  </tbody>\n",
       "</table>\n",
       "</div>"
      ],
      "text/plain": [
       "                              type2  \\\n",
       "0            ОНЛАЙН Красота и стиль   \n",
       "1                 ОНЛАЙН Гимнастика   \n",
       "2              Скандинавская ходьба   \n",
       "3                 ОНЛАЙН Гимнастика   \n",
       "4  ОНЛАЙН Психология и коммуникации   \n",
       "\n",
       "                                               type3 online  numclient  \n",
       "0  ОНЛАЙН Мастер-класс по уходу за кожей в зрелом...    Yes     413095  \n",
       "1                                  ОНЛАЙН Гимнастика    Yes     209704  \n",
       "2                               Скандинавская ходьба     No     182593  \n",
       "3                        ОНЛАЙН Суставная гимнастика    Yes     173138  \n",
       "4                    ОНЛАЙН Психологические тренинги    Yes     145011  "
      ]
     },
     "execution_count": 17,
     "metadata": {},
     "output_type": "execute_result"
    }
   ],
   "source": [
    "# Количество пользователей посетивших различные занятия\n",
    "attend.groupby(['type2', 'type3', 'online']).agg({\"numclient\": 'count'})\\\n",
    "    .sort_values(by=['numclient'], ascending=False).reset_index().head()"
   ]
  },
  {
   "cell_type": "code",
   "execution_count": 18,
   "id": "b73e1b58",
   "metadata": {},
   "outputs": [
    {
     "data": {
      "text/plain": [
       "101415587"
      ]
     },
     "execution_count": 18,
     "metadata": {},
     "output_type": "execute_result"
    }
   ],
   "source": [
    "# ID пользователя с минимальной активностью за год\n",
    "attend.groupby(['numclient'])['date'].nunique().idxmin()"
   ]
  },
  {
   "cell_type": "code",
   "execution_count": 19,
   "id": "261546c4",
   "metadata": {},
   "outputs": [
    {
     "data": {
      "text/plain": [
       "101420479"
      ]
     },
     "execution_count": 19,
     "metadata": {},
     "output_type": "execute_result"
    }
   ],
   "source": [
    "# ID пользователя с максимальной активностью за год\n",
    "attend.groupby(['numclient'])['date'].nunique().idxmax()"
   ]
  },
  {
   "cell_type": "code",
   "execution_count": 20,
   "id": "d40ca9b9",
   "metadata": {},
   "outputs": [
    {
     "data": {
      "text/html": [
       "<div>\n",
       "<style scoped>\n",
       "    .dataframe tbody tr th:only-of-type {\n",
       "        vertical-align: middle;\n",
       "    }\n",
       "\n",
       "    .dataframe tbody tr th {\n",
       "        vertical-align: top;\n",
       "    }\n",
       "\n",
       "    .dataframe thead th {\n",
       "        text-align: right;\n",
       "    }\n",
       "</style>\n",
       "<table border=\"1\" class=\"dataframe\">\n",
       "  <thead>\n",
       "    <tr style=\"text-align: right;\">\n",
       "      <th></th>\n",
       "      <th>type3</th>\n",
       "    </tr>\n",
       "    <tr>\n",
       "      <th>type2</th>\n",
       "      <th></th>\n",
       "    </tr>\n",
       "  </thead>\n",
       "  <tbody>\n",
       "    <tr>\n",
       "      <th>ОНЛАЙН Красота и стиль</th>\n",
       "      <td>229</td>\n",
       "    </tr>\n",
       "    <tr>\n",
       "      <th>ОНЛАЙН Гимнастика</th>\n",
       "      <td>146</td>\n",
       "    </tr>\n",
       "    <tr>\n",
       "      <th>ОНЛАЙН Здорово жить</th>\n",
       "      <td>127</td>\n",
       "    </tr>\n",
       "    <tr>\n",
       "      <th>ОНЛАЙН Психология и коммуникации</th>\n",
       "      <td>81</td>\n",
       "    </tr>\n",
       "    <tr>\n",
       "      <th>ОНЛАЙН ОФП</th>\n",
       "      <td>80</td>\n",
       "    </tr>\n",
       "  </tbody>\n",
       "</table>\n",
       "</div>"
      ],
      "text/plain": [
       "                                  type3\n",
       "type2                                  \n",
       "ОНЛАЙН Красота и стиль              229\n",
       "ОНЛАЙН Гимнастика                   146\n",
       "ОНЛАЙН Здорово жить                 127\n",
       "ОНЛАЙН Психология и коммуникации     81\n",
       "ОНЛАЙН ОФП                           80"
      ]
     },
     "execution_count": 20,
     "metadata": {},
     "output_type": "execute_result"
    }
   ],
   "source": [
    "#Пользователь с максимальной активностью за год\n",
    "attend.query('numclient == 101420479').groupby('type2').agg({'type3':'count'})\\\n",
    "    .sort_values(by=['type3'], ascending=False)"
   ]
  },
  {
   "cell_type": "code",
   "execution_count": 21,
   "id": "c82e95aa",
   "metadata": {},
   "outputs": [
    {
     "data": {
      "text/html": [
       "<div>\n",
       "<style scoped>\n",
       "    .dataframe tbody tr th:only-of-type {\n",
       "        vertical-align: middle;\n",
       "    }\n",
       "\n",
       "    .dataframe tbody tr th {\n",
       "        vertical-align: top;\n",
       "    }\n",
       "\n",
       "    .dataframe thead th {\n",
       "        text-align: right;\n",
       "    }\n",
       "</style>\n",
       "<table border=\"1\" class=\"dataframe\">\n",
       "  <thead>\n",
       "    <tr style=\"text-align: right;\">\n",
       "      <th></th>\n",
       "      <th>type3</th>\n",
       "    </tr>\n",
       "    <tr>\n",
       "      <th>type2</th>\n",
       "      <th></th>\n",
       "    </tr>\n",
       "  </thead>\n",
       "  <tbody>\n",
       "    <tr>\n",
       "      <th>Информационные технологии</th>\n",
       "      <td>5</td>\n",
       "    </tr>\n",
       "  </tbody>\n",
       "</table>\n",
       "</div>"
      ],
      "text/plain": [
       "                           type3\n",
       "type2                           \n",
       "Информационные технологии      5"
      ]
     },
     "execution_count": 21,
     "metadata": {},
     "output_type": "execute_result"
    }
   ],
   "source": [
    "#Пользователь с минимальной активностью за год\n",
    "attend.query('numclient == 101415587').groupby('type2').agg({'type3':'count'})\\\n",
    "    .sort_values(by=['type3'], ascending=False)"
   ]
  },
  {
   "cell_type": "code",
   "execution_count": 22,
   "id": "8ce45ea2",
   "metadata": {},
   "outputs": [
    {
     "data": {
      "text/html": [
       "<div>\n",
       "<style scoped>\n",
       "    .dataframe tbody tr th:only-of-type {\n",
       "        vertical-align: middle;\n",
       "    }\n",
       "\n",
       "    .dataframe tbody tr th {\n",
       "        vertical-align: top;\n",
       "    }\n",
       "\n",
       "    .dataframe thead th {\n",
       "        text-align: right;\n",
       "    }\n",
       "</style>\n",
       "<table border=\"1\" class=\"dataframe\">\n",
       "  <thead>\n",
       "    <tr style=\"text-align: right;\">\n",
       "      <th></th>\n",
       "      <th>numzan</th>\n",
       "    </tr>\n",
       "    <tr>\n",
       "      <th>online</th>\n",
       "      <th></th>\n",
       "    </tr>\n",
       "  </thead>\n",
       "  <tbody>\n",
       "    <tr>\n",
       "      <th>No</th>\n",
       "      <td>412908</td>\n",
       "    </tr>\n",
       "    <tr>\n",
       "      <th>Yes</th>\n",
       "      <td>234224</td>\n",
       "    </tr>\n",
       "  </tbody>\n",
       "</table>\n",
       "</div>"
      ],
      "text/plain": [
       "        numzan\n",
       "online        \n",
       "No      412908\n",
       "Yes     234224"
      ]
     },
     "execution_count": 22,
     "metadata": {},
     "output_type": "execute_result"
    }
   ],
   "source": [
    "attend.groupby('online').agg({'numzan':'nunique'})\\\n",
    "    .sort_values(by=['numzan'], ascending=False).head()"
   ]
  },
  {
   "cell_type": "code",
   "execution_count": 23,
   "id": "86fc06e2",
   "metadata": {},
   "outputs": [
    {
     "name": "stdout",
     "output_type": "stream",
     "text": [
      "Занятий онлайн: 36.19%\n",
      "Занятий офлайн: 63.81%\n"
     ]
    }
   ],
   "source": [
    "print(f'''Занятий онлайн: {100*(234224/647132):.2f}%\n",
    "Занятий офлайн: {100*(412908/647132):.2f}%''')"
   ]
  },
  {
   "cell_type": "code",
   "execution_count": 24,
   "id": "f2d9e030",
   "metadata": {},
   "outputs": [
    {
     "data": {
      "text/html": [
       "<div>\n",
       "<style scoped>\n",
       "    .dataframe tbody tr th:only-of-type {\n",
       "        vertical-align: middle;\n",
       "    }\n",
       "\n",
       "    .dataframe tbody tr th {\n",
       "        vertical-align: top;\n",
       "    }\n",
       "\n",
       "    .dataframe thead th {\n",
       "        text-align: right;\n",
       "    }\n",
       "</style>\n",
       "<table border=\"1\" class=\"dataframe\">\n",
       "  <thead>\n",
       "    <tr style=\"text-align: right;\">\n",
       "      <th></th>\n",
       "      <th>numgroup</th>\n",
       "    </tr>\n",
       "    <tr>\n",
       "      <th>online</th>\n",
       "      <th></th>\n",
       "    </tr>\n",
       "  </thead>\n",
       "  <tbody>\n",
       "    <tr>\n",
       "      <th>No</th>\n",
       "      <td>17185</td>\n",
       "    </tr>\n",
       "    <tr>\n",
       "      <th>Yes</th>\n",
       "      <td>7350</td>\n",
       "    </tr>\n",
       "  </tbody>\n",
       "</table>\n",
       "</div>"
      ],
      "text/plain": [
       "        numgroup\n",
       "online          \n",
       "No         17185\n",
       "Yes         7350"
      ]
     },
     "execution_count": 24,
     "metadata": {},
     "output_type": "execute_result"
    }
   ],
   "source": [
    "attend.groupby('online').agg({'numgroup':'nunique'})\\\n",
    "    .sort_values(by=['numgroup'], ascending=False).head()"
   ]
  },
  {
   "cell_type": "code",
   "execution_count": 25,
   "id": "2049c2ce",
   "metadata": {},
   "outputs": [
    {
     "name": "stdout",
     "output_type": "stream",
     "text": [
      "Групп онлайн: 29.96%\n",
      "Групп офлайн: 70.04%\n"
     ]
    }
   ],
   "source": [
    "print(f'''Групп онлайн: {100*(7350/24535):.2f}%\n",
    "Групп офлайн: {100*(17185/24535):.2f}%''')"
   ]
  },
  {
   "cell_type": "code",
   "execution_count": 26,
   "id": "38f07dec",
   "metadata": {},
   "outputs": [
    {
     "data": {
      "text/html": [
       "<div>\n",
       "<style scoped>\n",
       "    .dataframe tbody tr th:only-of-type {\n",
       "        vertical-align: middle;\n",
       "    }\n",
       "\n",
       "    .dataframe tbody tr th {\n",
       "        vertical-align: top;\n",
       "    }\n",
       "\n",
       "    .dataframe thead th {\n",
       "        text-align: right;\n",
       "    }\n",
       "</style>\n",
       "<table border=\"1\" class=\"dataframe\">\n",
       "  <thead>\n",
       "    <tr style=\"text-align: right;\">\n",
       "      <th></th>\n",
       "      <th>type3</th>\n",
       "    </tr>\n",
       "    <tr>\n",
       "      <th>type2</th>\n",
       "      <th></th>\n",
       "    </tr>\n",
       "  </thead>\n",
       "  <tbody>\n",
       "    <tr>\n",
       "      <th>ОНЛАЙН Гимнастика</th>\n",
       "      <td>819496</td>\n",
       "    </tr>\n",
       "    <tr>\n",
       "      <th>ОНЛАЙН Красота и стиль</th>\n",
       "      <td>461259</td>\n",
       "    </tr>\n",
       "    <tr>\n",
       "      <th>ОНЛАЙН Здорово жить</th>\n",
       "      <td>346469</td>\n",
       "    </tr>\n",
       "    <tr>\n",
       "      <th>ОНЛАЙН История, искусство, краеведение</th>\n",
       "      <td>294575</td>\n",
       "    </tr>\n",
       "    <tr>\n",
       "      <th>ОНЛАЙН Рисование</th>\n",
       "      <td>228054</td>\n",
       "    </tr>\n",
       "  </tbody>\n",
       "</table>\n",
       "</div>"
      ],
      "text/plain": [
       "                                         type3\n",
       "type2                                         \n",
       "ОНЛАЙН Гимнастика                       819496\n",
       "ОНЛАЙН Красота и стиль                  461259\n",
       "ОНЛАЙН Здорово жить                     346469\n",
       "ОНЛАЙН История, искусство, краеведение  294575\n",
       "ОНЛАЙН Рисование                        228054"
      ]
     },
     "execution_count": 26,
     "metadata": {},
     "output_type": "execute_result"
    }
   ],
   "source": [
    "# Онлайн программы по популярности\n",
    "attend.query('online == \"Yes\"').groupby('type2').agg({'type3':'count'})\\\n",
    "    .sort_values(by=['type3'], ascending=False).head()"
   ]
  },
  {
   "cell_type": "code",
   "execution_count": 27,
   "id": "23c91bab",
   "metadata": {},
   "outputs": [
    {
     "data": {
      "text/html": [
       "<div>\n",
       "<style scoped>\n",
       "    .dataframe tbody tr th:only-of-type {\n",
       "        vertical-align: middle;\n",
       "    }\n",
       "\n",
       "    .dataframe tbody tr th {\n",
       "        vertical-align: top;\n",
       "    }\n",
       "\n",
       "    .dataframe thead th {\n",
       "        text-align: right;\n",
       "    }\n",
       "</style>\n",
       "<table border=\"1\" class=\"dataframe\">\n",
       "  <thead>\n",
       "    <tr style=\"text-align: right;\">\n",
       "      <th></th>\n",
       "      <th>type3</th>\n",
       "    </tr>\n",
       "    <tr>\n",
       "      <th>type2</th>\n",
       "      <th></th>\n",
       "    </tr>\n",
       "  </thead>\n",
       "  <tbody>\n",
       "    <tr>\n",
       "      <th>Гимнастика</th>\n",
       "      <td>408361</td>\n",
       "    </tr>\n",
       "    <tr>\n",
       "      <th>Танцы</th>\n",
       "      <td>223793</td>\n",
       "    </tr>\n",
       "    <tr>\n",
       "      <th>Фитнес, тренажеры</th>\n",
       "      <td>210518</td>\n",
       "    </tr>\n",
       "    <tr>\n",
       "      <th>Скандинавская ходьба</th>\n",
       "      <td>182593</td>\n",
       "    </tr>\n",
       "    <tr>\n",
       "      <th>Спортивные игры</th>\n",
       "      <td>153462</td>\n",
       "    </tr>\n",
       "  </tbody>\n",
       "</table>\n",
       "</div>"
      ],
      "text/plain": [
       "                       type3\n",
       "type2                       \n",
       "Гимнастика            408361\n",
       "Танцы                 223793\n",
       "Фитнес, тренажеры     210518\n",
       "Скандинавская ходьба  182593\n",
       "Спортивные игры       153462"
      ]
     },
     "execution_count": 27,
     "metadata": {},
     "output_type": "execute_result"
    }
   ],
   "source": [
    "# Офлайн программы по популярности\n",
    "attend.query('online == \"No\"').groupby('type2').agg({'type3':'count'})\\\n",
    "    .sort_values(by=['type3'], ascending=False).head()"
   ]
  },
  {
   "cell_type": "code",
   "execution_count": 28,
   "id": "ee065759",
   "metadata": {},
   "outputs": [
    {
     "data": {
      "text/plain": [
       "Timedelta('333 days 00:00:00')"
      ]
     },
     "execution_count": 28,
     "metadata": {},
     "output_type": "execute_result"
    }
   ],
   "source": [
    "#Смотрим за какой отрезок времени наш датасет - 333 дня - 1 год\n",
    "attend['date'].max() - attend['date'].min()"
   ]
  },
  {
   "cell_type": "code",
   "execution_count": 29,
   "id": "bf89a8e2",
   "metadata": {},
   "outputs": [
    {
     "data": {
      "text/html": [
       "<div>\n",
       "<style scoped>\n",
       "    .dataframe tbody tr th:only-of-type {\n",
       "        vertical-align: middle;\n",
       "    }\n",
       "\n",
       "    .dataframe tbody tr th {\n",
       "        vertical-align: top;\n",
       "    }\n",
       "\n",
       "    .dataframe thead th {\n",
       "        text-align: right;\n",
       "    }\n",
       "</style>\n",
       "<table border=\"1\" class=\"dataframe\">\n",
       "  <thead>\n",
       "    <tr style=\"text-align: right;\">\n",
       "      <th></th>\n",
       "      <th>numgroup</th>\n",
       "      <th>type1</th>\n",
       "      <th>type2</th>\n",
       "      <th>type3</th>\n",
       "      <th>addres</th>\n",
       "      <th>okrug</th>\n",
       "      <th>region</th>\n",
       "      <th>active_schedule</th>\n",
       "      <th>end_schedule</th>\n",
       "      <th>plan_schedule</th>\n",
       "    </tr>\n",
       "  </thead>\n",
       "  <tbody>\n",
       "    <tr>\n",
       "      <th>0</th>\n",
       "      <td>801357270</td>\n",
       "      <td>Физическая активность</td>\n",
       "      <td>ОФП</td>\n",
       "      <td>ОФП</td>\n",
       "      <td>город Москва, Саратовская улица, дом 16, корпус 2</td>\n",
       "      <td>Юго-Восточный административный округ</td>\n",
       "      <td>муниципальный округ Текстильщики</td>\n",
       "      <td>NaN</td>\n",
       "      <td>c 01.01.2023 по 31.03.2023, Пн., Ср. 19:10-20:...</td>\n",
       "      <td>NaN</td>\n",
       "    </tr>\n",
       "    <tr>\n",
       "      <th>1</th>\n",
       "      <td>801356857</td>\n",
       "      <td>Физическая активность</td>\n",
       "      <td>ОФП</td>\n",
       "      <td>ОФП</td>\n",
       "      <td>город Москва, Подольская улица, дом 5</td>\n",
       "      <td>Юго-Восточный административный округ</td>\n",
       "      <td>муниципальный округ Марьино</td>\n",
       "      <td>NaN</td>\n",
       "      <td>c 09.01.2023 по 31.03.2023, Вт., Чт. 10:00-11:...</td>\n",
       "      <td>NaN</td>\n",
       "    </tr>\n",
       "    <tr>\n",
       "      <th>2</th>\n",
       "      <td>801351684</td>\n",
       "      <td>Физическая активность</td>\n",
       "      <td>ОФП</td>\n",
       "      <td>ОФП</td>\n",
       "      <td>г. Москва, Базовская улица, дом 15, строение 1...</td>\n",
       "      <td>Северный административный округ, Северный адми...</td>\n",
       "      <td>муниципальный округ Западное Дегунино, муницип...</td>\n",
       "      <td>NaN</td>\n",
       "      <td>c 09.01.2023 по 31.03.2023, Вт., Чт. 19:00-20:...</td>\n",
       "      <td>NaN</td>\n",
       "    </tr>\n",
       "    <tr>\n",
       "      <th>3</th>\n",
       "      <td>801353683</td>\n",
       "      <td>Физическая активность</td>\n",
       "      <td>ОФП</td>\n",
       "      <td>ОФП</td>\n",
       "      <td>город Москва, улица Обручева, дом 28А, город М...</td>\n",
       "      <td>Юго-Западный административный округ, Юго-Запад...</td>\n",
       "      <td>муниципальный округ Обручевский, муниципальный...</td>\n",
       "      <td>NaN</td>\n",
       "      <td>c 09.01.2023 по 31.03.2023, Пн., Ср. 13:30-14:...</td>\n",
       "      <td>NaN</td>\n",
       "    </tr>\n",
       "    <tr>\n",
       "      <th>4</th>\n",
       "      <td>801352164</td>\n",
       "      <td>Физическая активность</td>\n",
       "      <td>ОФП</td>\n",
       "      <td>ОФП</td>\n",
       "      <td>город Москва, Воронцовский парк, дом 3, город ...</td>\n",
       "      <td>Юго-Западный административный округ, Юго-Запад...</td>\n",
       "      <td>муниципальный округ Обручевский, муниципальный...</td>\n",
       "      <td>NaN</td>\n",
       "      <td>c 10.01.2023 по 28.02.2023, Вт., Пт. 12:00-13:...</td>\n",
       "      <td>NaN</td>\n",
       "    </tr>\n",
       "  </tbody>\n",
       "</table>\n",
       "</div>"
      ],
      "text/plain": [
       "    numgroup                  type1 type2 type3  \\\n",
       "0  801357270  Физическая активность   ОФП   ОФП   \n",
       "1  801356857  Физическая активность   ОФП   ОФП   \n",
       "2  801351684  Физическая активность   ОФП   ОФП   \n",
       "3  801353683  Физическая активность   ОФП   ОФП   \n",
       "4  801352164  Физическая активность   ОФП   ОФП   \n",
       "\n",
       "                                              addres  \\\n",
       "0  город Москва, Саратовская улица, дом 16, корпус 2   \n",
       "1              город Москва, Подольская улица, дом 5   \n",
       "2  г. Москва, Базовская улица, дом 15, строение 1...   \n",
       "3  город Москва, улица Обручева, дом 28А, город М...   \n",
       "4  город Москва, Воронцовский парк, дом 3, город ...   \n",
       "\n",
       "                                               okrug  \\\n",
       "0               Юго-Восточный административный округ   \n",
       "1               Юго-Восточный административный округ   \n",
       "2  Северный административный округ, Северный адми...   \n",
       "3  Юго-Западный административный округ, Юго-Запад...   \n",
       "4  Юго-Западный административный округ, Юго-Запад...   \n",
       "\n",
       "                                              region active_schedule  \\\n",
       "0                   муниципальный округ Текстильщики             NaN   \n",
       "1                        муниципальный округ Марьино             NaN   \n",
       "2  муниципальный округ Западное Дегунино, муницип...             NaN   \n",
       "3  муниципальный округ Обручевский, муниципальный...             NaN   \n",
       "4  муниципальный округ Обручевский, муниципальный...             NaN   \n",
       "\n",
       "                                        end_schedule plan_schedule  \n",
       "0  c 01.01.2023 по 31.03.2023, Пн., Ср. 19:10-20:...           NaN  \n",
       "1  c 09.01.2023 по 31.03.2023, Вт., Чт. 10:00-11:...           NaN  \n",
       "2  c 09.01.2023 по 31.03.2023, Вт., Чт. 19:00-20:...           NaN  \n",
       "3  c 09.01.2023 по 31.03.2023, Пн., Ср. 13:30-14:...           NaN  \n",
       "4  c 10.01.2023 по 28.02.2023, Вт., Пт. 12:00-13:...           NaN  "
      ]
     },
     "execution_count": 29,
     "metadata": {},
     "output_type": "execute_result"
    }
   ],
   "source": [
    "# Возвращаюсь к таблице groups\n",
    "groups.head()"
   ]
  },
  {
   "cell_type": "code",
   "execution_count": 30,
   "id": "4c865f5d",
   "metadata": {},
   "outputs": [
    {
     "name": "stdout",
     "output_type": "stream",
     "text": [
      "<class 'pandas.core.frame.DataFrame'>\n",
      "RangeIndex: 27003 entries, 0 to 27002\n",
      "Data columns (total 10 columns):\n",
      " #   Column           Non-Null Count  Dtype \n",
      "---  ------           --------------  ----- \n",
      " 0   numgroup         27003 non-null  int64 \n",
      " 1   type1            27003 non-null  object\n",
      " 2   type2            27003 non-null  object\n",
      " 3   type3            27003 non-null  object\n",
      " 4   addres           27003 non-null  object\n",
      " 5   okrug            23021 non-null  object\n",
      " 6   region           23021 non-null  object\n",
      " 7   active_schedule  6522 non-null   object\n",
      " 8   end_schedule     21643 non-null  object\n",
      " 9   plan_schedule    67 non-null     object\n",
      "dtypes: int64(1), object(9)\n",
      "memory usage: 2.1+ MB\n"
     ]
    }
   ],
   "source": [
    "groups.info()"
   ]
  },
  {
   "cell_type": "code",
   "execution_count": 31,
   "id": "0fb518d1",
   "metadata": {},
   "outputs": [
    {
     "data": {
      "text/html": [
       "<div>\n",
       "<style scoped>\n",
       "    .dataframe tbody tr th:only-of-type {\n",
       "        vertical-align: middle;\n",
       "    }\n",
       "\n",
       "    .dataframe tbody tr th {\n",
       "        vertical-align: top;\n",
       "    }\n",
       "\n",
       "    .dataframe thead th {\n",
       "        text-align: right;\n",
       "    }\n",
       "</style>\n",
       "<table border=\"1\" class=\"dataframe\">\n",
       "  <thead>\n",
       "    <tr style=\"text-align: right;\">\n",
       "      <th></th>\n",
       "      <th>numgroup</th>\n",
       "      <th>type1</th>\n",
       "    </tr>\n",
       "  </thead>\n",
       "  <tbody>\n",
       "    <tr>\n",
       "      <th>0</th>\n",
       "      <td>801357270</td>\n",
       "      <td>Физическая активность</td>\n",
       "    </tr>\n",
       "    <tr>\n",
       "      <th>1</th>\n",
       "      <td>801356857</td>\n",
       "      <td>Физическая активность</td>\n",
       "    </tr>\n",
       "    <tr>\n",
       "      <th>2</th>\n",
       "      <td>801351684</td>\n",
       "      <td>Физическая активность</td>\n",
       "    </tr>\n",
       "    <tr>\n",
       "      <th>3</th>\n",
       "      <td>801353683</td>\n",
       "      <td>Физическая активность</td>\n",
       "    </tr>\n",
       "    <tr>\n",
       "      <th>4</th>\n",
       "      <td>801352164</td>\n",
       "      <td>Физическая активность</td>\n",
       "    </tr>\n",
       "  </tbody>\n",
       "</table>\n",
       "</div>"
      ],
      "text/plain": [
       "    numgroup                  type1\n",
       "0  801357270  Физическая активность\n",
       "1  801356857  Физическая активность\n",
       "2  801351684  Физическая активность\n",
       "3  801353683  Физическая активность\n",
       "4  801352164  Физическая активность"
      ]
     },
     "execution_count": 31,
     "metadata": {},
     "output_type": "execute_result"
    }
   ],
   "source": [
    "# Оставляю нужные столбцы\n",
    "groups = groups.loc[:, ['numgroup', 'type1']]\n",
    "groups.head()"
   ]
  },
  {
   "cell_type": "code",
   "execution_count": 32,
   "id": "0fe03dd6",
   "metadata": {},
   "outputs": [
    {
     "data": {
      "text/plain": [
       "numgroup    0\n",
       "type1       0\n",
       "dtype: int64"
      ]
     },
     "execution_count": 32,
     "metadata": {},
     "output_type": "execute_result"
    }
   ],
   "source": [
    "groups.isnull().sum()"
   ]
  },
  {
   "cell_type": "code",
   "execution_count": 33,
   "id": "e887585c",
   "metadata": {},
   "outputs": [
    {
     "data": {
      "text/plain": [
       "True     24535\n",
       "False     2468\n",
       "Name: numgroup, dtype: int64"
      ]
     },
     "execution_count": 33,
     "metadata": {},
     "output_type": "execute_result"
    }
   ],
   "source": [
    "# Сопоставил номера групп из groups c attend на предмет наличия в attend\n",
    "groups['numgroup'].isin(attend['numgroup']).value_counts()"
   ]
  },
  {
   "cell_type": "code",
   "execution_count": 34,
   "id": "7c40787b",
   "metadata": {},
   "outputs": [],
   "source": [
    "# Сохранил в одельный датафрейм только те номера групп, которые есть в attend\n",
    "plan = groups.loc[groups['numgroup'].isin(attend['numgroup'].unique())]"
   ]
  },
  {
   "cell_type": "code",
   "execution_count": 35,
   "id": "701f4042",
   "metadata": {},
   "outputs": [
    {
     "data": {
      "text/plain": [
       "(24535, 2)"
      ]
     },
     "execution_count": 35,
     "metadata": {},
     "output_type": "execute_result"
    }
   ],
   "source": [
    "plan.shape"
   ]
  },
  {
   "cell_type": "code",
   "execution_count": 36,
   "id": "11ece760",
   "metadata": {},
   "outputs": [
    {
     "data": {
      "text/html": [
       "<div>\n",
       "<style scoped>\n",
       "    .dataframe tbody tr th:only-of-type {\n",
       "        vertical-align: middle;\n",
       "    }\n",
       "\n",
       "    .dataframe tbody tr th {\n",
       "        vertical-align: top;\n",
       "    }\n",
       "\n",
       "    .dataframe thead th {\n",
       "        text-align: right;\n",
       "    }\n",
       "</style>\n",
       "<table border=\"1\" class=\"dataframe\">\n",
       "  <thead>\n",
       "    <tr style=\"text-align: right;\">\n",
       "      <th></th>\n",
       "      <th>numclient</th>\n",
       "      <th>datereg</th>\n",
       "      <th>sex</th>\n",
       "      <th>datebirth</th>\n",
       "      <th>address_live</th>\n",
       "    </tr>\n",
       "  </thead>\n",
       "  <tbody>\n",
       "    <tr>\n",
       "      <th>0</th>\n",
       "      <td>101391104</td>\n",
       "      <td>2019-02-26 15:52:09.000</td>\n",
       "      <td>Женщина</td>\n",
       "      <td>1959-09-10</td>\n",
       "      <td>город москва, константинова, дом 30</td>\n",
       "    </tr>\n",
       "    <tr>\n",
       "      <th>1</th>\n",
       "      <td>101437383</td>\n",
       "      <td>2022-09-14 13:46:41.079</td>\n",
       "      <td>Женщина</td>\n",
       "      <td>1958-06-29</td>\n",
       "      <td>г. москва, большая серпуховская улица, дом 40,...</td>\n",
       "    </tr>\n",
       "    <tr>\n",
       "      <th>2</th>\n",
       "      <td>101351338</td>\n",
       "      <td>2018-03-19 18:34:58.000</td>\n",
       "      <td>Женщина</td>\n",
       "      <td>1956-08-28</td>\n",
       "      <td>город москва, летчика грицевца, дом 10</td>\n",
       "    </tr>\n",
       "    <tr>\n",
       "      <th>3</th>\n",
       "      <td>101354578</td>\n",
       "      <td>2018-03-22 13:19:42.000</td>\n",
       "      <td>Женщина</td>\n",
       "      <td>1939-05-19</td>\n",
       "      <td>город москва, лобачевского, дом 76</td>\n",
       "    </tr>\n",
       "    <tr>\n",
       "      <th>4</th>\n",
       "      <td>101411997</td>\n",
       "      <td>2019-12-17 12:29:25.481</td>\n",
       "      <td>Женщина</td>\n",
       "      <td>1951-03-02</td>\n",
       "      <td>г. москва, улица вертолётчиков, дом 13</td>\n",
       "    </tr>\n",
       "  </tbody>\n",
       "</table>\n",
       "</div>"
      ],
      "text/plain": [
       "   numclient                  datereg      sex   datebirth  \\\n",
       "0  101391104  2019-02-26 15:52:09.000  Женщина  1959-09-10   \n",
       "1  101437383  2022-09-14 13:46:41.079  Женщина  1958-06-29   \n",
       "2  101351338  2018-03-19 18:34:58.000  Женщина  1956-08-28   \n",
       "3  101354578  2018-03-22 13:19:42.000  Женщина  1939-05-19   \n",
       "4  101411997  2019-12-17 12:29:25.481  Женщина  1951-03-02   \n",
       "\n",
       "                                        address_live  \n",
       "0                город москва, константинова, дом 30  \n",
       "1  г. москва, большая серпуховская улица, дом 40,...  \n",
       "2             город москва, летчика грицевца, дом 10  \n",
       "3                 город москва, лобачевского, дом 76  \n",
       "4             г. москва, улица вертолётчиков, дом 13  "
      ]
     },
     "execution_count": 36,
     "metadata": {},
     "output_type": "execute_result"
    }
   ],
   "source": [
    "# Приступим к юзерам\n",
    "users = pd.read_csv('I:/Download/Датасеты/users.csv')\n",
    "users = users.rename(columns={\"уникальный номер\": \"numclient\", \"дата создание личного дела\": \"datereg\", \n",
    "                              \"пол\": \"sex\", \"дата рождения\": \"datebirth\", \n",
    "                       \"адрес проживания\": \"address_live\"})\n",
    "users.head()"
   ]
  },
  {
   "cell_type": "code",
   "execution_count": 37,
   "id": "114cee8b",
   "metadata": {},
   "outputs": [
    {
     "data": {
      "text/plain": [
       "True     50906\n",
       "False     1428\n",
       "Name: numclient, dtype: int64"
      ]
     },
     "execution_count": 37,
     "metadata": {},
     "output_type": "execute_result"
    }
   ],
   "source": [
    "# Сопоставим юзеров с юзерами в attend\n",
    "users['numclient'].isin(attend['numclient']).value_counts()"
   ]
  },
  {
   "cell_type": "code",
   "execution_count": 38,
   "id": "5c7fd966",
   "metadata": {},
   "outputs": [
    {
     "data": {
      "text/plain": [
       "(50906, 5)"
      ]
     },
     "execution_count": 38,
     "metadata": {},
     "output_type": "execute_result"
    }
   ],
   "source": [
    "# Оставлю только тех, кто есть в attend\n",
    "users2 = users.loc[users['numclient'].isin(attend['numclient'].unique())]\n",
    "users2.shape"
   ]
  },
  {
   "cell_type": "code",
   "execution_count": 39,
   "id": "94a97382",
   "metadata": {},
   "outputs": [
    {
     "data": {
      "text/plain": [
       "numclient       0\n",
       "datereg         0\n",
       "sex             0\n",
       "datebirth       0\n",
       "address_live    0\n",
       "dtype: int64"
      ]
     },
     "execution_count": 39,
     "metadata": {},
     "output_type": "execute_result"
    }
   ],
   "source": [
    "# Проверим пустоту\n",
    "users2.isnull().sum()"
   ]
  },
  {
   "cell_type": "code",
   "execution_count": 40,
   "id": "f7d93259",
   "metadata": {},
   "outputs": [
    {
     "data": {
      "text/html": [
       "<div>\n",
       "<style scoped>\n",
       "    .dataframe tbody tr th:only-of-type {\n",
       "        vertical-align: middle;\n",
       "    }\n",
       "\n",
       "    .dataframe tbody tr th {\n",
       "        vertical-align: top;\n",
       "    }\n",
       "\n",
       "    .dataframe thead th {\n",
       "        text-align: right;\n",
       "    }\n",
       "</style>\n",
       "<table border=\"1\" class=\"dataframe\">\n",
       "  <thead>\n",
       "    <tr style=\"text-align: right;\">\n",
       "      <th></th>\n",
       "      <th>numzan</th>\n",
       "      <th>numgroup</th>\n",
       "      <th>numclient</th>\n",
       "      <th>type2</th>\n",
       "      <th>type3</th>\n",
       "      <th>online</th>\n",
       "      <th>date</th>\n",
       "      <th>time_begin</th>\n",
       "      <th>time_end</th>\n",
       "      <th>datereg</th>\n",
       "      <th>sex</th>\n",
       "      <th>datebirth</th>\n",
       "      <th>address_live</th>\n",
       "    </tr>\n",
       "  </thead>\n",
       "  <tbody>\n",
       "    <tr>\n",
       "      <th>0</th>\n",
       "      <td>401346550</td>\n",
       "      <td>801346550</td>\n",
       "      <td>101352023</td>\n",
       "      <td>ОНЛАЙН Гимнастика</td>\n",
       "      <td>ОНЛАЙН Цигун</td>\n",
       "      <td>Yes</td>\n",
       "      <td>2022-08-01</td>\n",
       "      <td>09:00:00</td>\n",
       "      <td>10:00:00</td>\n",
       "      <td>2018-03-20 14:54:07.000</td>\n",
       "      <td>Женщина</td>\n",
       "      <td>1959-01-18</td>\n",
       "      <td>город москва, кутузовский проспект, дом 19</td>\n",
       "    </tr>\n",
       "    <tr>\n",
       "      <th>1</th>\n",
       "      <td>401348283</td>\n",
       "      <td>801346550</td>\n",
       "      <td>101352023</td>\n",
       "      <td>ОНЛАЙН Гимнастика</td>\n",
       "      <td>ОНЛАЙН Цигун</td>\n",
       "      <td>Yes</td>\n",
       "      <td>2022-08-03</td>\n",
       "      <td>09:00:00</td>\n",
       "      <td>10:00:00</td>\n",
       "      <td>2018-03-20 14:54:07.000</td>\n",
       "      <td>Женщина</td>\n",
       "      <td>1959-01-18</td>\n",
       "      <td>город москва, кутузовский проспект, дом 19</td>\n",
       "    </tr>\n",
       "    <tr>\n",
       "      <th>2</th>\n",
       "      <td>401351970</td>\n",
       "      <td>801346550</td>\n",
       "      <td>101352023</td>\n",
       "      <td>ОНЛАЙН Гимнастика</td>\n",
       "      <td>ОНЛАЙН Цигун</td>\n",
       "      <td>Yes</td>\n",
       "      <td>2022-08-08</td>\n",
       "      <td>09:00:00</td>\n",
       "      <td>10:00:00</td>\n",
       "      <td>2018-03-20 14:54:07.000</td>\n",
       "      <td>Женщина</td>\n",
       "      <td>1959-01-18</td>\n",
       "      <td>город москва, кутузовский проспект, дом 19</td>\n",
       "    </tr>\n",
       "    <tr>\n",
       "      <th>3</th>\n",
       "      <td>401355029</td>\n",
       "      <td>801350331</td>\n",
       "      <td>101352023</td>\n",
       "      <td>ОНЛАЙН Красота и стиль</td>\n",
       "      <td>ОНЛАЙН Мастер-класс по уходу за кожей в зрелом...</td>\n",
       "      <td>Yes</td>\n",
       "      <td>2022-08-08</td>\n",
       "      <td>18:30:00</td>\n",
       "      <td>19:30:00</td>\n",
       "      <td>2018-03-20 14:54:07.000</td>\n",
       "      <td>Женщина</td>\n",
       "      <td>1959-01-18</td>\n",
       "      <td>город москва, кутузовский проспект, дом 19</td>\n",
       "    </tr>\n",
       "    <tr>\n",
       "      <th>4</th>\n",
       "      <td>401355095</td>\n",
       "      <td>801346550</td>\n",
       "      <td>101352023</td>\n",
       "      <td>ОНЛАЙН Гимнастика</td>\n",
       "      <td>ОНЛАЙН Цигун</td>\n",
       "      <td>Yes</td>\n",
       "      <td>2022-08-10</td>\n",
       "      <td>09:00:00</td>\n",
       "      <td>10:00:00</td>\n",
       "      <td>2018-03-20 14:54:07.000</td>\n",
       "      <td>Женщина</td>\n",
       "      <td>1959-01-18</td>\n",
       "      <td>город москва, кутузовский проспект, дом 19</td>\n",
       "    </tr>\n",
       "  </tbody>\n",
       "</table>\n",
       "</div>"
      ],
      "text/plain": [
       "      numzan   numgroup  numclient                   type2  \\\n",
       "0  401346550  801346550  101352023       ОНЛАЙН Гимнастика   \n",
       "1  401348283  801346550  101352023       ОНЛАЙН Гимнастика   \n",
       "2  401351970  801346550  101352023       ОНЛАЙН Гимнастика   \n",
       "3  401355029  801350331  101352023  ОНЛАЙН Красота и стиль   \n",
       "4  401355095  801346550  101352023       ОНЛАЙН Гимнастика   \n",
       "\n",
       "                                               type3 online       date  \\\n",
       "0                                       ОНЛАЙН Цигун    Yes 2022-08-01   \n",
       "1                                       ОНЛАЙН Цигун    Yes 2022-08-03   \n",
       "2                                       ОНЛАЙН Цигун    Yes 2022-08-08   \n",
       "3  ОНЛАЙН Мастер-класс по уходу за кожей в зрелом...    Yes 2022-08-08   \n",
       "4                                       ОНЛАЙН Цигун    Yes 2022-08-10   \n",
       "\n",
       "  time_begin  time_end                  datereg      sex   datebirth  \\\n",
       "0   09:00:00  10:00:00  2018-03-20 14:54:07.000  Женщина  1959-01-18   \n",
       "1   09:00:00  10:00:00  2018-03-20 14:54:07.000  Женщина  1959-01-18   \n",
       "2   09:00:00  10:00:00  2018-03-20 14:54:07.000  Женщина  1959-01-18   \n",
       "3   18:30:00  19:30:00  2018-03-20 14:54:07.000  Женщина  1959-01-18   \n",
       "4   09:00:00  10:00:00  2018-03-20 14:54:07.000  Женщина  1959-01-18   \n",
       "\n",
       "                                 address_live  \n",
       "0  город москва, кутузовский проспект, дом 19  \n",
       "1  город москва, кутузовский проспект, дом 19  \n",
       "2  город москва, кутузовский проспект, дом 19  \n",
       "3  город москва, кутузовский проспект, дом 19  \n",
       "4  город москва, кутузовский проспект, дом 19  "
      ]
     },
     "execution_count": 40,
     "metadata": {},
     "output_type": "execute_result"
    }
   ],
   "source": [
    "# Начинаю собирать датасет для модели\n",
    "users_attend = attend.merge(users2, on='numclient', how='outer')\n",
    "users_attend.head()"
   ]
  },
  {
   "cell_type": "code",
   "execution_count": 41,
   "id": "17c1eaa4",
   "metadata": {},
   "outputs": [
    {
     "name": "stdout",
     "output_type": "stream",
     "text": [
      "<class 'pandas.core.frame.DataFrame'>\n",
      "Int64Index: 5901274 entries, 0 to 5901273\n",
      "Data columns (total 13 columns):\n",
      " #   Column        Dtype         \n",
      "---  ------        -----         \n",
      " 0   numzan        int64         \n",
      " 1   numgroup      int64         \n",
      " 2   numclient     int64         \n",
      " 3   type2         object        \n",
      " 4   type3         object        \n",
      " 5   online        object        \n",
      " 6   date          datetime64[ns]\n",
      " 7   time_begin    object        \n",
      " 8   time_end      object        \n",
      " 9   datereg       object        \n",
      " 10  sex           object        \n",
      " 11  datebirth     object        \n",
      " 12  address_live  object        \n",
      "dtypes: datetime64[ns](1), int64(3), object(9)\n",
      "memory usage: 630.3+ MB\n"
     ]
    }
   ],
   "source": [
    "users_attend.info() # Посмотрим, какие признаки с каким типом данных"
   ]
  },
  {
   "cell_type": "code",
   "execution_count": 42,
   "id": "8d032abb",
   "metadata": {},
   "outputs": [
    {
     "data": {
      "text/plain": [
       "numzan          0\n",
       "numgroup        0\n",
       "numclient       0\n",
       "type2           0\n",
       "type3           0\n",
       "online          0\n",
       "date            0\n",
       "time_begin      0\n",
       "time_end        0\n",
       "datereg         0\n",
       "sex             0\n",
       "datebirth       0\n",
       "address_live    0\n",
       "dtype: int64"
      ]
     },
     "execution_count": 42,
     "metadata": {},
     "output_type": "execute_result"
    }
   ],
   "source": [
    "users_attend.isnull().sum() # Пропущенных нет, все чисто"
   ]
  },
  {
   "cell_type": "code",
   "execution_count": 43,
   "id": "1f1d936a",
   "metadata": {},
   "outputs": [],
   "source": [
    "#Дату преобразую в формат даты\n",
    "users_attend['datebirth'] = users_attend['datebirth'].astype(\"datetime64[ns]\")"
   ]
  },
  {
   "cell_type": "code",
   "execution_count": 44,
   "id": "14c8f127",
   "metadata": {},
   "outputs": [
    {
     "name": "stdout",
     "output_type": "stream",
     "text": [
      "<class 'pandas.core.frame.DataFrame'>\n",
      "Int64Index: 5901274 entries, 0 to 5901273\n",
      "Data columns (total 13 columns):\n",
      " #   Column        Dtype         \n",
      "---  ------        -----         \n",
      " 0   numzan        int64         \n",
      " 1   numgroup      int64         \n",
      " 2   numclient     int64         \n",
      " 3   type2         object        \n",
      " 4   type3         object        \n",
      " 5   online        object        \n",
      " 6   date          datetime64[ns]\n",
      " 7   time_begin    object        \n",
      " 8   time_end      object        \n",
      " 9   datereg       object        \n",
      " 10  sex           object        \n",
      " 11  datebirth     datetime64[ns]\n",
      " 12  address_live  object        \n",
      "dtypes: datetime64[ns](2), int64(3), object(8)\n",
      "memory usage: 630.3+ MB\n"
     ]
    }
   ],
   "source": [
    "# Исследуем объединенный датафрейм более детально\n",
    "users_attend.info()"
   ]
  },
  {
   "cell_type": "code",
   "execution_count": 45,
   "id": "5d7ecf1f",
   "metadata": {},
   "outputs": [
    {
     "data": {
      "text/plain": [
       "array(['Женщина', 'Мужчина'], dtype=object)"
      ]
     },
     "execution_count": 45,
     "metadata": {},
     "output_type": "execute_result"
    }
   ],
   "source": [
    "users_attend.sex.unique()"
   ]
  },
  {
   "cell_type": "code",
   "execution_count": 46,
   "id": "d02258b8",
   "metadata": {},
   "outputs": [
    {
     "data": {
      "text/html": [
       "<div>\n",
       "<style scoped>\n",
       "    .dataframe tbody tr th:only-of-type {\n",
       "        vertical-align: middle;\n",
       "    }\n",
       "\n",
       "    .dataframe tbody tr th {\n",
       "        vertical-align: top;\n",
       "    }\n",
       "\n",
       "    .dataframe thead th {\n",
       "        text-align: right;\n",
       "    }\n",
       "</style>\n",
       "<table border=\"1\" class=\"dataframe\">\n",
       "  <thead>\n",
       "    <tr style=\"text-align: right;\">\n",
       "      <th></th>\n",
       "      <th>numzan</th>\n",
       "      <th>numgroup</th>\n",
       "      <th>numclient</th>\n",
       "      <th>type2</th>\n",
       "      <th>type3</th>\n",
       "      <th>online</th>\n",
       "      <th>date</th>\n",
       "      <th>time_begin</th>\n",
       "      <th>time_end</th>\n",
       "      <th>datereg</th>\n",
       "      <th>sex</th>\n",
       "      <th>datebirth</th>\n",
       "      <th>address_live</th>\n",
       "    </tr>\n",
       "  </thead>\n",
       "  <tbody>\n",
       "    <tr>\n",
       "      <th>0</th>\n",
       "      <td>401346550</td>\n",
       "      <td>801346550</td>\n",
       "      <td>101352023</td>\n",
       "      <td>ОНЛАЙН Гимнастика</td>\n",
       "      <td>ОНЛАЙН Цигун</td>\n",
       "      <td>Yes</td>\n",
       "      <td>2022-08-01</td>\n",
       "      <td>09:00:00</td>\n",
       "      <td>10:00:00</td>\n",
       "      <td>2018-03-20 14:54:07.000</td>\n",
       "      <td>Female</td>\n",
       "      <td>1959-01-18</td>\n",
       "      <td>город москва, кутузовский проспект, дом 19</td>\n",
       "    </tr>\n",
       "    <tr>\n",
       "      <th>1</th>\n",
       "      <td>401348283</td>\n",
       "      <td>801346550</td>\n",
       "      <td>101352023</td>\n",
       "      <td>ОНЛАЙН Гимнастика</td>\n",
       "      <td>ОНЛАЙН Цигун</td>\n",
       "      <td>Yes</td>\n",
       "      <td>2022-08-03</td>\n",
       "      <td>09:00:00</td>\n",
       "      <td>10:00:00</td>\n",
       "      <td>2018-03-20 14:54:07.000</td>\n",
       "      <td>Female</td>\n",
       "      <td>1959-01-18</td>\n",
       "      <td>город москва, кутузовский проспект, дом 19</td>\n",
       "    </tr>\n",
       "    <tr>\n",
       "      <th>2</th>\n",
       "      <td>401351970</td>\n",
       "      <td>801346550</td>\n",
       "      <td>101352023</td>\n",
       "      <td>ОНЛАЙН Гимнастика</td>\n",
       "      <td>ОНЛАЙН Цигун</td>\n",
       "      <td>Yes</td>\n",
       "      <td>2022-08-08</td>\n",
       "      <td>09:00:00</td>\n",
       "      <td>10:00:00</td>\n",
       "      <td>2018-03-20 14:54:07.000</td>\n",
       "      <td>Female</td>\n",
       "      <td>1959-01-18</td>\n",
       "      <td>город москва, кутузовский проспект, дом 19</td>\n",
       "    </tr>\n",
       "    <tr>\n",
       "      <th>3</th>\n",
       "      <td>401355029</td>\n",
       "      <td>801350331</td>\n",
       "      <td>101352023</td>\n",
       "      <td>ОНЛАЙН Красота и стиль</td>\n",
       "      <td>ОНЛАЙН Мастер-класс по уходу за кожей в зрелом...</td>\n",
       "      <td>Yes</td>\n",
       "      <td>2022-08-08</td>\n",
       "      <td>18:30:00</td>\n",
       "      <td>19:30:00</td>\n",
       "      <td>2018-03-20 14:54:07.000</td>\n",
       "      <td>Female</td>\n",
       "      <td>1959-01-18</td>\n",
       "      <td>город москва, кутузовский проспект, дом 19</td>\n",
       "    </tr>\n",
       "    <tr>\n",
       "      <th>4</th>\n",
       "      <td>401355095</td>\n",
       "      <td>801346550</td>\n",
       "      <td>101352023</td>\n",
       "      <td>ОНЛАЙН Гимнастика</td>\n",
       "      <td>ОНЛАЙН Цигун</td>\n",
       "      <td>Yes</td>\n",
       "      <td>2022-08-10</td>\n",
       "      <td>09:00:00</td>\n",
       "      <td>10:00:00</td>\n",
       "      <td>2018-03-20 14:54:07.000</td>\n",
       "      <td>Female</td>\n",
       "      <td>1959-01-18</td>\n",
       "      <td>город москва, кутузовский проспект, дом 19</td>\n",
       "    </tr>\n",
       "  </tbody>\n",
       "</table>\n",
       "</div>"
      ],
      "text/plain": [
       "      numzan   numgroup  numclient                   type2  \\\n",
       "0  401346550  801346550  101352023       ОНЛАЙН Гимнастика   \n",
       "1  401348283  801346550  101352023       ОНЛАЙН Гимнастика   \n",
       "2  401351970  801346550  101352023       ОНЛАЙН Гимнастика   \n",
       "3  401355029  801350331  101352023  ОНЛАЙН Красота и стиль   \n",
       "4  401355095  801346550  101352023       ОНЛАЙН Гимнастика   \n",
       "\n",
       "                                               type3 online       date  \\\n",
       "0                                       ОНЛАЙН Цигун    Yes 2022-08-01   \n",
       "1                                       ОНЛАЙН Цигун    Yes 2022-08-03   \n",
       "2                                       ОНЛАЙН Цигун    Yes 2022-08-08   \n",
       "3  ОНЛАЙН Мастер-класс по уходу за кожей в зрелом...    Yes 2022-08-08   \n",
       "4                                       ОНЛАЙН Цигун    Yes 2022-08-10   \n",
       "\n",
       "  time_begin  time_end                  datereg     sex  datebirth  \\\n",
       "0   09:00:00  10:00:00  2018-03-20 14:54:07.000  Female 1959-01-18   \n",
       "1   09:00:00  10:00:00  2018-03-20 14:54:07.000  Female 1959-01-18   \n",
       "2   09:00:00  10:00:00  2018-03-20 14:54:07.000  Female 1959-01-18   \n",
       "3   18:30:00  19:30:00  2018-03-20 14:54:07.000  Female 1959-01-18   \n",
       "4   09:00:00  10:00:00  2018-03-20 14:54:07.000  Female 1959-01-18   \n",
       "\n",
       "                                 address_live  \n",
       "0  город москва, кутузовский проспект, дом 19  \n",
       "1  город москва, кутузовский проспект, дом 19  \n",
       "2  город москва, кутузовский проспект, дом 19  \n",
       "3  город москва, кутузовский проспект, дом 19  \n",
       "4  город москва, кутузовский проспект, дом 19  "
      ]
     },
     "execution_count": 46,
     "metadata": {},
     "output_type": "execute_result"
    }
   ],
   "source": [
    "# Переименовываю значения признака sex \n",
    "sex = {'Женщина': 'Female', 'Мужчина': 'Male'}\n",
    "users_attend['sex'] = users_attend['sex'].map(sex)\n",
    "users_attend.head()"
   ]
  },
  {
   "cell_type": "code",
   "execution_count": 47,
   "id": "01cb3c36",
   "metadata": {},
   "outputs": [
    {
     "data": {
      "text/html": [
       "<div>\n",
       "<style scoped>\n",
       "    .dataframe tbody tr th:only-of-type {\n",
       "        vertical-align: middle;\n",
       "    }\n",
       "\n",
       "    .dataframe tbody tr th {\n",
       "        vertical-align: top;\n",
       "    }\n",
       "\n",
       "    .dataframe thead th {\n",
       "        text-align: right;\n",
       "    }\n",
       "</style>\n",
       "<table border=\"1\" class=\"dataframe\">\n",
       "  <thead>\n",
       "    <tr style=\"text-align: right;\">\n",
       "      <th></th>\n",
       "      <th>numclient</th>\n",
       "    </tr>\n",
       "    <tr>\n",
       "      <th>sex</th>\n",
       "      <th></th>\n",
       "    </tr>\n",
       "  </thead>\n",
       "  <tbody>\n",
       "    <tr>\n",
       "      <th>Female</th>\n",
       "      <td>45971</td>\n",
       "    </tr>\n",
       "    <tr>\n",
       "      <th>Male</th>\n",
       "      <td>4935</td>\n",
       "    </tr>\n",
       "  </tbody>\n",
       "</table>\n",
       "</div>"
      ],
      "text/plain": [
       "        numclient\n",
       "sex              \n",
       "Female      45971\n",
       "Male         4935"
      ]
     },
     "execution_count": 47,
     "metadata": {},
     "output_type": "execute_result"
    }
   ],
   "source": [
    "# Количество мужчин и женщин\n",
    "users_attend.groupby('sex').agg({'numclient':'nunique'})\\\n",
    "    .sort_values(by=['numclient'], ascending=False).head()"
   ]
  },
  {
   "cell_type": "code",
   "execution_count": 48,
   "id": "6e0c6c46",
   "metadata": {},
   "outputs": [
    {
     "name": "stdout",
     "output_type": "stream",
     "text": [
      "Мужчин: 9.69%\n",
      "Женщин: 90.31%\n"
     ]
    }
   ],
   "source": [
    "print(f'''Мужчин: {100*(4935/50906):.2f}%\n",
    "Женщин: {100*(45971/50906):.2f}%''')"
   ]
  },
  {
   "cell_type": "code",
   "execution_count": 53,
   "id": "066c188d",
   "metadata": {},
   "outputs": [],
   "source": [
    "united = users_attend.merge(plan, on='numgroup', how='outer')"
   ]
  },
  {
   "cell_type": "code",
   "execution_count": 54,
   "id": "f8a6dc65",
   "metadata": {},
   "outputs": [
    {
     "data": {
      "text/html": [
       "<div>\n",
       "<style scoped>\n",
       "    .dataframe tbody tr th:only-of-type {\n",
       "        vertical-align: middle;\n",
       "    }\n",
       "\n",
       "    .dataframe tbody tr th {\n",
       "        vertical-align: top;\n",
       "    }\n",
       "\n",
       "    .dataframe thead th {\n",
       "        text-align: right;\n",
       "    }\n",
       "</style>\n",
       "<table border=\"1\" class=\"dataframe\">\n",
       "  <thead>\n",
       "    <tr style=\"text-align: right;\">\n",
       "      <th></th>\n",
       "      <th>numzan</th>\n",
       "      <th>numgroup</th>\n",
       "      <th>numclient</th>\n",
       "      <th>type2</th>\n",
       "      <th>type3</th>\n",
       "      <th>online</th>\n",
       "      <th>date</th>\n",
       "      <th>time_begin</th>\n",
       "      <th>time_end</th>\n",
       "      <th>datereg</th>\n",
       "      <th>sex</th>\n",
       "      <th>datebirth</th>\n",
       "      <th>address_live</th>\n",
       "      <th>type1</th>\n",
       "    </tr>\n",
       "  </thead>\n",
       "  <tbody>\n",
       "    <tr>\n",
       "      <th>0</th>\n",
       "      <td>401346550</td>\n",
       "      <td>801346550</td>\n",
       "      <td>101352023</td>\n",
       "      <td>ОНЛАЙН Гимнастика</td>\n",
       "      <td>ОНЛАЙН Цигун</td>\n",
       "      <td>Yes</td>\n",
       "      <td>2022-08-01</td>\n",
       "      <td>09:00:00</td>\n",
       "      <td>10:00:00</td>\n",
       "      <td>2018-03-20 14:54:07.000</td>\n",
       "      <td>Female</td>\n",
       "      <td>1959-01-18</td>\n",
       "      <td>город москва, кутузовский проспект, дом 19</td>\n",
       "      <td>Физическая активность</td>\n",
       "    </tr>\n",
       "    <tr>\n",
       "      <th>1</th>\n",
       "      <td>401348283</td>\n",
       "      <td>801346550</td>\n",
       "      <td>101352023</td>\n",
       "      <td>ОНЛАЙН Гимнастика</td>\n",
       "      <td>ОНЛАЙН Цигун</td>\n",
       "      <td>Yes</td>\n",
       "      <td>2022-08-03</td>\n",
       "      <td>09:00:00</td>\n",
       "      <td>10:00:00</td>\n",
       "      <td>2018-03-20 14:54:07.000</td>\n",
       "      <td>Female</td>\n",
       "      <td>1959-01-18</td>\n",
       "      <td>город москва, кутузовский проспект, дом 19</td>\n",
       "      <td>Физическая активность</td>\n",
       "    </tr>\n",
       "    <tr>\n",
       "      <th>2</th>\n",
       "      <td>401351970</td>\n",
       "      <td>801346550</td>\n",
       "      <td>101352023</td>\n",
       "      <td>ОНЛАЙН Гимнастика</td>\n",
       "      <td>ОНЛАЙН Цигун</td>\n",
       "      <td>Yes</td>\n",
       "      <td>2022-08-08</td>\n",
       "      <td>09:00:00</td>\n",
       "      <td>10:00:00</td>\n",
       "      <td>2018-03-20 14:54:07.000</td>\n",
       "      <td>Female</td>\n",
       "      <td>1959-01-18</td>\n",
       "      <td>город москва, кутузовский проспект, дом 19</td>\n",
       "      <td>Физическая активность</td>\n",
       "    </tr>\n",
       "    <tr>\n",
       "      <th>3</th>\n",
       "      <td>401355095</td>\n",
       "      <td>801346550</td>\n",
       "      <td>101352023</td>\n",
       "      <td>ОНЛАЙН Гимнастика</td>\n",
       "      <td>ОНЛАЙН Цигун</td>\n",
       "      <td>Yes</td>\n",
       "      <td>2022-08-10</td>\n",
       "      <td>09:00:00</td>\n",
       "      <td>10:00:00</td>\n",
       "      <td>2018-03-20 14:54:07.000</td>\n",
       "      <td>Female</td>\n",
       "      <td>1959-01-18</td>\n",
       "      <td>город москва, кутузовский проспект, дом 19</td>\n",
       "      <td>Физическая активность</td>\n",
       "    </tr>\n",
       "    <tr>\n",
       "      <th>4</th>\n",
       "      <td>401365374</td>\n",
       "      <td>801346550</td>\n",
       "      <td>101352023</td>\n",
       "      <td>ОНЛАЙН Гимнастика</td>\n",
       "      <td>ОНЛАЙН Цигун</td>\n",
       "      <td>Yes</td>\n",
       "      <td>2022-08-22</td>\n",
       "      <td>09:00:00</td>\n",
       "      <td>10:00:00</td>\n",
       "      <td>2018-03-20 14:54:07.000</td>\n",
       "      <td>Female</td>\n",
       "      <td>1959-01-18</td>\n",
       "      <td>город москва, кутузовский проспект, дом 19</td>\n",
       "      <td>Физическая активность</td>\n",
       "    </tr>\n",
       "  </tbody>\n",
       "</table>\n",
       "</div>"
      ],
      "text/plain": [
       "      numzan   numgroup  numclient              type2         type3 online  \\\n",
       "0  401346550  801346550  101352023  ОНЛАЙН Гимнастика  ОНЛАЙН Цигун    Yes   \n",
       "1  401348283  801346550  101352023  ОНЛАЙН Гимнастика  ОНЛАЙН Цигун    Yes   \n",
       "2  401351970  801346550  101352023  ОНЛАЙН Гимнастика  ОНЛАЙН Цигун    Yes   \n",
       "3  401355095  801346550  101352023  ОНЛАЙН Гимнастика  ОНЛАЙН Цигун    Yes   \n",
       "4  401365374  801346550  101352023  ОНЛАЙН Гимнастика  ОНЛАЙН Цигун    Yes   \n",
       "\n",
       "        date time_begin  time_end                  datereg     sex  datebirth  \\\n",
       "0 2022-08-01   09:00:00  10:00:00  2018-03-20 14:54:07.000  Female 1959-01-18   \n",
       "1 2022-08-03   09:00:00  10:00:00  2018-03-20 14:54:07.000  Female 1959-01-18   \n",
       "2 2022-08-08   09:00:00  10:00:00  2018-03-20 14:54:07.000  Female 1959-01-18   \n",
       "3 2022-08-10   09:00:00  10:00:00  2018-03-20 14:54:07.000  Female 1959-01-18   \n",
       "4 2022-08-22   09:00:00  10:00:00  2018-03-20 14:54:07.000  Female 1959-01-18   \n",
       "\n",
       "                                 address_live                  type1  \n",
       "0  город москва, кутузовский проспект, дом 19  Физическая активность  \n",
       "1  город москва, кутузовский проспект, дом 19  Физическая активность  \n",
       "2  город москва, кутузовский проспект, дом 19  Физическая активность  \n",
       "3  город москва, кутузовский проспект, дом 19  Физическая активность  \n",
       "4  город москва, кутузовский проспект, дом 19  Физическая активность  "
      ]
     },
     "execution_count": 54,
     "metadata": {},
     "output_type": "execute_result"
    }
   ],
   "source": [
    "united.head()"
   ]
  },
  {
   "cell_type": "code",
   "execution_count": 55,
   "id": "0052488e",
   "metadata": {},
   "outputs": [
    {
     "data": {
      "text/plain": [
       "(5901274, 14)"
      ]
     },
     "execution_count": 55,
     "metadata": {},
     "output_type": "execute_result"
    }
   ],
   "source": [
    "united.shape"
   ]
  },
  {
   "cell_type": "code",
   "execution_count": 57,
   "id": "f61990ff",
   "metadata": {},
   "outputs": [
    {
     "data": {
      "text/plain": [
       "Index(['numzan', 'numgroup', 'numclient', 'type2', 'type3', 'online', 'date',\n",
       "       'time_begin', 'time_end', 'datereg', 'sex', 'datebirth', 'address_live',\n",
       "       'type1'],\n",
       "      dtype='object')"
      ]
     },
     "execution_count": 57,
     "metadata": {},
     "output_type": "execute_result"
    }
   ],
   "source": [
    "united.columns"
   ]
  },
  {
   "cell_type": "code",
   "execution_count": 60,
   "id": "8e218fd0",
   "metadata": {},
   "outputs": [
    {
     "data": {
      "text/html": [
       "<div>\n",
       "<style scoped>\n",
       "    .dataframe tbody tr th:only-of-type {\n",
       "        vertical-align: middle;\n",
       "    }\n",
       "\n",
       "    .dataframe tbody tr th {\n",
       "        vertical-align: top;\n",
       "    }\n",
       "\n",
       "    .dataframe thead th {\n",
       "        text-align: right;\n",
       "    }\n",
       "</style>\n",
       "<table border=\"1\" class=\"dataframe\">\n",
       "  <thead>\n",
       "    <tr style=\"text-align: right;\">\n",
       "      <th></th>\n",
       "      <th>numzan</th>\n",
       "      <th>numgroup</th>\n",
       "      <th>numclient</th>\n",
       "      <th>type1</th>\n",
       "      <th>type2</th>\n",
       "      <th>type3</th>\n",
       "      <th>online</th>\n",
       "      <th>date</th>\n",
       "      <th>sex</th>\n",
       "      <th>datebirth</th>\n",
       "    </tr>\n",
       "  </thead>\n",
       "  <tbody>\n",
       "    <tr>\n",
       "      <th>0</th>\n",
       "      <td>401346550</td>\n",
       "      <td>801346550</td>\n",
       "      <td>101352023</td>\n",
       "      <td>Физическая активность</td>\n",
       "      <td>ОНЛАЙН Гимнастика</td>\n",
       "      <td>ОНЛАЙН Цигун</td>\n",
       "      <td>Yes</td>\n",
       "      <td>2022-08-01</td>\n",
       "      <td>Female</td>\n",
       "      <td>1959-01-18</td>\n",
       "    </tr>\n",
       "    <tr>\n",
       "      <th>1</th>\n",
       "      <td>401348283</td>\n",
       "      <td>801346550</td>\n",
       "      <td>101352023</td>\n",
       "      <td>Физическая активность</td>\n",
       "      <td>ОНЛАЙН Гимнастика</td>\n",
       "      <td>ОНЛАЙН Цигун</td>\n",
       "      <td>Yes</td>\n",
       "      <td>2022-08-03</td>\n",
       "      <td>Female</td>\n",
       "      <td>1959-01-18</td>\n",
       "    </tr>\n",
       "    <tr>\n",
       "      <th>2</th>\n",
       "      <td>401351970</td>\n",
       "      <td>801346550</td>\n",
       "      <td>101352023</td>\n",
       "      <td>Физическая активность</td>\n",
       "      <td>ОНЛАЙН Гимнастика</td>\n",
       "      <td>ОНЛАЙН Цигун</td>\n",
       "      <td>Yes</td>\n",
       "      <td>2022-08-08</td>\n",
       "      <td>Female</td>\n",
       "      <td>1959-01-18</td>\n",
       "    </tr>\n",
       "    <tr>\n",
       "      <th>3</th>\n",
       "      <td>401355095</td>\n",
       "      <td>801346550</td>\n",
       "      <td>101352023</td>\n",
       "      <td>Физическая активность</td>\n",
       "      <td>ОНЛАЙН Гимнастика</td>\n",
       "      <td>ОНЛАЙН Цигун</td>\n",
       "      <td>Yes</td>\n",
       "      <td>2022-08-10</td>\n",
       "      <td>Female</td>\n",
       "      <td>1959-01-18</td>\n",
       "    </tr>\n",
       "    <tr>\n",
       "      <th>4</th>\n",
       "      <td>401365374</td>\n",
       "      <td>801346550</td>\n",
       "      <td>101352023</td>\n",
       "      <td>Физическая активность</td>\n",
       "      <td>ОНЛАЙН Гимнастика</td>\n",
       "      <td>ОНЛАЙН Цигун</td>\n",
       "      <td>Yes</td>\n",
       "      <td>2022-08-22</td>\n",
       "      <td>Female</td>\n",
       "      <td>1959-01-18</td>\n",
       "    </tr>\n",
       "  </tbody>\n",
       "</table>\n",
       "</div>"
      ],
      "text/plain": [
       "      numzan   numgroup  numclient                  type1              type2  \\\n",
       "0  401346550  801346550  101352023  Физическая активность  ОНЛАЙН Гимнастика   \n",
       "1  401348283  801346550  101352023  Физическая активность  ОНЛАЙН Гимнастика   \n",
       "2  401351970  801346550  101352023  Физическая активность  ОНЛАЙН Гимнастика   \n",
       "3  401355095  801346550  101352023  Физическая активность  ОНЛАЙН Гимнастика   \n",
       "4  401365374  801346550  101352023  Физическая активность  ОНЛАЙН Гимнастика   \n",
       "\n",
       "          type3 online       date     sex  datebirth  \n",
       "0  ОНЛАЙН Цигун    Yes 2022-08-01  Female 1959-01-18  \n",
       "1  ОНЛАЙН Цигун    Yes 2022-08-03  Female 1959-01-18  \n",
       "2  ОНЛАЙН Цигун    Yes 2022-08-08  Female 1959-01-18  \n",
       "3  ОНЛАЙН Цигун    Yes 2022-08-10  Female 1959-01-18  \n",
       "4  ОНЛАЙН Цигун    Yes 2022-08-22  Female 1959-01-18  "
      ]
     },
     "execution_count": 60,
     "metadata": {},
     "output_type": "execute_result"
    }
   ],
   "source": [
    "united1 = united.loc[:,['numzan', 'numgroup', 'numclient', 'type1', 'type2', 'type3', 'online', 'date', \n",
    "           'sex', 'datebirth']]\n",
    "united1.head()"
   ]
  },
  {
   "cell_type": "code",
   "execution_count": 68,
   "id": "022b91c6",
   "metadata": {},
   "outputs": [
    {
     "data": {
      "text/html": [
       "<div>\n",
       "<style scoped>\n",
       "    .dataframe tbody tr th:only-of-type {\n",
       "        vertical-align: middle;\n",
       "    }\n",
       "\n",
       "    .dataframe tbody tr th {\n",
       "        vertical-align: top;\n",
       "    }\n",
       "\n",
       "    .dataframe thead th {\n",
       "        text-align: right;\n",
       "    }\n",
       "</style>\n",
       "<table border=\"1\" class=\"dataframe\">\n",
       "  <thead>\n",
       "    <tr style=\"text-align: right;\">\n",
       "      <th></th>\n",
       "      <th></th>\n",
       "      <th>numclient</th>\n",
       "    </tr>\n",
       "    <tr>\n",
       "      <th>online</th>\n",
       "      <th>sex</th>\n",
       "      <th></th>\n",
       "    </tr>\n",
       "  </thead>\n",
       "  <tbody>\n",
       "    <tr>\n",
       "      <th>No</th>\n",
       "      <th>Female</th>\n",
       "      <td>35226</td>\n",
       "    </tr>\n",
       "    <tr>\n",
       "      <th>Yes</th>\n",
       "      <th>Female</th>\n",
       "      <td>26924</td>\n",
       "    </tr>\n",
       "    <tr>\n",
       "      <th>No</th>\n",
       "      <th>Male</th>\n",
       "      <td>4183</td>\n",
       "    </tr>\n",
       "    <tr>\n",
       "      <th>Yes</th>\n",
       "      <th>Male</th>\n",
       "      <td>1539</td>\n",
       "    </tr>\n",
       "  </tbody>\n",
       "</table>\n",
       "</div>"
      ],
      "text/plain": [
       "               numclient\n",
       "online sex              \n",
       "No     Female      35226\n",
       "Yes    Female      26924\n",
       "No     Male         4183\n",
       "Yes    Male         1539"
      ]
     },
     "execution_count": 68,
     "metadata": {},
     "output_type": "execute_result"
    }
   ],
   "source": [
    "united1.groupby(['online', 'sex']).agg({'numclient':'nunique'})\\\n",
    "    .sort_values(by=['numclient'], ascending=False).head()"
   ]
  },
  {
   "cell_type": "code",
   "execution_count": 70,
   "id": "bfcfcef2",
   "metadata": {},
   "outputs": [
    {
     "data": {
      "text/html": [
       "<div>\n",
       "<style scoped>\n",
       "    .dataframe tbody tr th:only-of-type {\n",
       "        vertical-align: middle;\n",
       "    }\n",
       "\n",
       "    .dataframe tbody tr th {\n",
       "        vertical-align: top;\n",
       "    }\n",
       "\n",
       "    .dataframe thead th {\n",
       "        text-align: right;\n",
       "    }\n",
       "</style>\n",
       "<table border=\"1\" class=\"dataframe\">\n",
       "  <thead>\n",
       "    <tr style=\"text-align: right;\">\n",
       "      <th></th>\n",
       "      <th>numzan</th>\n",
       "      <th>numgroup</th>\n",
       "      <th>numclient</th>\n",
       "      <th>type1</th>\n",
       "      <th>type2</th>\n",
       "      <th>type3</th>\n",
       "      <th>online</th>\n",
       "      <th>date</th>\n",
       "      <th>sex</th>\n",
       "      <th>datebirth</th>\n",
       "      <th>age</th>\n",
       "    </tr>\n",
       "  </thead>\n",
       "  <tbody>\n",
       "    <tr>\n",
       "      <th>0</th>\n",
       "      <td>401346550</td>\n",
       "      <td>801346550</td>\n",
       "      <td>101352023</td>\n",
       "      <td>Физическая активность</td>\n",
       "      <td>ОНЛАЙН Гимнастика</td>\n",
       "      <td>ОНЛАЙН Цигун</td>\n",
       "      <td>Yes</td>\n",
       "      <td>2022-08-01</td>\n",
       "      <td>Female</td>\n",
       "      <td>1959-01-18</td>\n",
       "      <td>64</td>\n",
       "    </tr>\n",
       "    <tr>\n",
       "      <th>1</th>\n",
       "      <td>401348283</td>\n",
       "      <td>801346550</td>\n",
       "      <td>101352023</td>\n",
       "      <td>Физическая активность</td>\n",
       "      <td>ОНЛАЙН Гимнастика</td>\n",
       "      <td>ОНЛАЙН Цигун</td>\n",
       "      <td>Yes</td>\n",
       "      <td>2022-08-03</td>\n",
       "      <td>Female</td>\n",
       "      <td>1959-01-18</td>\n",
       "      <td>64</td>\n",
       "    </tr>\n",
       "    <tr>\n",
       "      <th>2</th>\n",
       "      <td>401351970</td>\n",
       "      <td>801346550</td>\n",
       "      <td>101352023</td>\n",
       "      <td>Физическая активность</td>\n",
       "      <td>ОНЛАЙН Гимнастика</td>\n",
       "      <td>ОНЛАЙН Цигун</td>\n",
       "      <td>Yes</td>\n",
       "      <td>2022-08-08</td>\n",
       "      <td>Female</td>\n",
       "      <td>1959-01-18</td>\n",
       "      <td>64</td>\n",
       "    </tr>\n",
       "    <tr>\n",
       "      <th>3</th>\n",
       "      <td>401355095</td>\n",
       "      <td>801346550</td>\n",
       "      <td>101352023</td>\n",
       "      <td>Физическая активность</td>\n",
       "      <td>ОНЛАЙН Гимнастика</td>\n",
       "      <td>ОНЛАЙН Цигун</td>\n",
       "      <td>Yes</td>\n",
       "      <td>2022-08-10</td>\n",
       "      <td>Female</td>\n",
       "      <td>1959-01-18</td>\n",
       "      <td>64</td>\n",
       "    </tr>\n",
       "    <tr>\n",
       "      <th>4</th>\n",
       "      <td>401365374</td>\n",
       "      <td>801346550</td>\n",
       "      <td>101352023</td>\n",
       "      <td>Физическая активность</td>\n",
       "      <td>ОНЛАЙН Гимнастика</td>\n",
       "      <td>ОНЛАЙН Цигун</td>\n",
       "      <td>Yes</td>\n",
       "      <td>2022-08-22</td>\n",
       "      <td>Female</td>\n",
       "      <td>1959-01-18</td>\n",
       "      <td>64</td>\n",
       "    </tr>\n",
       "  </tbody>\n",
       "</table>\n",
       "</div>"
      ],
      "text/plain": [
       "      numzan   numgroup  numclient                  type1              type2  \\\n",
       "0  401346550  801346550  101352023  Физическая активность  ОНЛАЙН Гимнастика   \n",
       "1  401348283  801346550  101352023  Физическая активность  ОНЛАЙН Гимнастика   \n",
       "2  401351970  801346550  101352023  Физическая активность  ОНЛАЙН Гимнастика   \n",
       "3  401355095  801346550  101352023  Физическая активность  ОНЛАЙН Гимнастика   \n",
       "4  401365374  801346550  101352023  Физическая активность  ОНЛАЙН Гимнастика   \n",
       "\n",
       "          type3 online       date     sex  datebirth  age  \n",
       "0  ОНЛАЙН Цигун    Yes 2022-08-01  Female 1959-01-18   64  \n",
       "1  ОНЛАЙН Цигун    Yes 2022-08-03  Female 1959-01-18   64  \n",
       "2  ОНЛАЙН Цигун    Yes 2022-08-08  Female 1959-01-18   64  \n",
       "3  ОНЛАЙН Цигун    Yes 2022-08-10  Female 1959-01-18   64  \n",
       "4  ОНЛАЙН Цигун    Yes 2022-08-22  Female 1959-01-18   64  "
      ]
     },
     "execution_count": 70,
     "metadata": {},
     "output_type": "execute_result"
    }
   ],
   "source": [
    "# Создаем столбец, в который записываем возраст пользователя\n",
    "united1['age'] = united1['datebirth'].apply(\n",
    "               lambda x: today.year - x.year - \n",
    "               ((today.month, today.day) < (x.month, x.day)) \n",
    "               )\n",
    "united1.head()"
   ]
  },
  {
   "cell_type": "code",
   "execution_count": 112,
   "id": "af71014a",
   "metadata": {},
   "outputs": [
    {
     "data": {
      "text/html": [
       "<div>\n",
       "<style scoped>\n",
       "    .dataframe tbody tr th:only-of-type {\n",
       "        vertical-align: middle;\n",
       "    }\n",
       "\n",
       "    .dataframe tbody tr th {\n",
       "        vertical-align: top;\n",
       "    }\n",
       "\n",
       "    .dataframe thead th {\n",
       "        text-align: right;\n",
       "    }\n",
       "</style>\n",
       "<table border=\"1\" class=\"dataframe\">\n",
       "  <thead>\n",
       "    <tr style=\"text-align: right;\">\n",
       "      <th></th>\n",
       "      <th>min_age</th>\n",
       "      <th>max_age</th>\n",
       "      <th>avg_age</th>\n",
       "    </tr>\n",
       "    <tr>\n",
       "      <th>sex</th>\n",
       "      <th></th>\n",
       "      <th></th>\n",
       "      <th></th>\n",
       "    </tr>\n",
       "  </thead>\n",
       "  <tbody>\n",
       "    <tr>\n",
       "      <th>Female</th>\n",
       "      <td>42</td>\n",
       "      <td>96</td>\n",
       "      <td>67.487457</td>\n",
       "    </tr>\n",
       "    <tr>\n",
       "      <th>Male</th>\n",
       "      <td>42</td>\n",
       "      <td>96</td>\n",
       "      <td>70.034273</td>\n",
       "    </tr>\n",
       "  </tbody>\n",
       "</table>\n",
       "</div>"
      ],
      "text/plain": [
       "        min_age  max_age    avg_age\n",
       "sex                                \n",
       "Female       42       96  67.487457\n",
       "Male         42       96  70.034273"
      ]
     },
     "execution_count": 112,
     "metadata": {},
     "output_type": "execute_result"
    }
   ],
   "source": [
    "# Возрасты по полу\n",
    "united1.groupby(['sex']).agg(\n",
    "    min_age=('age','min'),\n",
    "    max_age=('age','max'),\n",
    "    avg_age=('age', 'mean'),\n",
    ")"
   ]
  },
  {
   "cell_type": "code",
   "execution_count": 100,
   "id": "e474664c",
   "metadata": {},
   "outputs": [
    {
     "name": "stdout",
     "output_type": "stream",
     "text": [
      "Количество женщин моложе 55 лет: 505 человек\n"
     ]
    }
   ],
   "source": [
    "# Посчитаем количество женщин моложе 55 лет\n",
    "age_fem_young = united1.loc[((united1['age'] <= 55) & (united1['sex'] == 'Female'))]\n",
    "print(f'Количество женщин моложе 55 лет: {age_fem_young.numclient.nunique()} человек')"
   ]
  },
  {
   "cell_type": "code",
   "execution_count": 101,
   "id": "644e0802",
   "metadata": {},
   "outputs": [
    {
     "name": "stdout",
     "output_type": "stream",
     "text": [
      "Количество мужчин моложе 60 лет: 216 человек\n"
     ]
    }
   ],
   "source": [
    "# Количество мужчин моложе 60 лет\n",
    "age_mal_young = united1.loc[((united1['age'] <= 60) & (united1['sex'] == 'Male'))]\n",
    "print(f'Количество мужчин моложе 60 лет: {age_mal_young.numclient.nunique()} человек')"
   ]
  },
  {
   "cell_type": "code",
   "execution_count": 120,
   "id": "73624931",
   "metadata": {},
   "outputs": [
    {
     "data": {
      "text/html": [
       "<div>\n",
       "<style scoped>\n",
       "    .dataframe tbody tr th:only-of-type {\n",
       "        vertical-align: middle;\n",
       "    }\n",
       "\n",
       "    .dataframe tbody tr th {\n",
       "        vertical-align: top;\n",
       "    }\n",
       "\n",
       "    .dataframe thead th {\n",
       "        text-align: right;\n",
       "    }\n",
       "</style>\n",
       "<table border=\"1\" class=\"dataframe\">\n",
       "  <thead>\n",
       "    <tr style=\"text-align: right;\">\n",
       "      <th></th>\n",
       "      <th></th>\n",
       "      <th>numclient</th>\n",
       "    </tr>\n",
       "    <tr>\n",
       "      <th>date</th>\n",
       "      <th>sex</th>\n",
       "      <th></th>\n",
       "    </tr>\n",
       "  </thead>\n",
       "  <tbody>\n",
       "    <tr>\n",
       "      <th rowspan=\"2\" valign=\"top\">2022-04-30</th>\n",
       "      <th>Female</th>\n",
       "      <td>28923</td>\n",
       "    </tr>\n",
       "    <tr>\n",
       "      <th>Male</th>\n",
       "      <td>2344</td>\n",
       "    </tr>\n",
       "    <tr>\n",
       "      <th rowspan=\"2\" valign=\"top\">2022-05-31</th>\n",
       "      <th>Female</th>\n",
       "      <td>28517</td>\n",
       "    </tr>\n",
       "    <tr>\n",
       "      <th>Male</th>\n",
       "      <td>2367</td>\n",
       "    </tr>\n",
       "    <tr>\n",
       "      <th rowspan=\"2\" valign=\"top\">2022-06-30</th>\n",
       "      <th>Female</th>\n",
       "      <td>27353</td>\n",
       "    </tr>\n",
       "    <tr>\n",
       "      <th>Male</th>\n",
       "      <td>2232</td>\n",
       "    </tr>\n",
       "    <tr>\n",
       "      <th rowspan=\"2\" valign=\"top\">2022-07-31</th>\n",
       "      <th>Female</th>\n",
       "      <td>25365</td>\n",
       "    </tr>\n",
       "    <tr>\n",
       "      <th>Male</th>\n",
       "      <td>1964</td>\n",
       "    </tr>\n",
       "    <tr>\n",
       "      <th rowspan=\"2\" valign=\"top\">2022-08-31</th>\n",
       "      <th>Female</th>\n",
       "      <td>26186</td>\n",
       "    </tr>\n",
       "    <tr>\n",
       "      <th>Male</th>\n",
       "      <td>1976</td>\n",
       "    </tr>\n",
       "    <tr>\n",
       "      <th rowspan=\"2\" valign=\"top\">2022-09-30</th>\n",
       "      <th>Female</th>\n",
       "      <td>32556</td>\n",
       "    </tr>\n",
       "    <tr>\n",
       "      <th>Male</th>\n",
       "      <td>2799</td>\n",
       "    </tr>\n",
       "    <tr>\n",
       "      <th rowspan=\"2\" valign=\"top\">2022-10-31</th>\n",
       "      <th>Female</th>\n",
       "      <td>36560</td>\n",
       "    </tr>\n",
       "    <tr>\n",
       "      <th>Male</th>\n",
       "      <td>3352</td>\n",
       "    </tr>\n",
       "    <tr>\n",
       "      <th rowspan=\"2\" valign=\"top\">2022-11-30</th>\n",
       "      <th>Female</th>\n",
       "      <td>39349</td>\n",
       "    </tr>\n",
       "    <tr>\n",
       "      <th>Male</th>\n",
       "      <td>3799</td>\n",
       "    </tr>\n",
       "    <tr>\n",
       "      <th rowspan=\"2\" valign=\"top\">2022-12-31</th>\n",
       "      <th>Female</th>\n",
       "      <td>39675</td>\n",
       "    </tr>\n",
       "    <tr>\n",
       "      <th>Male</th>\n",
       "      <td>3919</td>\n",
       "    </tr>\n",
       "    <tr>\n",
       "      <th rowspan=\"2\" valign=\"top\">2023-01-31</th>\n",
       "      <th>Female</th>\n",
       "      <td>40759</td>\n",
       "    </tr>\n",
       "    <tr>\n",
       "      <th>Male</th>\n",
       "      <td>4129</td>\n",
       "    </tr>\n",
       "    <tr>\n",
       "      <th rowspan=\"2\" valign=\"top\">2023-02-28</th>\n",
       "      <th>Female</th>\n",
       "      <td>41894</td>\n",
       "    </tr>\n",
       "    <tr>\n",
       "      <th>Male</th>\n",
       "      <td>4301</td>\n",
       "    </tr>\n",
       "  </tbody>\n",
       "</table>\n",
       "</div>"
      ],
      "text/plain": [
       "                   numclient\n",
       "date       sex              \n",
       "2022-04-30 Female      28923\n",
       "           Male         2344\n",
       "2022-05-31 Female      28517\n",
       "           Male         2367\n",
       "2022-06-30 Female      27353\n",
       "           Male         2232\n",
       "2022-07-31 Female      25365\n",
       "           Male         1964\n",
       "2022-08-31 Female      26186\n",
       "           Male         1976\n",
       "2022-09-30 Female      32556\n",
       "           Male         2799\n",
       "2022-10-31 Female      36560\n",
       "           Male         3352\n",
       "2022-11-30 Female      39349\n",
       "           Male         3799\n",
       "2022-12-31 Female      39675\n",
       "           Male         3919\n",
       "2023-01-31 Female      40759\n",
       "           Male         4129\n",
       "2023-02-28 Female      41894\n",
       "           Male         4301"
      ]
     },
     "execution_count": 120,
     "metadata": {},
     "output_type": "execute_result"
    }
   ],
   "source": [
    "# Количество регистраций на мероприятия по месяцам\n",
    "united1.groupby([pd.Grouper(freq=\"1M\", key=\"date\"), \"sex\"])[[\"numclient\"]].nunique()"
   ]
  },
  {
   "cell_type": "code",
   "execution_count": 123,
   "id": "a43e0b65",
   "metadata": {},
   "outputs": [
    {
     "data": {
      "text/plain": [
       "<Axes: xlabel='date'>"
      ]
     },
     "execution_count": 123,
     "metadata": {},
     "output_type": "execute_result"
    },
    {
     "data": {
      "image/png": "[encoded data removed]",
      "text/plain": [
       "<Figure size 640x480 with 1 Axes>"
      ]
     },
     "metadata": {},
     "output_type": "display_data"
    }
   ],
   "source": [
    "# Количество регистраций на мероприятия по месяцам - активность растет\n",
    "united1.groupby([pd.Grouper(freq=\"1M\", key=\"date\")])[[\"numclient\"]].nunique().plot(legend=True)"
   ]
  },
  {
   "cell_type": "code",
   "execution_count": 133,
   "id": "6fc4a2e6",
   "metadata": {},
   "outputs": [
    {
     "data": {
      "text/plain": [
       "<Axes: xlabel='datebirth'>"
      ]
     },
     "execution_count": 133,
     "metadata": {},
     "output_type": "execute_result"
    },
    {
     "data": {
      "image/png": "[encoded data removed]",
      "text/plain": [
       "<Figure size 640x480 with 1 Axes>"
      ]
     },
     "metadata": {},
     "output_type": "display_data"
    }
   ],
   "source": [
    "# Участники программы по годам рождения\n",
    "united1.groupby([pd.Grouper(freq=\"5Y\", key=\"datebirth\")])[[\"numclient\"]].nunique().plot(legend=True)"
   ]
  },
  {
   "cell_type": "code",
   "execution_count": 135,
   "id": "efaa8a8f",
   "metadata": {},
   "outputs": [
    {
     "data": {
      "text/plain": [
       "<Axes: xlabel='date'>"
      ]
     },
     "execution_count": 135,
     "metadata": {},
     "output_type": "execute_result"
    },
    {
     "data": {
      "image/png": "[encoded data removed]",
      "text/plain": [
       "<Figure size 640x480 with 1 Axes>"
      ]
     },
     "metadata": {},
     "output_type": "display_data"
    }
   ],
   "source": [
    "# Количество занятий - активностей - как меняется в течение года\n",
    "united1.groupby([pd.Grouper(freq=\"1M\", key=\"date\")])[[\"numzan\"]].nunique().plot(legend=True)"
   ]
  },
  {
   "cell_type": "code",
   "execution_count": 139,
   "id": "6665b871",
   "metadata": {},
   "outputs": [
    {
     "data": {
      "text/html": [
       "<div>\n",
       "<style scoped>\n",
       "    .dataframe tbody tr th:only-of-type {\n",
       "        vertical-align: middle;\n",
       "    }\n",
       "\n",
       "    .dataframe tbody tr th {\n",
       "        vertical-align: top;\n",
       "    }\n",
       "\n",
       "    .dataframe thead th {\n",
       "        text-align: right;\n",
       "    }\n",
       "</style>\n",
       "<table border=\"1\" class=\"dataframe\">\n",
       "  <thead>\n",
       "    <tr style=\"text-align: right;\">\n",
       "      <th></th>\n",
       "      <th>numzan</th>\n",
       "      <th>numgroup</th>\n",
       "      <th>numclient</th>\n",
       "      <th>type1</th>\n",
       "      <th>type2</th>\n",
       "      <th>type3</th>\n",
       "      <th>online</th>\n",
       "      <th>date</th>\n",
       "      <th>sex</th>\n",
       "      <th>datebirth</th>\n",
       "      <th>age</th>\n",
       "    </tr>\n",
       "  </thead>\n",
       "  <tbody>\n",
       "    <tr>\n",
       "      <th>0</th>\n",
       "      <td>401346550</td>\n",
       "      <td>801346550</td>\n",
       "      <td>101352023</td>\n",
       "      <td>Физическая активность</td>\n",
       "      <td>ОНЛАЙН Гимнастика</td>\n",
       "      <td>ОНЛАЙН Цигун</td>\n",
       "      <td>Yes</td>\n",
       "      <td>2022-08-01</td>\n",
       "      <td>Female</td>\n",
       "      <td>1959-01-18</td>\n",
       "      <td>64</td>\n",
       "    </tr>\n",
       "    <tr>\n",
       "      <th>1</th>\n",
       "      <td>401348283</td>\n",
       "      <td>801346550</td>\n",
       "      <td>101352023</td>\n",
       "      <td>Физическая активность</td>\n",
       "      <td>ОНЛАЙН Гимнастика</td>\n",
       "      <td>ОНЛАЙН Цигун</td>\n",
       "      <td>Yes</td>\n",
       "      <td>2022-08-03</td>\n",
       "      <td>Female</td>\n",
       "      <td>1959-01-18</td>\n",
       "      <td>64</td>\n",
       "    </tr>\n",
       "    <tr>\n",
       "      <th>2</th>\n",
       "      <td>401351970</td>\n",
       "      <td>801346550</td>\n",
       "      <td>101352023</td>\n",
       "      <td>Физическая активность</td>\n",
       "      <td>ОНЛАЙН Гимнастика</td>\n",
       "      <td>ОНЛАЙН Цигун</td>\n",
       "      <td>Yes</td>\n",
       "      <td>2022-08-08</td>\n",
       "      <td>Female</td>\n",
       "      <td>1959-01-18</td>\n",
       "      <td>64</td>\n",
       "    </tr>\n",
       "    <tr>\n",
       "      <th>3</th>\n",
       "      <td>401355095</td>\n",
       "      <td>801346550</td>\n",
       "      <td>101352023</td>\n",
       "      <td>Физическая активность</td>\n",
       "      <td>ОНЛАЙН Гимнастика</td>\n",
       "      <td>ОНЛАЙН Цигун</td>\n",
       "      <td>Yes</td>\n",
       "      <td>2022-08-10</td>\n",
       "      <td>Female</td>\n",
       "      <td>1959-01-18</td>\n",
       "      <td>64</td>\n",
       "    </tr>\n",
       "    <tr>\n",
       "      <th>4</th>\n",
       "      <td>401365374</td>\n",
       "      <td>801346550</td>\n",
       "      <td>101352023</td>\n",
       "      <td>Физическая активность</td>\n",
       "      <td>ОНЛАЙН Гимнастика</td>\n",
       "      <td>ОНЛАЙН Цигун</td>\n",
       "      <td>Yes</td>\n",
       "      <td>2022-08-22</td>\n",
       "      <td>Female</td>\n",
       "      <td>1959-01-18</td>\n",
       "      <td>64</td>\n",
       "    </tr>\n",
       "  </tbody>\n",
       "</table>\n",
       "</div>"
      ],
      "text/plain": [
       "      numzan   numgroup  numclient                  type1              type2  \\\n",
       "0  401346550  801346550  101352023  Физическая активность  ОНЛАЙН Гимнастика   \n",
       "1  401348283  801346550  101352023  Физическая активность  ОНЛАЙН Гимнастика   \n",
       "2  401351970  801346550  101352023  Физическая активность  ОНЛАЙН Гимнастика   \n",
       "3  401355095  801346550  101352023  Физическая активность  ОНЛАЙН Гимнастика   \n",
       "4  401365374  801346550  101352023  Физическая активность  ОНЛАЙН Гимнастика   \n",
       "\n",
       "          type3 online       date     sex  datebirth  age  \n",
       "0  ОНЛАЙН Цигун    Yes 2022-08-01  Female 1959-01-18   64  \n",
       "1  ОНЛАЙН Цигун    Yes 2022-08-03  Female 1959-01-18   64  \n",
       "2  ОНЛАЙН Цигун    Yes 2022-08-08  Female 1959-01-18   64  \n",
       "3  ОНЛАЙН Цигун    Yes 2022-08-10  Female 1959-01-18   64  \n",
       "4  ОНЛАЙН Цигун    Yes 2022-08-22  Female 1959-01-18   64  "
      ]
     },
     "execution_count": 139,
     "metadata": {},
     "output_type": "execute_result"
    }
   ],
   "source": [
    "united1.head()"
   ]
  },
  {
   "cell_type": "code",
   "execution_count": 140,
   "id": "0a47c94f",
   "metadata": {},
   "outputs": [
    {
     "data": {
      "text/plain": [
       "Index(['numzan', 'numgroup', 'numclient', 'type1', 'type2', 'type3', 'online',\n",
       "       'date', 'sex', 'datebirth', 'age'],\n",
       "      dtype='object')"
      ]
     },
     "execution_count": 140,
     "metadata": {},
     "output_type": "execute_result"
    }
   ],
   "source": [
    "united1.columns"
   ]
  },
  {
   "cell_type": "code",
   "execution_count": 216,
   "id": "497951ce",
   "metadata": {},
   "outputs": [],
   "source": [
    "# df = united1.copy()\n",
    "# df = df.astype({'type1' : 'category', 'type2' : 'category'})\n",
    "# df.info()"
   ]
  },
  {
   "cell_type": "code",
   "execution_count": 204,
   "id": "c6817831",
   "metadata": {},
   "outputs": [
    {
     "data": {
      "text/html": [
       "<div>\n",
       "<style scoped>\n",
       "    .dataframe tbody tr th:only-of-type {\n",
       "        vertical-align: middle;\n",
       "    }\n",
       "\n",
       "    .dataframe tbody tr th {\n",
       "        vertical-align: top;\n",
       "    }\n",
       "\n",
       "    .dataframe thead th {\n",
       "        text-align: right;\n",
       "    }\n",
       "</style>\n",
       "<table border=\"1\" class=\"dataframe\">\n",
       "  <thead>\n",
       "    <tr style=\"text-align: right;\">\n",
       "      <th></th>\n",
       "      <th>numgroup</th>\n",
       "      <th>type2</th>\n",
       "    </tr>\n",
       "  </thead>\n",
       "  <tbody>\n",
       "    <tr>\n",
       "      <th>0</th>\n",
       "      <td>801346550</td>\n",
       "      <td>ОНЛАЙН Гимнастика</td>\n",
       "    </tr>\n",
       "    <tr>\n",
       "      <th>855</th>\n",
       "      <td>801350331</td>\n",
       "      <td>ОНЛАЙН Красота и стиль</td>\n",
       "    </tr>\n",
       "    <tr>\n",
       "      <th>3328</th>\n",
       "      <td>801349666</td>\n",
       "      <td>ОФП</td>\n",
       "    </tr>\n",
       "    <tr>\n",
       "      <th>3812</th>\n",
       "      <td>801349670</td>\n",
       "      <td>Скандинавская ходьба</td>\n",
       "    </tr>\n",
       "    <tr>\n",
       "      <th>4311</th>\n",
       "      <td>801351049</td>\n",
       "      <td>ОНЛАЙН Домоводство</td>\n",
       "    </tr>\n",
       "  </tbody>\n",
       "</table>\n",
       "</div>"
      ],
      "text/plain": [
       "       numgroup                   type2\n",
       "0     801346550       ОНЛАЙН Гимнастика\n",
       "855   801350331  ОНЛАЙН Красота и стиль\n",
       "3328  801349666                     ОФП\n",
       "3812  801349670    Скандинавская ходьба\n",
       "4311  801351049      ОНЛАЙН Домоводство"
      ]
     },
     "execution_count": 204,
     "metadata": {},
     "output_type": "execute_result"
    }
   ],
   "source": [
    "united_m = united1.drop_duplicates (subset=['numgroup', 'type2'])\n",
    "united_m = united_m.loc[:,['numgroup', 'type2']]\n",
    "united_m.head()"
   ]
  },
  {
   "cell_type": "code",
   "execution_count": 215,
   "id": "9ebc9d5e",
   "metadata": {},
   "outputs": [
    {
     "data": {
      "text/plain": [
       "count          24535\n",
       "unique            81\n",
       "top       Гимнастика\n",
       "freq            2668\n",
       "Name: type2, dtype: object"
      ]
     },
     "execution_count": 215,
     "metadata": {},
     "output_type": "execute_result"
    }
   ],
   "source": [
    "types = united_m['type2']\n",
    "types.describe()"
   ]
  },
  {
   "cell_type": "code",
   "execution_count": 159,
   "id": "1c2c7dac",
   "metadata": {},
   "outputs": [
    {
     "name": "stdout",
     "output_type": "stream",
     "text": [
      "<class 'pandas.core.frame.DataFrame'>\n",
      "Int64Index: 24535 entries, 0 to 5901273\n",
      "Data columns (total 3 columns):\n",
      " #   Column     Non-Null Count  Dtype \n",
      "---  ------     --------------  ----- \n",
      " 0   numclient  24535 non-null  int64 \n",
      " 1   numgroup   24535 non-null  int64 \n",
      " 2   type2      24535 non-null  object\n",
      "dtypes: int64(2), object(1)\n",
      "memory usage: 766.7+ KB\n"
     ]
    }
   ],
   "source": [
    "united_v = united1.loc[:,['numclient', 'numgroup', 'type2']]\n",
    "united_v = united_v.drop_duplicates (subset=['numgroup', 'type2'])\n",
    "united_v.info()"
   ]
  },
  {
   "cell_type": "code",
   "execution_count": 160,
   "id": "cb7a6db3",
   "metadata": {},
   "outputs": [
    {
     "name": "stdout",
     "output_type": "stream",
     "text": [
      "<class 'pandas.core.frame.DataFrame'>\n",
      "RangeIndex: 200 entries, 0 to 199\n",
      "Data columns (total 2 columns):\n",
      " #   Column                      Non-Null Count  Dtype  \n",
      "---  ------                      --------------  -----  \n",
      " 0   уникальный номер участника  200 non-null    int64  \n",
      " 1   уникальный номер группы     0 non-null      float64\n",
      "dtypes: float64(1), int64(1)\n",
      "memory usage: 3.2 KB\n"
     ]
    }
   ],
   "source": [
    "test = pd.read_csv('I:/Download/Датасеты/test.csv')\n",
    "test.info()"
   ]
  },
  {
   "cell_type": "code",
   "execution_count": 164,
   "id": "42b8afcd",
   "metadata": {},
   "outputs": [
    {
     "data": {
      "text/plain": [
       "False    123\n",
       "True      77\n",
       "Name: уникальный номер участника, dtype: int64"
      ]
     },
     "execution_count": 164,
     "metadata": {},
     "output_type": "execute_result"
    }
   ],
   "source": [
    "test['уникальный номер участника'].isin(united_v['numclient']).value_counts()"
   ]
  },
  {
   "cell_type": "code",
   "execution_count": 165,
   "id": "c2bca2e5",
   "metadata": {},
   "outputs": [
    {
     "data": {
      "text/html": [
       "<div>\n",
       "<style scoped>\n",
       "    .dataframe tbody tr th:only-of-type {\n",
       "        vertical-align: middle;\n",
       "    }\n",
       "\n",
       "    .dataframe tbody tr th {\n",
       "        vertical-align: top;\n",
       "    }\n",
       "\n",
       "    .dataframe thead th {\n",
       "        text-align: right;\n",
       "    }\n",
       "</style>\n",
       "<table border=\"1\" class=\"dataframe\">\n",
       "  <thead>\n",
       "    <tr style=\"text-align: right;\">\n",
       "      <th></th>\n",
       "      <th>numgroup</th>\n",
       "      <th>type2</th>\n",
       "    </tr>\n",
       "  </thead>\n",
       "  <tbody>\n",
       "    <tr>\n",
       "      <th>0</th>\n",
       "      <td>801346550</td>\n",
       "      <td>ОНЛАЙН Гимнастика</td>\n",
       "    </tr>\n",
       "    <tr>\n",
       "      <th>855</th>\n",
       "      <td>801350331</td>\n",
       "      <td>ОНЛАЙН Красота и стиль</td>\n",
       "    </tr>\n",
       "    <tr>\n",
       "      <th>3328</th>\n",
       "      <td>801349666</td>\n",
       "      <td>ОФП</td>\n",
       "    </tr>\n",
       "    <tr>\n",
       "      <th>3812</th>\n",
       "      <td>801349670</td>\n",
       "      <td>Скандинавская ходьба</td>\n",
       "    </tr>\n",
       "    <tr>\n",
       "      <th>4311</th>\n",
       "      <td>801351049</td>\n",
       "      <td>ОНЛАЙН Домоводство</td>\n",
       "    </tr>\n",
       "  </tbody>\n",
       "</table>\n",
       "</div>"
      ],
      "text/plain": [
       "       numgroup                   type2\n",
       "0     801346550       ОНЛАЙН Гимнастика\n",
       "855   801350331  ОНЛАЙН Красота и стиль\n",
       "3328  801349666                     ОФП\n",
       "3812  801349670    Скандинавская ходьба\n",
       "4311  801351049      ОНЛАЙН Домоводство"
      ]
     },
     "execution_count": 165,
     "metadata": {},
     "output_type": "execute_result"
    }
   ],
   "source": [
    "mod1 = united_m.copy()\n",
    "mod1.head()"
   ]
  },
  {
   "cell_type": "code",
   "execution_count": 166,
   "id": "7cc91efd",
   "metadata": {},
   "outputs": [
    {
     "data": {
      "text/html": [
       "<div>\n",
       "<style scoped>\n",
       "    .dataframe tbody tr th:only-of-type {\n",
       "        vertical-align: middle;\n",
       "    }\n",
       "\n",
       "    .dataframe tbody tr th {\n",
       "        vertical-align: top;\n",
       "    }\n",
       "\n",
       "    .dataframe thead th {\n",
       "        text-align: right;\n",
       "    }\n",
       "</style>\n",
       "<table border=\"1\" class=\"dataframe\">\n",
       "  <thead>\n",
       "    <tr style=\"text-align: right;\">\n",
       "      <th></th>\n",
       "      <th>numclient</th>\n",
       "      <th>numgroup</th>\n",
       "      <th>type2</th>\n",
       "    </tr>\n",
       "  </thead>\n",
       "  <tbody>\n",
       "    <tr>\n",
       "      <th>0</th>\n",
       "      <td>101352023</td>\n",
       "      <td>801346550</td>\n",
       "      <td>ОНЛАЙН Гимнастика</td>\n",
       "    </tr>\n",
       "    <tr>\n",
       "      <th>855</th>\n",
       "      <td>101352023</td>\n",
       "      <td>801350331</td>\n",
       "      <td>ОНЛАЙН Красота и стиль</td>\n",
       "    </tr>\n",
       "    <tr>\n",
       "      <th>3328</th>\n",
       "      <td>101352023</td>\n",
       "      <td>801349666</td>\n",
       "      <td>ОФП</td>\n",
       "    </tr>\n",
       "    <tr>\n",
       "      <th>3812</th>\n",
       "      <td>101352023</td>\n",
       "      <td>801349670</td>\n",
       "      <td>Скандинавская ходьба</td>\n",
       "    </tr>\n",
       "    <tr>\n",
       "      <th>4311</th>\n",
       "      <td>101352023</td>\n",
       "      <td>801351049</td>\n",
       "      <td>ОНЛАЙН Домоводство</td>\n",
       "    </tr>\n",
       "  </tbody>\n",
       "</table>\n",
       "</div>"
      ],
      "text/plain": [
       "      numclient   numgroup                   type2\n",
       "0     101352023  801346550       ОНЛАЙН Гимнастика\n",
       "855   101352023  801350331  ОНЛАЙН Красота и стиль\n",
       "3328  101352023  801349666                     ОФП\n",
       "3812  101352023  801349670    Скандинавская ходьба\n",
       "4311  101352023  801351049      ОНЛАЙН Домоводство"
      ]
     },
     "execution_count": 166,
     "metadata": {},
     "output_type": "execute_result"
    }
   ],
   "source": [
    "mod2 = united_v.copy()\n",
    "mod2.head()"
   ]
  },
  {
   "cell_type": "code",
   "execution_count": 231,
   "id": "1ec26fe3",
   "metadata": {},
   "outputs": [],
   "source": [
    "import category_encoders as ce"
   ]
  },
  {
   "cell_type": "code",
   "execution_count": 232,
   "id": "a9885571",
   "metadata": {},
   "outputs": [
    {
     "data": {
      "text/html": [
       "<div>\n",
       "<style scoped>\n",
       "    .dataframe tbody tr th:only-of-type {\n",
       "        vertical-align: middle;\n",
       "    }\n",
       "\n",
       "    .dataframe tbody tr th {\n",
       "        vertical-align: top;\n",
       "    }\n",
       "\n",
       "    .dataframe thead th {\n",
       "        text-align: right;\n",
       "    }\n",
       "</style>\n",
       "<table border=\"1\" class=\"dataframe\">\n",
       "  <thead>\n",
       "    <tr style=\"text-align: right;\">\n",
       "      <th></th>\n",
       "      <th>type1</th>\n",
       "      <th>type2</th>\n",
       "      <th>type3</th>\n",
       "      <th>online</th>\n",
       "      <th>sex</th>\n",
       "    </tr>\n",
       "  </thead>\n",
       "  <tbody>\n",
       "    <tr>\n",
       "      <th>0</th>\n",
       "      <td>Физическая активность</td>\n",
       "      <td>ОНЛАЙН Гимнастика</td>\n",
       "      <td>ОНЛАЙН Цигун</td>\n",
       "      <td>Yes</td>\n",
       "      <td>Female</td>\n",
       "    </tr>\n",
       "    <tr>\n",
       "      <th>1</th>\n",
       "      <td>Физическая активность</td>\n",
       "      <td>ОНЛАЙН Гимнастика</td>\n",
       "      <td>ОНЛАЙН Цигун</td>\n",
       "      <td>Yes</td>\n",
       "      <td>Female</td>\n",
       "    </tr>\n",
       "    <tr>\n",
       "      <th>2</th>\n",
       "      <td>Физическая активность</td>\n",
       "      <td>ОНЛАЙН Гимнастика</td>\n",
       "      <td>ОНЛАЙН Цигун</td>\n",
       "      <td>Yes</td>\n",
       "      <td>Female</td>\n",
       "    </tr>\n",
       "    <tr>\n",
       "      <th>3</th>\n",
       "      <td>Физическая активность</td>\n",
       "      <td>ОНЛАЙН Гимнастика</td>\n",
       "      <td>ОНЛАЙН Цигун</td>\n",
       "      <td>Yes</td>\n",
       "      <td>Female</td>\n",
       "    </tr>\n",
       "    <tr>\n",
       "      <th>4</th>\n",
       "      <td>Физическая активность</td>\n",
       "      <td>ОНЛАЙН Гимнастика</td>\n",
       "      <td>ОНЛАЙН Цигун</td>\n",
       "      <td>Yes</td>\n",
       "      <td>Female</td>\n",
       "    </tr>\n",
       "  </tbody>\n",
       "</table>\n",
       "</div>"
      ],
      "text/plain": [
       "                   type1              type2         type3 online     sex\n",
       "0  Физическая активность  ОНЛАЙН Гимнастика  ОНЛАЙН Цигун    Yes  Female\n",
       "1  Физическая активность  ОНЛАЙН Гимнастика  ОНЛАЙН Цигун    Yes  Female\n",
       "2  Физическая активность  ОНЛАЙН Гимнастика  ОНЛАЙН Цигун    Yes  Female\n",
       "3  Физическая активность  ОНЛАЙН Гимнастика  ОНЛАЙН Цигун    Yes  Female\n",
       "4  Физическая активность  ОНЛАЙН Гимнастика  ОНЛАЙН Цигун    Yes  Female"
      ]
     },
     "execution_count": 232,
     "metadata": {},
     "output_type": "execute_result"
    }
   ],
   "source": [
    "united2 = united1.select_dtypes(include=['object']).copy()\n",
    "united2.head()"
   ]
  },
  {
   "cell_type": "code",
   "execution_count": 243,
   "id": "fd3f1dc6",
   "metadata": {},
   "outputs": [
    {
     "name": "stdout",
     "output_type": "stream",
     "text": [
      "(24535, 2)\n"
     ]
    }
   ],
   "source": [
    "un = united_m.copy()\n",
    "print(un.shape)"
   ]
  },
  {
   "cell_type": "code",
   "execution_count": 252,
   "id": "adbc335a",
   "metadata": {},
   "outputs": [
    {
     "name": "stderr",
     "output_type": "stream",
     "text": [
      "C:\\Users\\oigla\\anaconda3\\lib\\site-packages\\category_encoders\\base_contrast_encoder.py:126: FutureWarning: Intercept column might not be added anymore in future releases (c.f. issue #370)\n",
      "  warnings.warn(\"Intercept column might not be added anymore in future releases (c.f. issue #370)\",\n"
     ]
    },
    {
     "data": {
      "text/html": [
       "<style>#sk-container-id-3 {color: black;background-color: white;}#sk-container-id-3 pre{padding: 0;}#sk-container-id-3 div.sk-toggleable {background-color: white;}#sk-container-id-3 label.sk-toggleable__label {cursor: pointer;display: block;width: 100%;margin-bottom: 0;padding: 0.3em;box-sizing: border-box;text-align: center;}#sk-container-id-3 label.sk-toggleable__label-arrow:before {content: \"▸\";float: left;margin-right: 0.25em;color: #696969;}#sk-container-id-3 label.sk-toggleable__label-arrow:hover:before {color: black;}#sk-container-id-3 div.sk-estimator:hover label.sk-toggleable__label-arrow:before {color: black;}#sk-container-id-3 div.sk-toggleable__content {max-height: 0;max-width: 0;overflow: hidden;text-align: left;background-color: #f0f8ff;}#sk-container-id-3 div.sk-toggleable__content pre {margin: 0.2em;color: black;border-radius: 0.25em;background-color: #f0f8ff;}#sk-container-id-3 input.sk-toggleable__control:checked~div.sk-toggleable__content {max-height: 200px;max-width: 100%;overflow: auto;}#sk-container-id-3 input.sk-toggleable__control:checked~label.sk-toggleable__label-arrow:before {content: \"▾\";}#sk-container-id-3 div.sk-estimator input.sk-toggleable__control:checked~label.sk-toggleable__label {background-color: #d4ebff;}#sk-container-id-3 div.sk-label input.sk-toggleable__control:checked~label.sk-toggleable__label {background-color: #d4ebff;}#sk-container-id-3 input.sk-hidden--visually {border: 0;clip: rect(1px 1px 1px 1px);clip: rect(1px, 1px, 1px, 1px);height: 1px;margin: -1px;overflow: hidden;padding: 0;position: absolute;width: 1px;}#sk-container-id-3 div.sk-estimator {font-family: monospace;background-color: #f0f8ff;border: 1px dotted black;border-radius: 0.25em;box-sizing: border-box;margin-bottom: 0.5em;}#sk-container-id-3 div.sk-estimator:hover {background-color: #d4ebff;}#sk-container-id-3 div.sk-parallel-item::after {content: \"\";width: 100%;border-bottom: 1px solid gray;flex-grow: 1;}#sk-container-id-3 div.sk-label:hover label.sk-toggleable__label {background-color: #d4ebff;}#sk-container-id-3 div.sk-serial::before {content: \"\";position: absolute;border-left: 1px solid gray;box-sizing: border-box;top: 0;bottom: 0;left: 50%;z-index: 0;}#sk-container-id-3 div.sk-serial {display: flex;flex-direction: column;align-items: center;background-color: white;padding-right: 0.2em;padding-left: 0.2em;position: relative;}#sk-container-id-3 div.sk-item {position: relative;z-index: 1;}#sk-container-id-3 div.sk-parallel {display: flex;align-items: stretch;justify-content: center;background-color: white;position: relative;}#sk-container-id-3 div.sk-item::before, #sk-container-id-3 div.sk-parallel-item::before {content: \"\";position: absolute;border-left: 1px solid gray;box-sizing: border-box;top: 0;bottom: 0;left: 50%;z-index: -1;}#sk-container-id-3 div.sk-parallel-item {display: flex;flex-direction: column;z-index: 1;position: relative;background-color: white;}#sk-container-id-3 div.sk-parallel-item:first-child::after {align-self: flex-end;width: 50%;}#sk-container-id-3 div.sk-parallel-item:last-child::after {align-self: flex-start;width: 50%;}#sk-container-id-3 div.sk-parallel-item:only-child::after {width: 0;}#sk-container-id-3 div.sk-dashed-wrapped {border: 1px dashed gray;margin: 0 0.4em 0.5em 0.4em;box-sizing: border-box;padding-bottom: 0.4em;background-color: white;}#sk-container-id-3 div.sk-label label {font-family: monospace;font-weight: bold;display: inline-block;line-height: 1.2em;}#sk-container-id-3 div.sk-label-container {text-align: center;}#sk-container-id-3 div.sk-container {/* jupyter's `normalize.less` sets `[hidden] { display: none; }` but bootstrap.min.css set `[hidden] { display: none !important; }` so we also need the `!important` here to be able to override the default hidden behavior on the sphinx rendered scikit-learn.org. See: https://github.com/scikit-learn/scikit-learn/issues/21755 */display: inline-block !important;position: relative;}#sk-container-id-3 div.sk-text-repr-fallback {display: none;}</style><div id=\"sk-container-id-3\" class=\"sk-top-container\"><div class=\"sk-text-repr-fallback\"><pre>BackwardDifferenceEncoder(cols=[&#x27;type2&#x27;],\n",
       "                          mapping=[{&#x27;col&#x27;: &#x27;type2&#x27;,\n",
       "                                    &#x27;mapping&#x27;:       type2_0   type2_1   type2_2   type2_3   type2_4   type2_5  type2_6  \\\n",
       " 1  -0.987654 -0.975309 -0.962963 -0.950617 -0.938272 -0.925926 -0.91358   \n",
       " 2   0.012346 -0.975309 -0.962963 -0.950617 -0.938272 -0.925926 -0.91358   \n",
       " 3   0.012346  0.024691 -0.962963 -0.950617 -0.938272 -0.925926 -0.91358   \n",
       " 4   0.012346  0.024691  0.037037 -0.950617 -0.93...\n",
       " 78   0.91358  0.925926  0.938272  0.950617 -0.037037 -0.024691 -0.012346  \n",
       " 79   0.91358  0.925926  0.938272  0.950617  0.962963 -0.024691 -0.012346  \n",
       " 80   0.91358  0.925926  0.938272  0.950617  0.962963  0.975309 -0.012346  \n",
       " 81   0.91358  0.925926  0.938272  0.950617  0.962963  0.975309  0.987654  \n",
       "-1    0.00000  0.000000  0.000000  0.000000  0.000000  0.000000  0.000000  \n",
       "-2    0.00000  0.000000  0.000000  0.000000  0.000000  0.000000  0.000000  \n",
       "\n",
       "[83 rows x 80 columns]}])</pre><b>In a Jupyter environment, please rerun this cell to show the HTML representation or trust the notebook. <br />On GitHub, the HTML representation is unable to render, please try loading this page with nbviewer.org.</b></div><div class=\"sk-container\" hidden><div class=\"sk-item\"><div class=\"sk-estimator sk-toggleable\"><input class=\"sk-toggleable__control sk-hidden--visually\" id=\"sk-estimator-id-3\" type=\"checkbox\" checked><label for=\"sk-estimator-id-3\" class=\"sk-toggleable__label sk-toggleable__label-arrow\">BackwardDifferenceEncoder</label><div class=\"sk-toggleable__content\"><pre>BackwardDifferenceEncoder(cols=[&#x27;type2&#x27;],\n",
       "                          mapping=[{&#x27;col&#x27;: &#x27;type2&#x27;,\n",
       "                                    &#x27;mapping&#x27;:       type2_0   type2_1   type2_2   type2_3   type2_4   type2_5  type2_6  \\\n",
       " 1  -0.987654 -0.975309 -0.962963 -0.950617 -0.938272 -0.925926 -0.91358   \n",
       " 2   0.012346 -0.975309 -0.962963 -0.950617 -0.938272 -0.925926 -0.91358   \n",
       " 3   0.012346  0.024691 -0.962963 -0.950617 -0.938272 -0.925926 -0.91358   \n",
       " 4   0.012346  0.024691  0.037037 -0.950617 -0.93...\n",
       " 78   0.91358  0.925926  0.938272  0.950617 -0.037037 -0.024691 -0.012346  \n",
       " 79   0.91358  0.925926  0.938272  0.950617  0.962963 -0.024691 -0.012346  \n",
       " 80   0.91358  0.925926  0.938272  0.950617  0.962963  0.975309 -0.012346  \n",
       " 81   0.91358  0.925926  0.938272  0.950617  0.962963  0.975309  0.987654  \n",
       "-1    0.00000  0.000000  0.000000  0.000000  0.000000  0.000000  0.000000  \n",
       "-2    0.00000  0.000000  0.000000  0.000000  0.000000  0.000000  0.000000  \n",
       "\n",
       "[83 rows x 80 columns]}])</pre></div></div></div></div></div>"
      ],
      "text/plain": [
       "BackwardDifferenceEncoder(cols=['type2'],\n",
       "                          mapping=[{'col': 'type2',\n",
       "                                    'mapping':       type2_0   type2_1   type2_2   type2_3   type2_4   type2_5  type2_6  \\\n",
       " 1  -0.987654 -0.975309 -0.962963 -0.950617 -0.938272 -0.925926 -0.91358   \n",
       " 2   0.012346 -0.975309 -0.962963 -0.950617 -0.938272 -0.925926 -0.91358   \n",
       " 3   0.012346  0.024691 -0.962963 -0.950617 -0.938272 -0.925926 -0.91358   \n",
       " 4   0.012346  0.024691  0.037037 -0.950617 -0.93...\n",
       " 78   0.91358  0.925926  0.938272  0.950617 -0.037037 -0.024691 -0.012346  \n",
       " 79   0.91358  0.925926  0.938272  0.950617  0.962963 -0.024691 -0.012346  \n",
       " 80   0.91358  0.925926  0.938272  0.950617  0.962963  0.975309 -0.012346  \n",
       " 81   0.91358  0.925926  0.938272  0.950617  0.962963  0.975309  0.987654  \n",
       "-1    0.00000  0.000000  0.000000  0.000000  0.000000  0.000000  0.000000  \n",
       "-2    0.00000  0.000000  0.000000  0.000000  0.000000  0.000000  0.000000  \n",
       "\n",
       "[83 rows x 80 columns]}])"
      ]
     },
     "execution_count": 252,
     "metadata": {},
     "output_type": "execute_result"
    }
   ],
   "source": [
    "encoder = ce.BackwardDifferenceEncoder(cols=[\"type2\"])\n",
    "encoder.fit(un, verbose=1)"
   ]
  },
  {
   "cell_type": "code",
   "execution_count": 253,
   "id": "ef7f2856",
   "metadata": {},
   "outputs": [
    {
     "name": "stderr",
     "output_type": "stream",
     "text": [
      "C:\\Users\\oigla\\anaconda3\\lib\\site-packages\\category_encoders\\base_contrast_encoder.py:126: FutureWarning: Intercept column might not be added anymore in future releases (c.f. issue #370)\n",
      "  warnings.warn(\"Intercept column might not be added anymore in future releases (c.f. issue #370)\",\n",
      "C:\\Users\\oigla\\anaconda3\\lib\\site-packages\\category_encoders\\base_contrast_encoder.py:126: FutureWarning: Intercept column might not be added anymore in future releases (c.f. issue #370)\n",
      "  warnings.warn(\"Intercept column might not be added anymore in future releases (c.f. issue #370)\",\n"
     ]
    }
   ],
   "source": [
    "un2 = encoder.fit_transform(un, verbose=1).iloc[:,0:14]"
   ]
  },
  {
   "cell_type": "code",
   "execution_count": 255,
   "id": "6e8e2930",
   "metadata": {},
   "outputs": [
    {
     "data": {
      "text/html": [
       "<div>\n",
       "<style scoped>\n",
       "    .dataframe tbody tr th:only-of-type {\n",
       "        vertical-align: middle;\n",
       "    }\n",
       "\n",
       "    .dataframe tbody tr th {\n",
       "        vertical-align: top;\n",
       "    }\n",
       "\n",
       "    .dataframe thead th {\n",
       "        text-align: right;\n",
       "    }\n",
       "</style>\n",
       "<table border=\"1\" class=\"dataframe\">\n",
       "  <thead>\n",
       "    <tr style=\"text-align: right;\">\n",
       "      <th></th>\n",
       "      <th>intercept</th>\n",
       "      <th>numgroup</th>\n",
       "      <th>type2_0</th>\n",
       "      <th>type2_1</th>\n",
       "      <th>type2_2</th>\n",
       "      <th>type2_3</th>\n",
       "      <th>type2_4</th>\n",
       "      <th>type2_5</th>\n",
       "      <th>type2_6</th>\n",
       "      <th>type2_7</th>\n",
       "      <th>type2_8</th>\n",
       "      <th>type2_9</th>\n",
       "      <th>type2_10</th>\n",
       "      <th>type2_11</th>\n",
       "    </tr>\n",
       "  </thead>\n",
       "  <tbody>\n",
       "    <tr>\n",
       "      <th>0</th>\n",
       "      <td>1</td>\n",
       "      <td>801346550</td>\n",
       "      <td>-0.987654</td>\n",
       "      <td>-0.975309</td>\n",
       "      <td>-0.962963</td>\n",
       "      <td>-0.950617</td>\n",
       "      <td>-0.938272</td>\n",
       "      <td>-0.925926</td>\n",
       "      <td>-0.91358</td>\n",
       "      <td>-0.901235</td>\n",
       "      <td>-0.888889</td>\n",
       "      <td>-0.876543</td>\n",
       "      <td>-0.864198</td>\n",
       "      <td>-0.851852</td>\n",
       "    </tr>\n",
       "    <tr>\n",
       "      <th>855</th>\n",
       "      <td>1</td>\n",
       "      <td>801350331</td>\n",
       "      <td>0.012346</td>\n",
       "      <td>-0.975309</td>\n",
       "      <td>-0.962963</td>\n",
       "      <td>-0.950617</td>\n",
       "      <td>-0.938272</td>\n",
       "      <td>-0.925926</td>\n",
       "      <td>-0.91358</td>\n",
       "      <td>-0.901235</td>\n",
       "      <td>-0.888889</td>\n",
       "      <td>-0.876543</td>\n",
       "      <td>-0.864198</td>\n",
       "      <td>-0.851852</td>\n",
       "    </tr>\n",
       "    <tr>\n",
       "      <th>3328</th>\n",
       "      <td>1</td>\n",
       "      <td>801349666</td>\n",
       "      <td>0.012346</td>\n",
       "      <td>0.024691</td>\n",
       "      <td>-0.962963</td>\n",
       "      <td>-0.950617</td>\n",
       "      <td>-0.938272</td>\n",
       "      <td>-0.925926</td>\n",
       "      <td>-0.91358</td>\n",
       "      <td>-0.901235</td>\n",
       "      <td>-0.888889</td>\n",
       "      <td>-0.876543</td>\n",
       "      <td>-0.864198</td>\n",
       "      <td>-0.851852</td>\n",
       "    </tr>\n",
       "    <tr>\n",
       "      <th>3812</th>\n",
       "      <td>1</td>\n",
       "      <td>801349670</td>\n",
       "      <td>0.012346</td>\n",
       "      <td>0.024691</td>\n",
       "      <td>0.037037</td>\n",
       "      <td>-0.950617</td>\n",
       "      <td>-0.938272</td>\n",
       "      <td>-0.925926</td>\n",
       "      <td>-0.91358</td>\n",
       "      <td>-0.901235</td>\n",
       "      <td>-0.888889</td>\n",
       "      <td>-0.876543</td>\n",
       "      <td>-0.864198</td>\n",
       "      <td>-0.851852</td>\n",
       "    </tr>\n",
       "    <tr>\n",
       "      <th>4311</th>\n",
       "      <td>1</td>\n",
       "      <td>801351049</td>\n",
       "      <td>0.012346</td>\n",
       "      <td>0.024691</td>\n",
       "      <td>0.037037</td>\n",
       "      <td>0.049383</td>\n",
       "      <td>-0.938272</td>\n",
       "      <td>-0.925926</td>\n",
       "      <td>-0.91358</td>\n",
       "      <td>-0.901235</td>\n",
       "      <td>-0.888889</td>\n",
       "      <td>-0.876543</td>\n",
       "      <td>-0.864198</td>\n",
       "      <td>-0.851852</td>\n",
       "    </tr>\n",
       "  </tbody>\n",
       "</table>\n",
       "</div>"
      ],
      "text/plain": [
       "      intercept   numgroup   type2_0   type2_1   type2_2   type2_3   type2_4  \\\n",
       "0             1  801346550 -0.987654 -0.975309 -0.962963 -0.950617 -0.938272   \n",
       "855           1  801350331  0.012346 -0.975309 -0.962963 -0.950617 -0.938272   \n",
       "3328          1  801349666  0.012346  0.024691 -0.962963 -0.950617 -0.938272   \n",
       "3812          1  801349670  0.012346  0.024691  0.037037 -0.950617 -0.938272   \n",
       "4311          1  801351049  0.012346  0.024691  0.037037  0.049383 -0.938272   \n",
       "\n",
       "       type2_5  type2_6   type2_7   type2_8   type2_9  type2_10  type2_11  \n",
       "0    -0.925926 -0.91358 -0.901235 -0.888889 -0.876543 -0.864198 -0.851852  \n",
       "855  -0.925926 -0.91358 -0.901235 -0.888889 -0.876543 -0.864198 -0.851852  \n",
       "3328 -0.925926 -0.91358 -0.901235 -0.888889 -0.876543 -0.864198 -0.851852  \n",
       "3812 -0.925926 -0.91358 -0.901235 -0.888889 -0.876543 -0.864198 -0.851852  \n",
       "4311 -0.925926 -0.91358 -0.901235 -0.888889 -0.876543 -0.864198 -0.851852  "
      ]
     },
     "execution_count": 255,
     "metadata": {},
     "output_type": "execute_result"
    }
   ],
   "source": [
    "un2.head()"
   ]
  },
  {
   "cell_type": "code",
   "execution_count": 256,
   "id": "3857769b",
   "metadata": {},
   "outputs": [
    {
     "data": {
      "text/plain": [
       "['intercept',\n",
       " 'numgroup',\n",
       " 'type2_0',\n",
       " 'type2_1',\n",
       " 'type2_2',\n",
       " 'type2_3',\n",
       " 'type2_4',\n",
       " 'type2_5',\n",
       " 'type2_6',\n",
       " 'type2_7',\n",
       " 'type2_8',\n",
       " 'type2_9',\n",
       " 'type2_10',\n",
       " 'type2_11']"
      ]
     },
     "execution_count": 256,
     "metadata": {},
     "output_type": "execute_result"
    }
   ],
   "source": [
    "col_list= list(un2)\n",
    "col_list"
   ]
  },
  {
   "cell_type": "code",
   "execution_count": 260,
   "id": "12f25b39",
   "metadata": {},
   "outputs": [],
   "source": [
    "col_list.remove('intercept')"
   ]
  },
  {
   "cell_type": "code",
   "execution_count": 261,
   "id": "ff19045d",
   "metadata": {},
   "outputs": [],
   "source": [
    "col_list.remove('numgroup')"
   ]
  },
  {
   "cell_type": "code",
   "execution_count": 262,
   "id": "16a82ad4",
   "metadata": {},
   "outputs": [
    {
     "data": {
      "text/plain": [
       "['type2_0',\n",
       " 'type2_1',\n",
       " 'type2_2',\n",
       " 'type2_3',\n",
       " 'type2_4',\n",
       " 'type2_5',\n",
       " 'type2_6',\n",
       " 'type2_7',\n",
       " 'type2_8',\n",
       " 'type2_9',\n",
       " 'type2_10',\n",
       " 'type2_11']"
      ]
     },
     "execution_count": 262,
     "metadata": {},
     "output_type": "execute_result"
    }
   ],
   "source": [
    "col_list"
   ]
  },
  {
   "cell_type": "code",
   "execution_count": 265,
   "id": "14997c0f",
   "metadata": {},
   "outputs": [
    {
     "data": {
      "text/plain": [
       "Index(['intercept', 'numgroup', 'type2_0', 'type2_1', 'type2_2', 'type2_3',\n",
       "       'type2_4', 'type2_5', 'type2_6', 'type2_7', 'type2_8', 'type2_9',\n",
       "       'type2_10', 'type2_11', 'row_sum'],\n",
       "      dtype='object')"
      ]
     },
     "execution_count": 265,
     "metadata": {},
     "output_type": "execute_result"
    }
   ],
   "source": [
    "un2['row_sum'] = un2[col_list].sum (axis=1)\n",
    "un2.columns"
   ]
  },
  {
   "cell_type": "code",
   "execution_count": 267,
   "id": "130e77c4",
   "metadata": {},
   "outputs": [
    {
     "data": {
      "text/html": [
       "<div>\n",
       "<style scoped>\n",
       "    .dataframe tbody tr th:only-of-type {\n",
       "        vertical-align: middle;\n",
       "    }\n",
       "\n",
       "    .dataframe tbody tr th {\n",
       "        vertical-align: top;\n",
       "    }\n",
       "\n",
       "    .dataframe thead th {\n",
       "        text-align: right;\n",
       "    }\n",
       "</style>\n",
       "<table border=\"1\" class=\"dataframe\">\n",
       "  <thead>\n",
       "    <tr style=\"text-align: right;\">\n",
       "      <th></th>\n",
       "      <th>numgroup</th>\n",
       "      <th>row_sum</th>\n",
       "    </tr>\n",
       "  </thead>\n",
       "  <tbody>\n",
       "    <tr>\n",
       "      <th>0</th>\n",
       "      <td>801346550</td>\n",
       "      <td>-11.037037</td>\n",
       "    </tr>\n",
       "    <tr>\n",
       "      <th>855</th>\n",
       "      <td>801350331</td>\n",
       "      <td>-10.037037</td>\n",
       "    </tr>\n",
       "    <tr>\n",
       "      <th>3328</th>\n",
       "      <td>801349666</td>\n",
       "      <td>-9.037037</td>\n",
       "    </tr>\n",
       "    <tr>\n",
       "      <th>3812</th>\n",
       "      <td>801349670</td>\n",
       "      <td>-8.037037</td>\n",
       "    </tr>\n",
       "    <tr>\n",
       "      <th>4311</th>\n",
       "      <td>801351049</td>\n",
       "      <td>-7.037037</td>\n",
       "    </tr>\n",
       "  </tbody>\n",
       "</table>\n",
       "</div>"
      ],
      "text/plain": [
       "       numgroup    row_sum\n",
       "0     801346550 -11.037037\n",
       "855   801350331 -10.037037\n",
       "3328  801349666  -9.037037\n",
       "3812  801349670  -8.037037\n",
       "4311  801351049  -7.037037"
      ]
     },
     "execution_count": 267,
     "metadata": {},
     "output_type": "execute_result"
    }
   ],
   "source": [
    "un2.loc[:,['numgroup','row_sum']].head()"
   ]
  },
  {
   "cell_type": "code",
   "execution_count": 271,
   "id": "b3e63e5a",
   "metadata": {},
   "outputs": [
    {
     "data": {
      "text/plain": [
       "0.962962962962963"
      ]
     },
     "execution_count": 271,
     "metadata": {},
     "output_type": "execute_result"
    }
   ],
   "source": [
    "un2.row_sum.max()"
   ]
  }
 ],
 "metadata": {
  "kernelspec": {
   "display_name": "Python 3 (ipykernel)",
   "language": "python",
   "name": "python3"
  },
  "language_info": {
   "codemirror_mode": {
    "name": "ipython",
    "version": 3
   },
   "file_extension": ".py",
   "mimetype": "text/x-python",
   "name": "python",
   "nbconvert_exporter": "python",
   "pygments_lexer": "ipython3",
   "version": "3.10.9"
  }
 },
 "nbformat": 4,
 "nbformat_minor": 5
}
