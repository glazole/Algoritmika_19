{
 "cells": [
  {
   "cell_type": "code",
   "execution_count": 1,
   "id": "576fb15c",
   "metadata": {},
   "outputs": [],
   "source": [
    "# data analysis \n",
    "import pandas as pd\n",
    "import numpy as np\n",
    "import random as rnd\n",
    "from sklearn.impute import SimpleImputer\n",
    "import scipy.sparse as sp\n",
    "import datetime as dt\n",
    "# visualization\n",
    "import seaborn as sns\n",
    "import matplotlib.pyplot as plt\n",
    "%matplotlib inline\n",
    "\n",
    "pd.set_option('display.max_rows', None)"
   ]
  },
  {
   "cell_type": "code",
   "execution_count": 2,
   "id": "5d9796ce",
   "metadata": {},
   "outputs": [],
   "source": [
    "attend = pd.read_csv('I:\\\\Download\\\\Датасеты\\\\attend.csv')\n",
    "groups = pd.read_csv('I:\\\\Download\\\\Датасеты\\\\groups.csv')"
   ]
  },
  {
   "cell_type": "code",
   "execution_count": 3,
   "id": "0db1b33a",
   "metadata": {},
   "outputs": [
    {
     "name": "stdout",
     "output_type": "stream",
     "text": [
      "<class 'pandas.core.frame.DataFrame'>\n",
      "RangeIndex: 27003 entries, 0 to 27002\n",
      "Data columns (total 10 columns):\n",
      " #   Column                          Non-Null Count  Dtype \n",
      "---  ------                          --------------  ----- \n",
      " 0   уникальный номер                27003 non-null  int64 \n",
      " 1   направление 1                   27003 non-null  object\n",
      " 2   направление 2                   27003 non-null  object\n",
      " 3   направление 3                   27003 non-null  object\n",
      " 4   адрес площадки                  27003 non-null  object\n",
      " 5   округ площадки                  23021 non-null  object\n",
      " 6   район площадки                  23021 non-null  object\n",
      " 7   расписание в активных периодах  6522 non-null   object\n",
      " 8   расписание в закрытых периодах  21643 non-null  object\n",
      " 9   расписание в плановом периоде   67 non-null     object\n",
      "dtypes: int64(1), object(9)\n",
      "memory usage: 2.1+ MB\n"
     ]
    }
   ],
   "source": [
    "groups.info()"
   ]
  },
  {
   "cell_type": "code",
   "execution_count": 4,
   "id": "9f6c7339",
   "metadata": {},
   "outputs": [],
   "source": [
    "groups = groups.rename(columns={\"уникальный номер\": \"numgroup\", \"направление 1\": \"type1\", \"направление 2\": \"type2\", \"направление 3\": \"type3\", \n",
    "                       \"адрес площадки\": \"addres\", \"округ площадки\": \"okrug\", \"район площадки\": \"region\", \"расписание в активных периодах\": \"active_schedule\",\n",
    "                      \"расписание в закрытых периодах\": \"end_schedule\", \"расписание в плановом периоде\": \"plan_schedule\"})"
   ]
  },
  {
   "cell_type": "code",
   "execution_count": 5,
   "id": "bacc6fb9",
   "metadata": {},
   "outputs": [
    {
     "data": {
      "text/html": [
       "<div>\n",
       "<style scoped>\n",
       "    .dataframe tbody tr th:only-of-type {\n",
       "        vertical-align: middle;\n",
       "    }\n",
       "\n",
       "    .dataframe tbody tr th {\n",
       "        vertical-align: top;\n",
       "    }\n",
       "\n",
       "    .dataframe thead th {\n",
       "        text-align: right;\n",
       "    }\n",
       "</style>\n",
       "<table border=\"1\" class=\"dataframe\">\n",
       "  <thead>\n",
       "    <tr style=\"text-align: right;\">\n",
       "      <th></th>\n",
       "      <th>numgroup</th>\n",
       "      <th>type1</th>\n",
       "      <th>type2</th>\n",
       "      <th>type3</th>\n",
       "      <th>addres</th>\n",
       "      <th>okrug</th>\n",
       "      <th>region</th>\n",
       "      <th>active_schedule</th>\n",
       "      <th>end_schedule</th>\n",
       "      <th>plan_schedule</th>\n",
       "    </tr>\n",
       "  </thead>\n",
       "  <tbody>\n",
       "    <tr>\n",
       "      <th>0</th>\n",
       "      <td>801357270</td>\n",
       "      <td>Физическая активность</td>\n",
       "      <td>ОФП</td>\n",
       "      <td>ОФП</td>\n",
       "      <td>город Москва, Саратовская улица, дом 16, корпус 2</td>\n",
       "      <td>Юго-Восточный административный округ</td>\n",
       "      <td>муниципальный округ Текстильщики</td>\n",
       "      <td>NaN</td>\n",
       "      <td>c 01.01.2023 по 31.03.2023, Пн., Ср. 19:10-20:...</td>\n",
       "      <td>NaN</td>\n",
       "    </tr>\n",
       "    <tr>\n",
       "      <th>1</th>\n",
       "      <td>801356857</td>\n",
       "      <td>Физическая активность</td>\n",
       "      <td>ОФП</td>\n",
       "      <td>ОФП</td>\n",
       "      <td>город Москва, Подольская улица, дом 5</td>\n",
       "      <td>Юго-Восточный административный округ</td>\n",
       "      <td>муниципальный округ Марьино</td>\n",
       "      <td>NaN</td>\n",
       "      <td>c 09.01.2023 по 31.03.2023, Вт., Чт. 10:00-11:...</td>\n",
       "      <td>NaN</td>\n",
       "    </tr>\n",
       "    <tr>\n",
       "      <th>2</th>\n",
       "      <td>801351684</td>\n",
       "      <td>Физическая активность</td>\n",
       "      <td>ОФП</td>\n",
       "      <td>ОФП</td>\n",
       "      <td>г. Москва, Базовская улица, дом 15, строение 1...</td>\n",
       "      <td>Северный административный округ, Северный адми...</td>\n",
       "      <td>муниципальный округ Западное Дегунино, муницип...</td>\n",
       "      <td>NaN</td>\n",
       "      <td>c 09.01.2023 по 31.03.2023, Вт., Чт. 19:00-20:...</td>\n",
       "      <td>NaN</td>\n",
       "    </tr>\n",
       "    <tr>\n",
       "      <th>3</th>\n",
       "      <td>801353683</td>\n",
       "      <td>Физическая активность</td>\n",
       "      <td>ОФП</td>\n",
       "      <td>ОФП</td>\n",
       "      <td>город Москва, улица Обручева, дом 28А, город М...</td>\n",
       "      <td>Юго-Западный административный округ, Юго-Запад...</td>\n",
       "      <td>муниципальный округ Обручевский, муниципальный...</td>\n",
       "      <td>NaN</td>\n",
       "      <td>c 09.01.2023 по 31.03.2023, Пн., Ср. 13:30-14:...</td>\n",
       "      <td>NaN</td>\n",
       "    </tr>\n",
       "    <tr>\n",
       "      <th>4</th>\n",
       "      <td>801352164</td>\n",
       "      <td>Физическая активность</td>\n",
       "      <td>ОФП</td>\n",
       "      <td>ОФП</td>\n",
       "      <td>город Москва, Воронцовский парк, дом 3, город ...</td>\n",
       "      <td>Юго-Западный административный округ, Юго-Запад...</td>\n",
       "      <td>муниципальный округ Обручевский, муниципальный...</td>\n",
       "      <td>NaN</td>\n",
       "      <td>c 10.01.2023 по 28.02.2023, Вт., Пт. 12:00-13:...</td>\n",
       "      <td>NaN</td>\n",
       "    </tr>\n",
       "  </tbody>\n",
       "</table>\n",
       "</div>"
      ],
      "text/plain": [
       "    numgroup                  type1 type2 type3  \\\n",
       "0  801357270  Физическая активность   ОФП   ОФП   \n",
       "1  801356857  Физическая активность   ОФП   ОФП   \n",
       "2  801351684  Физическая активность   ОФП   ОФП   \n",
       "3  801353683  Физическая активность   ОФП   ОФП   \n",
       "4  801352164  Физическая активность   ОФП   ОФП   \n",
       "\n",
       "                                              addres  \\\n",
       "0  город Москва, Саратовская улица, дом 16, корпус 2   \n",
       "1              город Москва, Подольская улица, дом 5   \n",
       "2  г. Москва, Базовская улица, дом 15, строение 1...   \n",
       "3  город Москва, улица Обручева, дом 28А, город М...   \n",
       "4  город Москва, Воронцовский парк, дом 3, город ...   \n",
       "\n",
       "                                               okrug  \\\n",
       "0               Юго-Восточный административный округ   \n",
       "1               Юго-Восточный административный округ   \n",
       "2  Северный административный округ, Северный адми...   \n",
       "3  Юго-Западный административный округ, Юго-Запад...   \n",
       "4  Юго-Западный административный округ, Юго-Запад...   \n",
       "\n",
       "                                              region active_schedule  \\\n",
       "0                   муниципальный округ Текстильщики             NaN   \n",
       "1                        муниципальный округ Марьино             NaN   \n",
       "2  муниципальный округ Западное Дегунино, муницип...             NaN   \n",
       "3  муниципальный округ Обручевский, муниципальный...             NaN   \n",
       "4  муниципальный округ Обручевский, муниципальный...             NaN   \n",
       "\n",
       "                                        end_schedule plan_schedule  \n",
       "0  c 01.01.2023 по 31.03.2023, Пн., Ср. 19:10-20:...           NaN  \n",
       "1  c 09.01.2023 по 31.03.2023, Вт., Чт. 10:00-11:...           NaN  \n",
       "2  c 09.01.2023 по 31.03.2023, Вт., Чт. 19:00-20:...           NaN  \n",
       "3  c 09.01.2023 по 31.03.2023, Пн., Ср. 13:30-14:...           NaN  \n",
       "4  c 10.01.2023 по 28.02.2023, Вт., Пт. 12:00-13:...           NaN  "
      ]
     },
     "execution_count": 5,
     "metadata": {},
     "output_type": "execute_result"
    }
   ],
   "source": [
    "groups.head()"
   ]
  },
  {
   "cell_type": "code",
   "execution_count": 6,
   "id": "4a799b80",
   "metadata": {
    "scrolled": true
   },
   "outputs": [
    {
     "data": {
      "text/plain": [
       "numgroup               0\n",
       "type1                  0\n",
       "type2                  0\n",
       "type3                  0\n",
       "addres                 0\n",
       "okrug               3982\n",
       "region              3982\n",
       "active_schedule    20481\n",
       "end_schedule        5360\n",
       "plan_schedule      26936\n",
       "dtype: int64"
      ]
     },
     "execution_count": 6,
     "metadata": {},
     "output_type": "execute_result"
    }
   ],
   "source": [
    "groups.isnull().sum()"
   ]
  },
  {
   "cell_type": "code",
   "execution_count": 7,
   "id": "f90fe7bc",
   "metadata": {},
   "outputs": [
    {
     "data": {
      "text/html": [
       "<div>\n",
       "<style scoped>\n",
       "    .dataframe tbody tr th:only-of-type {\n",
       "        vertical-align: middle;\n",
       "    }\n",
       "\n",
       "    .dataframe tbody tr th {\n",
       "        vertical-align: top;\n",
       "    }\n",
       "\n",
       "    .dataframe thead th {\n",
       "        text-align: right;\n",
       "    }\n",
       "</style>\n",
       "<table border=\"1\" class=\"dataframe\">\n",
       "  <thead>\n",
       "    <tr style=\"text-align: right;\">\n",
       "      <th></th>\n",
       "      <th>уникальный номер занятия</th>\n",
       "      <th>уникальный номер группы</th>\n",
       "      <th>уникальный номер участника</th>\n",
       "      <th>направление 2</th>\n",
       "      <th>направление 3</th>\n",
       "      <th>онлайн/офлайн</th>\n",
       "      <th>дата занятия</th>\n",
       "      <th>время начала занятия</th>\n",
       "      <th>время окончания занятия</th>\n",
       "    </tr>\n",
       "  </thead>\n",
       "  <tbody>\n",
       "    <tr>\n",
       "      <th>0</th>\n",
       "      <td>401346550</td>\n",
       "      <td>801346550</td>\n",
       "      <td>101352023</td>\n",
       "      <td>ОНЛАЙН Гимнастика</td>\n",
       "      <td>ОНЛАЙН Цигун</td>\n",
       "      <td>Да</td>\n",
       "      <td>2022-08-01</td>\n",
       "      <td>09:00:00</td>\n",
       "      <td>10:00:00</td>\n",
       "    </tr>\n",
       "    <tr>\n",
       "      <th>1</th>\n",
       "      <td>401346550</td>\n",
       "      <td>801346550</td>\n",
       "      <td>101385462</td>\n",
       "      <td>ОНЛАЙН Гимнастика</td>\n",
       "      <td>ОНЛАЙН Цигун</td>\n",
       "      <td>Да</td>\n",
       "      <td>2022-08-01</td>\n",
       "      <td>09:00:00</td>\n",
       "      <td>10:00:00</td>\n",
       "    </tr>\n",
       "    <tr>\n",
       "      <th>2</th>\n",
       "      <td>401346550</td>\n",
       "      <td>801346550</td>\n",
       "      <td>101421897</td>\n",
       "      <td>ОНЛАЙН Гимнастика</td>\n",
       "      <td>ОНЛАЙН Цигун</td>\n",
       "      <td>Да</td>\n",
       "      <td>2022-08-01</td>\n",
       "      <td>09:00:00</td>\n",
       "      <td>10:00:00</td>\n",
       "    </tr>\n",
       "    <tr>\n",
       "      <th>3</th>\n",
       "      <td>401346550</td>\n",
       "      <td>801346550</td>\n",
       "      <td>101354499</td>\n",
       "      <td>ОНЛАЙН Гимнастика</td>\n",
       "      <td>ОНЛАЙН Цигун</td>\n",
       "      <td>Да</td>\n",
       "      <td>2022-08-01</td>\n",
       "      <td>09:00:00</td>\n",
       "      <td>10:00:00</td>\n",
       "    </tr>\n",
       "    <tr>\n",
       "      <th>4</th>\n",
       "      <td>401346550</td>\n",
       "      <td>801346550</td>\n",
       "      <td>101421312</td>\n",
       "      <td>ОНЛАЙН Гимнастика</td>\n",
       "      <td>ОНЛАЙН Цигун</td>\n",
       "      <td>Да</td>\n",
       "      <td>2022-08-01</td>\n",
       "      <td>09:00:00</td>\n",
       "      <td>10:00:00</td>\n",
       "    </tr>\n",
       "  </tbody>\n",
       "</table>\n",
       "</div>"
      ],
      "text/plain": [
       "   уникальный номер занятия  уникальный номер группы  \\\n",
       "0                 401346550                801346550   \n",
       "1                 401346550                801346550   \n",
       "2                 401346550                801346550   \n",
       "3                 401346550                801346550   \n",
       "4                 401346550                801346550   \n",
       "\n",
       "   уникальный номер участника      направление 2 направление 3 онлайн/офлайн  \\\n",
       "0                   101352023  ОНЛАЙН Гимнастика  ОНЛАЙН Цигун            Да   \n",
       "1                   101385462  ОНЛАЙН Гимнастика  ОНЛАЙН Цигун            Да   \n",
       "2                   101421897  ОНЛАЙН Гимнастика  ОНЛАЙН Цигун            Да   \n",
       "3                   101354499  ОНЛАЙН Гимнастика  ОНЛАЙН Цигун            Да   \n",
       "4                   101421312  ОНЛАЙН Гимнастика  ОНЛАЙН Цигун            Да   \n",
       "\n",
       "  дата занятия время начала занятия время окончания занятия  \n",
       "0   2022-08-01             09:00:00                10:00:00  \n",
       "1   2022-08-01             09:00:00                10:00:00  \n",
       "2   2022-08-01             09:00:00                10:00:00  \n",
       "3   2022-08-01             09:00:00                10:00:00  \n",
       "4   2022-08-01             09:00:00                10:00:00  "
      ]
     },
     "execution_count": 7,
     "metadata": {},
     "output_type": "execute_result"
    }
   ],
   "source": [
    "attend.head()"
   ]
  },
  {
   "cell_type": "code",
   "execution_count": 8,
   "id": "8ebb095d",
   "metadata": {},
   "outputs": [
    {
     "name": "stdout",
     "output_type": "stream",
     "text": [
      "<class 'pandas.core.frame.DataFrame'>\n",
      "RangeIndex: 5901274 entries, 0 to 5901273\n",
      "Data columns (total 9 columns):\n",
      " #   Column      Dtype \n",
      "---  ------      ----- \n",
      " 0   numzan      int64 \n",
      " 1   numgroup    int64 \n",
      " 2   numclient   int64 \n",
      " 3   type2       object\n",
      " 4   type3       object\n",
      " 5   online      object\n",
      " 6   date        object\n",
      " 7   time_begin  object\n",
      " 8   time_end    object\n",
      "dtypes: int64(3), object(6)\n",
      "memory usage: 405.2+ MB\n"
     ]
    }
   ],
   "source": [
    "#Переименовываю столбцы\n",
    "attend = attend.rename(columns={\"уникальный номер занятия\": \"numzan\", \"уникальный номер группы\": \"numgroup\", \"уникальный номер участника\": \"numclient\",\n",
    "                               \"направление 2\": \"type2\", \"направление 3\": \"type3\", \"онлайн/офлайн\": \"online\", \"дата занятия\": \"date\",\n",
    "                               \"время начала занятия\": \"time_begin\", \"время окончания занятия\": \"time_end\"})\n",
    "attend.info()"
   ]
  },
  {
   "cell_type": "code",
   "execution_count": 9,
   "id": "31f2f7b0",
   "metadata": {},
   "outputs": [
    {
     "data": {
      "text/plain": [
       "numzan        0\n",
       "numgroup      0\n",
       "numclient     0\n",
       "type2         0\n",
       "type3         0\n",
       "online        0\n",
       "date          0\n",
       "time_begin    0\n",
       "time_end      0\n",
       "dtype: int64"
      ]
     },
     "execution_count": 9,
     "metadata": {},
     "output_type": "execute_result"
    }
   ],
   "source": [
    "#Смотрим пропущенные значения - пропущенных нет\n",
    "attend.isnull().sum()"
   ]
  },
  {
   "cell_type": "code",
   "execution_count": 10,
   "id": "e05fd88d",
   "metadata": {},
   "outputs": [
    {
     "data": {
      "text/html": [
       "<div>\n",
       "<style scoped>\n",
       "    .dataframe tbody tr th:only-of-type {\n",
       "        vertical-align: middle;\n",
       "    }\n",
       "\n",
       "    .dataframe tbody tr th {\n",
       "        vertical-align: top;\n",
       "    }\n",
       "\n",
       "    .dataframe thead th {\n",
       "        text-align: right;\n",
       "    }\n",
       "</style>\n",
       "<table border=\"1\" class=\"dataframe\">\n",
       "  <thead>\n",
       "    <tr style=\"text-align: right;\">\n",
       "      <th></th>\n",
       "      <th>numzan</th>\n",
       "      <th>numgroup</th>\n",
       "      <th>numclient</th>\n",
       "      <th>type2</th>\n",
       "      <th>type3</th>\n",
       "      <th>online</th>\n",
       "      <th>date</th>\n",
       "      <th>time_begin</th>\n",
       "      <th>time_end</th>\n",
       "    </tr>\n",
       "  </thead>\n",
       "  <tbody>\n",
       "    <tr>\n",
       "      <th>0</th>\n",
       "      <td>401346550</td>\n",
       "      <td>801346550</td>\n",
       "      <td>101352023</td>\n",
       "      <td>ОНЛАЙН Гимнастика</td>\n",
       "      <td>ОНЛАЙН Цигун</td>\n",
       "      <td>True</td>\n",
       "      <td>2022-08-01</td>\n",
       "      <td>09:00:00</td>\n",
       "      <td>10:00:00</td>\n",
       "    </tr>\n",
       "    <tr>\n",
       "      <th>1</th>\n",
       "      <td>401346550</td>\n",
       "      <td>801346550</td>\n",
       "      <td>101385462</td>\n",
       "      <td>ОНЛАЙН Гимнастика</td>\n",
       "      <td>ОНЛАЙН Цигун</td>\n",
       "      <td>True</td>\n",
       "      <td>2022-08-01</td>\n",
       "      <td>09:00:00</td>\n",
       "      <td>10:00:00</td>\n",
       "    </tr>\n",
       "    <tr>\n",
       "      <th>2</th>\n",
       "      <td>401346550</td>\n",
       "      <td>801346550</td>\n",
       "      <td>101421897</td>\n",
       "      <td>ОНЛАЙН Гимнастика</td>\n",
       "      <td>ОНЛАЙН Цигун</td>\n",
       "      <td>True</td>\n",
       "      <td>2022-08-01</td>\n",
       "      <td>09:00:00</td>\n",
       "      <td>10:00:00</td>\n",
       "    </tr>\n",
       "    <tr>\n",
       "      <th>3</th>\n",
       "      <td>401346550</td>\n",
       "      <td>801346550</td>\n",
       "      <td>101354499</td>\n",
       "      <td>ОНЛАЙН Гимнастика</td>\n",
       "      <td>ОНЛАЙН Цигун</td>\n",
       "      <td>True</td>\n",
       "      <td>2022-08-01</td>\n",
       "      <td>09:00:00</td>\n",
       "      <td>10:00:00</td>\n",
       "    </tr>\n",
       "    <tr>\n",
       "      <th>4</th>\n",
       "      <td>401346550</td>\n",
       "      <td>801346550</td>\n",
       "      <td>101421312</td>\n",
       "      <td>ОНЛАЙН Гимнастика</td>\n",
       "      <td>ОНЛАЙН Цигун</td>\n",
       "      <td>True</td>\n",
       "      <td>2022-08-01</td>\n",
       "      <td>09:00:00</td>\n",
       "      <td>10:00:00</td>\n",
       "    </tr>\n",
       "  </tbody>\n",
       "</table>\n",
       "</div>"
      ],
      "text/plain": [
       "      numzan   numgroup  numclient              type2         type3  online  \\\n",
       "0  401346550  801346550  101352023  ОНЛАЙН Гимнастика  ОНЛАЙН Цигун    True   \n",
       "1  401346550  801346550  101385462  ОНЛАЙН Гимнастика  ОНЛАЙН Цигун    True   \n",
       "2  401346550  801346550  101421897  ОНЛАЙН Гимнастика  ОНЛАЙН Цигун    True   \n",
       "3  401346550  801346550  101354499  ОНЛАЙН Гимнастика  ОНЛАЙН Цигун    True   \n",
       "4  401346550  801346550  101421312  ОНЛАЙН Гимнастика  ОНЛАЙН Цигун    True   \n",
       "\n",
       "         date time_begin  time_end  \n",
       "0  2022-08-01   09:00:00  10:00:00  \n",
       "1  2022-08-01   09:00:00  10:00:00  \n",
       "2  2022-08-01   09:00:00  10:00:00  \n",
       "3  2022-08-01   09:00:00  10:00:00  \n",
       "4  2022-08-01   09:00:00  10:00:00  "
      ]
     },
     "execution_count": 10,
     "metadata": {},
     "output_type": "execute_result"
    }
   ],
   "source": [
    "#Значение Да/Нет преобразовываю в True/False\n",
    "d = {'Нет':False, 'Да':True}\n",
    "attend['online'] = attend['online'].map(d)\n",
    "attend.head()"
   ]
  },
  {
   "cell_type": "code",
   "execution_count": 11,
   "id": "6d9f2f70",
   "metadata": {},
   "outputs": [],
   "source": [
    "attend['date'] = attend['date'].astype(\"datetime64[ns]\") #Дату преобразовал в формат даты"
   ]
  },
  {
   "cell_type": "code",
   "execution_count": 12,
   "id": "e1c7f8af",
   "metadata": {},
   "outputs": [
    {
     "data": {
      "text/html": [
       "<div>\n",
       "<style scoped>\n",
       "    .dataframe tbody tr th:only-of-type {\n",
       "        vertical-align: middle;\n",
       "    }\n",
       "\n",
       "    .dataframe tbody tr th {\n",
       "        vertical-align: top;\n",
       "    }\n",
       "\n",
       "    .dataframe thead th {\n",
       "        text-align: right;\n",
       "    }\n",
       "</style>\n",
       "<table border=\"1\" class=\"dataframe\">\n",
       "  <thead>\n",
       "    <tr style=\"text-align: right;\">\n",
       "      <th></th>\n",
       "      <th>online</th>\n",
       "      <th>type2</th>\n",
       "      <th>type3</th>\n",
       "    </tr>\n",
       "    <tr>\n",
       "      <th>numgroup</th>\n",
       "      <th></th>\n",
       "      <th></th>\n",
       "      <th></th>\n",
       "    </tr>\n",
       "  </thead>\n",
       "  <tbody>\n",
       "    <tr>\n",
       "      <th>801346549</th>\n",
       "      <td>30</td>\n",
       "      <td>30</td>\n",
       "      <td>30</td>\n",
       "    </tr>\n",
       "    <tr>\n",
       "      <th>801346550</th>\n",
       "      <td>855</td>\n",
       "      <td>855</td>\n",
       "      <td>855</td>\n",
       "    </tr>\n",
       "    <tr>\n",
       "      <th>801346551</th>\n",
       "      <td>451</td>\n",
       "      <td>451</td>\n",
       "      <td>451</td>\n",
       "    </tr>\n",
       "    <tr>\n",
       "      <th>801346552</th>\n",
       "      <td>388</td>\n",
       "      <td>388</td>\n",
       "      <td>388</td>\n",
       "    </tr>\n",
       "    <tr>\n",
       "      <th>801346553</th>\n",
       "      <td>2239</td>\n",
       "      <td>2239</td>\n",
       "      <td>2239</td>\n",
       "    </tr>\n",
       "  </tbody>\n",
       "</table>\n",
       "</div>"
      ],
      "text/plain": [
       "           online  type2  type3\n",
       "numgroup                       \n",
       "801346549      30     30     30\n",
       "801346550     855    855    855\n",
       "801346551     451    451    451\n",
       "801346552     388    388    388\n",
       "801346553    2239   2239   2239"
      ]
     },
     "execution_count": 12,
     "metadata": {},
     "output_type": "execute_result"
    }
   ],
   "source": [
    "columns_to_show = ['type2', 'type3', 'online']\n",
    "attend.pivot_table(columns_to_show, ['numgroup'], aggfunc='count').head()"
   ]
  },
  {
   "cell_type": "code",
   "execution_count": 13,
   "id": "02d2089a",
   "metadata": {},
   "outputs": [
    {
     "data": {
      "text/plain": [
       "24535"
      ]
     },
     "execution_count": 13,
     "metadata": {},
     "output_type": "execute_result"
    }
   ],
   "source": [
    "attend.numgroup.nunique() #Количество уникальных групп"
   ]
  },
  {
   "cell_type": "code",
   "execution_count": 14,
   "id": "65898e82",
   "metadata": {},
   "outputs": [
    {
     "data": {
      "text/plain": [
       "647132"
      ]
     },
     "execution_count": 14,
     "metadata": {},
     "output_type": "execute_result"
    }
   ],
   "source": [
    "attend.numzan.nunique() #Количество уникальных занятий"
   ]
  },
  {
   "cell_type": "code",
   "execution_count": 15,
   "id": "02ccc5b9",
   "metadata": {},
   "outputs": [
    {
     "data": {
      "text/plain": [
       "50906"
      ]
     },
     "execution_count": 15,
     "metadata": {},
     "output_type": "execute_result"
    }
   ],
   "source": [
    "attend.numclient.nunique() #Уникальное количество пользователей всего"
   ]
  },
  {
   "cell_type": "code",
   "execution_count": 16,
   "id": "85d8bd43",
   "metadata": {},
   "outputs": [
    {
     "data": {
      "text/html": [
       "<div>\n",
       "<style scoped>\n",
       "    .dataframe tbody tr th:only-of-type {\n",
       "        vertical-align: middle;\n",
       "    }\n",
       "\n",
       "    .dataframe tbody tr th {\n",
       "        vertical-align: top;\n",
       "    }\n",
       "\n",
       "    .dataframe thead th {\n",
       "        text-align: right;\n",
       "    }\n",
       "</style>\n",
       "<table border=\"1\" class=\"dataframe\">\n",
       "  <thead>\n",
       "    <tr style=\"text-align: right;\">\n",
       "      <th></th>\n",
       "      <th></th>\n",
       "      <th>numgroup</th>\n",
       "    </tr>\n",
       "    <tr>\n",
       "      <th>numclient</th>\n",
       "      <th>type2</th>\n",
       "      <th></th>\n",
       "    </tr>\n",
       "  </thead>\n",
       "  <tbody>\n",
       "    <tr>\n",
       "      <th>101387204</th>\n",
       "      <th>ОНЛАЙН Художественно-прикладное творчество</th>\n",
       "      <td>743</td>\n",
       "    </tr>\n",
       "    <tr>\n",
       "      <th>101426166</th>\n",
       "      <th>ОНЛАЙН Рисование</th>\n",
       "      <td>628</td>\n",
       "    </tr>\n",
       "    <tr>\n",
       "      <th>101391680</th>\n",
       "      <th>ОНЛАЙН Рисование</th>\n",
       "      <td>621</td>\n",
       "    </tr>\n",
       "    <tr>\n",
       "      <th>101354085</th>\n",
       "      <th>ОНЛАЙН Художественно-прикладное творчество</th>\n",
       "      <td>569</td>\n",
       "    </tr>\n",
       "    <tr>\n",
       "      <th>101358683</th>\n",
       "      <th>ОНЛАЙН Рисование</th>\n",
       "      <td>567</td>\n",
       "    </tr>\n",
       "  </tbody>\n",
       "</table>\n",
       "</div>"
      ],
      "text/plain": [
       "                                                      numgroup\n",
       "numclient type2                                               \n",
       "101387204 ОНЛАЙН Художественно-прикладное творчество       743\n",
       "101426166 ОНЛАЙН Рисование                                 628\n",
       "101391680 ОНЛАЙН Рисование                                 621\n",
       "101354085 ОНЛАЙН Художественно-прикладное творчество       569\n",
       "101358683 ОНЛАЙН Рисование                                 567"
      ]
     },
     "execution_count": 16,
     "metadata": {},
     "output_type": "execute_result"
    }
   ],
   "source": [
    "# ТОП пользователей по группам \n",
    "attend\\\n",
    "    .groupby(['numclient', 'type2']) \\\n",
    "    .agg({'numgroup':'count'}) \\\n",
    "    .sort_values(by=['numgroup'], ascending=False).head() "
   ]
  },
  {
   "cell_type": "code",
   "execution_count": 17,
   "id": "f10a5a84",
   "metadata": {},
   "outputs": [
    {
     "data": {
      "text/html": [
       "<div>\n",
       "<style scoped>\n",
       "    .dataframe tbody tr th:only-of-type {\n",
       "        vertical-align: middle;\n",
       "    }\n",
       "\n",
       "    .dataframe tbody tr th {\n",
       "        vertical-align: top;\n",
       "    }\n",
       "\n",
       "    .dataframe thead th {\n",
       "        text-align: right;\n",
       "    }\n",
       "</style>\n",
       "<table border=\"1\" class=\"dataframe\">\n",
       "  <thead>\n",
       "    <tr style=\"text-align: right;\">\n",
       "      <th></th>\n",
       "      <th>type2</th>\n",
       "      <th>type3</th>\n",
       "      <th>online</th>\n",
       "      <th>numclient</th>\n",
       "    </tr>\n",
       "  </thead>\n",
       "  <tbody>\n",
       "    <tr>\n",
       "      <th>0</th>\n",
       "      <td>ОНЛАЙН Красота и стиль</td>\n",
       "      <td>ОНЛАЙН Мастер-класс по уходу за кожей в зрелом...</td>\n",
       "      <td>True</td>\n",
       "      <td>413095</td>\n",
       "    </tr>\n",
       "    <tr>\n",
       "      <th>1</th>\n",
       "      <td>ОНЛАЙН Гимнастика</td>\n",
       "      <td>ОНЛАЙН Гимнастика</td>\n",
       "      <td>True</td>\n",
       "      <td>209704</td>\n",
       "    </tr>\n",
       "    <tr>\n",
       "      <th>2</th>\n",
       "      <td>Скандинавская ходьба</td>\n",
       "      <td>Скандинавская ходьба</td>\n",
       "      <td>False</td>\n",
       "      <td>182593</td>\n",
       "    </tr>\n",
       "    <tr>\n",
       "      <th>3</th>\n",
       "      <td>ОНЛАЙН Гимнастика</td>\n",
       "      <td>ОНЛАЙН Суставная гимнастика</td>\n",
       "      <td>True</td>\n",
       "      <td>173138</td>\n",
       "    </tr>\n",
       "    <tr>\n",
       "      <th>4</th>\n",
       "      <td>ОНЛАЙН Психология и коммуникации</td>\n",
       "      <td>ОНЛАЙН Психологические тренинги</td>\n",
       "      <td>True</td>\n",
       "      <td>145011</td>\n",
       "    </tr>\n",
       "  </tbody>\n",
       "</table>\n",
       "</div>"
      ],
      "text/plain": [
       "                              type2  \\\n",
       "0            ОНЛАЙН Красота и стиль   \n",
       "1                 ОНЛАЙН Гимнастика   \n",
       "2              Скандинавская ходьба   \n",
       "3                 ОНЛАЙН Гимнастика   \n",
       "4  ОНЛАЙН Психология и коммуникации   \n",
       "\n",
       "                                               type3  online  numclient  \n",
       "0  ОНЛАЙН Мастер-класс по уходу за кожей в зрелом...    True     413095  \n",
       "1                                  ОНЛАЙН Гимнастика    True     209704  \n",
       "2                               Скандинавская ходьба   False     182593  \n",
       "3                        ОНЛАЙН Суставная гимнастика    True     173138  \n",
       "4                    ОНЛАЙН Психологические тренинги    True     145011  "
      ]
     },
     "execution_count": 17,
     "metadata": {},
     "output_type": "execute_result"
    }
   ],
   "source": [
    "# Количество пользователей посетивших различные занятия\n",
    "attend.groupby(['type2', 'type3', 'online']).agg({\"numclient\": 'count'})\\\n",
    "    .sort_values(by=['numclient'], ascending=False).reset_index().head()"
   ]
  },
  {
   "cell_type": "code",
   "execution_count": 18,
   "id": "b73e1b58",
   "metadata": {},
   "outputs": [
    {
     "data": {
      "text/plain": [
       "101415587"
      ]
     },
     "execution_count": 18,
     "metadata": {},
     "output_type": "execute_result"
    }
   ],
   "source": [
    "# ID пользователя с минимальной активностью за год\n",
    "attend.groupby(['numclient'])['date'].nunique().idxmin()"
   ]
  },
  {
   "cell_type": "code",
   "execution_count": 19,
   "id": "261546c4",
   "metadata": {},
   "outputs": [
    {
     "data": {
      "text/plain": [
       "101420479"
      ]
     },
     "execution_count": 19,
     "metadata": {},
     "output_type": "execute_result"
    }
   ],
   "source": [
    "# ID пользователя с максимальной активностью за год\n",
    "attend.groupby(['numclient'])['date'].nunique().idxmax()"
   ]
  },
  {
   "cell_type": "code",
   "execution_count": 20,
   "id": "d40ca9b9",
   "metadata": {},
   "outputs": [
    {
     "data": {
      "text/html": [
       "<div>\n",
       "<style scoped>\n",
       "    .dataframe tbody tr th:only-of-type {\n",
       "        vertical-align: middle;\n",
       "    }\n",
       "\n",
       "    .dataframe tbody tr th {\n",
       "        vertical-align: top;\n",
       "    }\n",
       "\n",
       "    .dataframe thead th {\n",
       "        text-align: right;\n",
       "    }\n",
       "</style>\n",
       "<table border=\"1\" class=\"dataframe\">\n",
       "  <thead>\n",
       "    <tr style=\"text-align: right;\">\n",
       "      <th></th>\n",
       "      <th>type3</th>\n",
       "    </tr>\n",
       "    <tr>\n",
       "      <th>type2</th>\n",
       "      <th></th>\n",
       "    </tr>\n",
       "  </thead>\n",
       "  <tbody>\n",
       "    <tr>\n",
       "      <th>ОНЛАЙН Красота и стиль</th>\n",
       "      <td>229</td>\n",
       "    </tr>\n",
       "    <tr>\n",
       "      <th>ОНЛАЙН Гимнастика</th>\n",
       "      <td>146</td>\n",
       "    </tr>\n",
       "    <tr>\n",
       "      <th>ОНЛАЙН Здорово жить</th>\n",
       "      <td>127</td>\n",
       "    </tr>\n",
       "    <tr>\n",
       "      <th>ОНЛАЙН Психология и коммуникации</th>\n",
       "      <td>81</td>\n",
       "    </tr>\n",
       "    <tr>\n",
       "      <th>ОНЛАЙН ОФП</th>\n",
       "      <td>80</td>\n",
       "    </tr>\n",
       "  </tbody>\n",
       "</table>\n",
       "</div>"
      ],
      "text/plain": [
       "                                  type3\n",
       "type2                                  \n",
       "ОНЛАЙН Красота и стиль              229\n",
       "ОНЛАЙН Гимнастика                   146\n",
       "ОНЛАЙН Здорово жить                 127\n",
       "ОНЛАЙН Психология и коммуникации     81\n",
       "ОНЛАЙН ОФП                           80"
      ]
     },
     "execution_count": 20,
     "metadata": {},
     "output_type": "execute_result"
    }
   ],
   "source": [
    "#Пользователь с максимальной активностью за год\n",
    "attend.query('numclient == 101420479').groupby('type2').agg({'type3':'count'})\\\n",
    "    .sort_values(by=['type3'], ascending=False)"
   ]
  },
  {
   "cell_type": "code",
   "execution_count": 21,
   "id": "c82e95aa",
   "metadata": {},
   "outputs": [
    {
     "data": {
      "text/html": [
       "<div>\n",
       "<style scoped>\n",
       "    .dataframe tbody tr th:only-of-type {\n",
       "        vertical-align: middle;\n",
       "    }\n",
       "\n",
       "    .dataframe tbody tr th {\n",
       "        vertical-align: top;\n",
       "    }\n",
       "\n",
       "    .dataframe thead th {\n",
       "        text-align: right;\n",
       "    }\n",
       "</style>\n",
       "<table border=\"1\" class=\"dataframe\">\n",
       "  <thead>\n",
       "    <tr style=\"text-align: right;\">\n",
       "      <th></th>\n",
       "      <th>type3</th>\n",
       "    </tr>\n",
       "    <tr>\n",
       "      <th>type2</th>\n",
       "      <th></th>\n",
       "    </tr>\n",
       "  </thead>\n",
       "  <tbody>\n",
       "    <tr>\n",
       "      <th>Информационные технологии</th>\n",
       "      <td>5</td>\n",
       "    </tr>\n",
       "  </tbody>\n",
       "</table>\n",
       "</div>"
      ],
      "text/plain": [
       "                           type3\n",
       "type2                           \n",
       "Информационные технологии      5"
      ]
     },
     "execution_count": 21,
     "metadata": {},
     "output_type": "execute_result"
    }
   ],
   "source": [
    "#Пользователь с минимальной активностью за год\n",
    "attend.query('numclient == 101415587').groupby('type2').agg({'type3':'count'})\\\n",
    "    .sort_values(by=['type3'], ascending=False)"
   ]
  },
  {
   "cell_type": "code",
   "execution_count": 22,
   "id": "b8aff1db",
   "metadata": {},
   "outputs": [
    {
     "data": {
      "text/html": [
       "<div>\n",
       "<style scoped>\n",
       "    .dataframe tbody tr th:only-of-type {\n",
       "        vertical-align: middle;\n",
       "    }\n",
       "\n",
       "    .dataframe tbody tr th {\n",
       "        vertical-align: top;\n",
       "    }\n",
       "\n",
       "    .dataframe thead th {\n",
       "        text-align: right;\n",
       "    }\n",
       "</style>\n",
       "<table border=\"1\" class=\"dataframe\">\n",
       "  <thead>\n",
       "    <tr style=\"text-align: right;\">\n",
       "      <th></th>\n",
       "      <th>numzan</th>\n",
       "      <th>numgroup</th>\n",
       "      <th>numclient</th>\n",
       "      <th>type2</th>\n",
       "      <th>type3</th>\n",
       "      <th>date</th>\n",
       "      <th>time_begin</th>\n",
       "      <th>time_end</th>\n",
       "    </tr>\n",
       "    <tr>\n",
       "      <th>online</th>\n",
       "      <th></th>\n",
       "      <th></th>\n",
       "      <th></th>\n",
       "      <th></th>\n",
       "      <th></th>\n",
       "      <th></th>\n",
       "      <th></th>\n",
       "      <th></th>\n",
       "    </tr>\n",
       "  </thead>\n",
       "  <tbody>\n",
       "    <tr>\n",
       "      <th>False</th>\n",
       "      <td>2084345</td>\n",
       "      <td>2084345</td>\n",
       "      <td>2084345</td>\n",
       "      <td>2084345</td>\n",
       "      <td>2084345</td>\n",
       "      <td>2084345</td>\n",
       "      <td>2084345</td>\n",
       "      <td>2084345</td>\n",
       "    </tr>\n",
       "    <tr>\n",
       "      <th>True</th>\n",
       "      <td>3816929</td>\n",
       "      <td>3816929</td>\n",
       "      <td>3816929</td>\n",
       "      <td>3816929</td>\n",
       "      <td>3816929</td>\n",
       "      <td>3816929</td>\n",
       "      <td>3816929</td>\n",
       "      <td>3816929</td>\n",
       "    </tr>\n",
       "  </tbody>\n",
       "</table>\n",
       "</div>"
      ],
      "text/plain": [
       "         numzan  numgroup  numclient    type2    type3     date  time_begin  \\\n",
       "online                                                                        \n",
       "False   2084345   2084345    2084345  2084345  2084345  2084345     2084345   \n",
       "True    3816929   3816929    3816929  3816929  3816929  3816929     3816929   \n",
       "\n",
       "        time_end  \n",
       "online            \n",
       "False    2084345  \n",
       "True     3816929  "
      ]
     },
     "execution_count": 22,
     "metadata": {},
     "output_type": "execute_result"
    }
   ],
   "source": [
    "#Общее количество онлайн занятий и не онлайн\n",
    "attend.groupby('online').count()"
   ]
  },
  {
   "cell_type": "code",
   "execution_count": 23,
   "id": "86fc06e2",
   "metadata": {},
   "outputs": [
    {
     "name": "stdout",
     "output_type": "stream",
     "text": [
      "Занятий онлайн: 54.61%\n"
     ]
    }
   ],
   "source": [
    "print('Занятий онлайн: {:.2f}%'.format(100*(2084345/3816929)))"
   ]
  },
  {
   "cell_type": "code",
   "execution_count": 24,
   "id": "38f07dec",
   "metadata": {},
   "outputs": [
    {
     "data": {
      "text/html": [
       "<div>\n",
       "<style scoped>\n",
       "    .dataframe tbody tr th:only-of-type {\n",
       "        vertical-align: middle;\n",
       "    }\n",
       "\n",
       "    .dataframe tbody tr th {\n",
       "        vertical-align: top;\n",
       "    }\n",
       "\n",
       "    .dataframe thead th {\n",
       "        text-align: right;\n",
       "    }\n",
       "</style>\n",
       "<table border=\"1\" class=\"dataframe\">\n",
       "  <thead>\n",
       "    <tr style=\"text-align: right;\">\n",
       "      <th></th>\n",
       "      <th>type3</th>\n",
       "    </tr>\n",
       "    <tr>\n",
       "      <th>type2</th>\n",
       "      <th></th>\n",
       "    </tr>\n",
       "  </thead>\n",
       "  <tbody>\n",
       "    <tr>\n",
       "      <th>ОНЛАЙН Гимнастика</th>\n",
       "      <td>819496</td>\n",
       "    </tr>\n",
       "    <tr>\n",
       "      <th>ОНЛАЙН Красота и стиль</th>\n",
       "      <td>461259</td>\n",
       "    </tr>\n",
       "    <tr>\n",
       "      <th>ОНЛАЙН Здорово жить</th>\n",
       "      <td>346469</td>\n",
       "    </tr>\n",
       "    <tr>\n",
       "      <th>ОНЛАЙН История, искусство, краеведение</th>\n",
       "      <td>294575</td>\n",
       "    </tr>\n",
       "    <tr>\n",
       "      <th>ОНЛАЙН Рисование</th>\n",
       "      <td>228054</td>\n",
       "    </tr>\n",
       "  </tbody>\n",
       "</table>\n",
       "</div>"
      ],
      "text/plain": [
       "                                         type3\n",
       "type2                                         \n",
       "ОНЛАЙН Гимнастика                       819496\n",
       "ОНЛАЙН Красота и стиль                  461259\n",
       "ОНЛАЙН Здорово жить                     346469\n",
       "ОНЛАЙН История, искусство, краеведение  294575\n",
       "ОНЛАЙН Рисование                        228054"
      ]
     },
     "execution_count": 24,
     "metadata": {},
     "output_type": "execute_result"
    }
   ],
   "source": [
    "# Онлайн программы по популярности\n",
    "attend.query('online == True').groupby('type2').agg({'type3':'count'})\\\n",
    "    .sort_values(by=['type3'], ascending=False).head()"
   ]
  },
  {
   "cell_type": "code",
   "execution_count": 25,
   "id": "23c91bab",
   "metadata": {},
   "outputs": [
    {
     "data": {
      "text/html": [
       "<div>\n",
       "<style scoped>\n",
       "    .dataframe tbody tr th:only-of-type {\n",
       "        vertical-align: middle;\n",
       "    }\n",
       "\n",
       "    .dataframe tbody tr th {\n",
       "        vertical-align: top;\n",
       "    }\n",
       "\n",
       "    .dataframe thead th {\n",
       "        text-align: right;\n",
       "    }\n",
       "</style>\n",
       "<table border=\"1\" class=\"dataframe\">\n",
       "  <thead>\n",
       "    <tr style=\"text-align: right;\">\n",
       "      <th></th>\n",
       "      <th>type3</th>\n",
       "    </tr>\n",
       "    <tr>\n",
       "      <th>type2</th>\n",
       "      <th></th>\n",
       "    </tr>\n",
       "  </thead>\n",
       "  <tbody>\n",
       "    <tr>\n",
       "      <th>Гимнастика</th>\n",
       "      <td>408361</td>\n",
       "    </tr>\n",
       "    <tr>\n",
       "      <th>Танцы</th>\n",
       "      <td>223793</td>\n",
       "    </tr>\n",
       "    <tr>\n",
       "      <th>Фитнес, тренажеры</th>\n",
       "      <td>210518</td>\n",
       "    </tr>\n",
       "    <tr>\n",
       "      <th>Скандинавская ходьба</th>\n",
       "      <td>182593</td>\n",
       "    </tr>\n",
       "    <tr>\n",
       "      <th>Спортивные игры</th>\n",
       "      <td>153462</td>\n",
       "    </tr>\n",
       "  </tbody>\n",
       "</table>\n",
       "</div>"
      ],
      "text/plain": [
       "                       type3\n",
       "type2                       \n",
       "Гимнастика            408361\n",
       "Танцы                 223793\n",
       "Фитнес, тренажеры     210518\n",
       "Скандинавская ходьба  182593\n",
       "Спортивные игры       153462"
      ]
     },
     "execution_count": 25,
     "metadata": {},
     "output_type": "execute_result"
    }
   ],
   "source": [
    "# Офлайн программы по популярности\n",
    "attend.query('online == False').groupby('type2').agg({'type3':'count'})\\\n",
    "    .sort_values(by=['type3'], ascending=False).head()"
   ]
  },
  {
   "cell_type": "code",
   "execution_count": 26,
   "id": "ee065759",
   "metadata": {},
   "outputs": [
    {
     "data": {
      "text/plain": [
       "Timedelta('333 days 00:00:00')"
      ]
     },
     "execution_count": 26,
     "metadata": {},
     "output_type": "execute_result"
    }
   ],
   "source": [
    "#Смотрим за какой отрезок времени наш датасет - 333 дня - 1 год\n",
    "attend['date'].max() - attend['date'].min()"
   ]
  },
  {
   "cell_type": "code",
   "execution_count": 27,
   "id": "bf89a8e2",
   "metadata": {},
   "outputs": [
    {
     "data": {
      "text/html": [
       "<div>\n",
       "<style scoped>\n",
       "    .dataframe tbody tr th:only-of-type {\n",
       "        vertical-align: middle;\n",
       "    }\n",
       "\n",
       "    .dataframe tbody tr th {\n",
       "        vertical-align: top;\n",
       "    }\n",
       "\n",
       "    .dataframe thead th {\n",
       "        text-align: right;\n",
       "    }\n",
       "</style>\n",
       "<table border=\"1\" class=\"dataframe\">\n",
       "  <thead>\n",
       "    <tr style=\"text-align: right;\">\n",
       "      <th></th>\n",
       "      <th>numgroup</th>\n",
       "      <th>type1</th>\n",
       "      <th>type2</th>\n",
       "      <th>type3</th>\n",
       "      <th>addres</th>\n",
       "      <th>okrug</th>\n",
       "      <th>region</th>\n",
       "      <th>active_schedule</th>\n",
       "      <th>end_schedule</th>\n",
       "      <th>plan_schedule</th>\n",
       "    </tr>\n",
       "  </thead>\n",
       "  <tbody>\n",
       "    <tr>\n",
       "      <th>0</th>\n",
       "      <td>801357270</td>\n",
       "      <td>Физическая активность</td>\n",
       "      <td>ОФП</td>\n",
       "      <td>ОФП</td>\n",
       "      <td>город Москва, Саратовская улица, дом 16, корпус 2</td>\n",
       "      <td>Юго-Восточный административный округ</td>\n",
       "      <td>муниципальный округ Текстильщики</td>\n",
       "      <td>NaN</td>\n",
       "      <td>c 01.01.2023 по 31.03.2023, Пн., Ср. 19:10-20:...</td>\n",
       "      <td>NaN</td>\n",
       "    </tr>\n",
       "    <tr>\n",
       "      <th>1</th>\n",
       "      <td>801356857</td>\n",
       "      <td>Физическая активность</td>\n",
       "      <td>ОФП</td>\n",
       "      <td>ОФП</td>\n",
       "      <td>город Москва, Подольская улица, дом 5</td>\n",
       "      <td>Юго-Восточный административный округ</td>\n",
       "      <td>муниципальный округ Марьино</td>\n",
       "      <td>NaN</td>\n",
       "      <td>c 09.01.2023 по 31.03.2023, Вт., Чт. 10:00-11:...</td>\n",
       "      <td>NaN</td>\n",
       "    </tr>\n",
       "    <tr>\n",
       "      <th>2</th>\n",
       "      <td>801351684</td>\n",
       "      <td>Физическая активность</td>\n",
       "      <td>ОФП</td>\n",
       "      <td>ОФП</td>\n",
       "      <td>г. Москва, Базовская улица, дом 15, строение 1...</td>\n",
       "      <td>Северный административный округ, Северный адми...</td>\n",
       "      <td>муниципальный округ Западное Дегунино, муницип...</td>\n",
       "      <td>NaN</td>\n",
       "      <td>c 09.01.2023 по 31.03.2023, Вт., Чт. 19:00-20:...</td>\n",
       "      <td>NaN</td>\n",
       "    </tr>\n",
       "    <tr>\n",
       "      <th>3</th>\n",
       "      <td>801353683</td>\n",
       "      <td>Физическая активность</td>\n",
       "      <td>ОФП</td>\n",
       "      <td>ОФП</td>\n",
       "      <td>город Москва, улица Обручева, дом 28А, город М...</td>\n",
       "      <td>Юго-Западный административный округ, Юго-Запад...</td>\n",
       "      <td>муниципальный округ Обручевский, муниципальный...</td>\n",
       "      <td>NaN</td>\n",
       "      <td>c 09.01.2023 по 31.03.2023, Пн., Ср. 13:30-14:...</td>\n",
       "      <td>NaN</td>\n",
       "    </tr>\n",
       "    <tr>\n",
       "      <th>4</th>\n",
       "      <td>801352164</td>\n",
       "      <td>Физическая активность</td>\n",
       "      <td>ОФП</td>\n",
       "      <td>ОФП</td>\n",
       "      <td>город Москва, Воронцовский парк, дом 3, город ...</td>\n",
       "      <td>Юго-Западный административный округ, Юго-Запад...</td>\n",
       "      <td>муниципальный округ Обручевский, муниципальный...</td>\n",
       "      <td>NaN</td>\n",
       "      <td>c 10.01.2023 по 28.02.2023, Вт., Пт. 12:00-13:...</td>\n",
       "      <td>NaN</td>\n",
       "    </tr>\n",
       "  </tbody>\n",
       "</table>\n",
       "</div>"
      ],
      "text/plain": [
       "    numgroup                  type1 type2 type3  \\\n",
       "0  801357270  Физическая активность   ОФП   ОФП   \n",
       "1  801356857  Физическая активность   ОФП   ОФП   \n",
       "2  801351684  Физическая активность   ОФП   ОФП   \n",
       "3  801353683  Физическая активность   ОФП   ОФП   \n",
       "4  801352164  Физическая активность   ОФП   ОФП   \n",
       "\n",
       "                                              addres  \\\n",
       "0  город Москва, Саратовская улица, дом 16, корпус 2   \n",
       "1              город Москва, Подольская улица, дом 5   \n",
       "2  г. Москва, Базовская улица, дом 15, строение 1...   \n",
       "3  город Москва, улица Обручева, дом 28А, город М...   \n",
       "4  город Москва, Воронцовский парк, дом 3, город ...   \n",
       "\n",
       "                                               okrug  \\\n",
       "0               Юго-Восточный административный округ   \n",
       "1               Юго-Восточный административный округ   \n",
       "2  Северный административный округ, Северный адми...   \n",
       "3  Юго-Западный административный округ, Юго-Запад...   \n",
       "4  Юго-Западный административный округ, Юго-Запад...   \n",
       "\n",
       "                                              region active_schedule  \\\n",
       "0                   муниципальный округ Текстильщики             NaN   \n",
       "1                        муниципальный округ Марьино             NaN   \n",
       "2  муниципальный округ Западное Дегунино, муницип...             NaN   \n",
       "3  муниципальный округ Обручевский, муниципальный...             NaN   \n",
       "4  муниципальный округ Обручевский, муниципальный...             NaN   \n",
       "\n",
       "                                        end_schedule plan_schedule  \n",
       "0  c 01.01.2023 по 31.03.2023, Пн., Ср. 19:10-20:...           NaN  \n",
       "1  c 09.01.2023 по 31.03.2023, Вт., Чт. 10:00-11:...           NaN  \n",
       "2  c 09.01.2023 по 31.03.2023, Вт., Чт. 19:00-20:...           NaN  \n",
       "3  c 09.01.2023 по 31.03.2023, Пн., Ср. 13:30-14:...           NaN  \n",
       "4  c 10.01.2023 по 28.02.2023, Вт., Пт. 12:00-13:...           NaN  "
      ]
     },
     "execution_count": 27,
     "metadata": {},
     "output_type": "execute_result"
    }
   ],
   "source": [
    "# Возвращаюсь к таблице groups\n",
    "groups.head()"
   ]
  },
  {
   "cell_type": "code",
   "execution_count": 28,
   "id": "4c865f5d",
   "metadata": {},
   "outputs": [
    {
     "name": "stdout",
     "output_type": "stream",
     "text": [
      "<class 'pandas.core.frame.DataFrame'>\n",
      "RangeIndex: 27003 entries, 0 to 27002\n",
      "Data columns (total 10 columns):\n",
      " #   Column           Non-Null Count  Dtype \n",
      "---  ------           --------------  ----- \n",
      " 0   numgroup         27003 non-null  int64 \n",
      " 1   type1            27003 non-null  object\n",
      " 2   type2            27003 non-null  object\n",
      " 3   type3            27003 non-null  object\n",
      " 4   addres           27003 non-null  object\n",
      " 5   okrug            23021 non-null  object\n",
      " 6   region           23021 non-null  object\n",
      " 7   active_schedule  6522 non-null   object\n",
      " 8   end_schedule     21643 non-null  object\n",
      " 9   plan_schedule    67 non-null     object\n",
      "dtypes: int64(1), object(9)\n",
      "memory usage: 2.1+ MB\n"
     ]
    }
   ],
   "source": [
    "groups.info()"
   ]
  },
  {
   "cell_type": "code",
   "execution_count": 29,
   "id": "0fb518d1",
   "metadata": {},
   "outputs": [
    {
     "data": {
      "text/html": [
       "<div>\n",
       "<style scoped>\n",
       "    .dataframe tbody tr th:only-of-type {\n",
       "        vertical-align: middle;\n",
       "    }\n",
       "\n",
       "    .dataframe tbody tr th {\n",
       "        vertical-align: top;\n",
       "    }\n",
       "\n",
       "    .dataframe thead th {\n",
       "        text-align: right;\n",
       "    }\n",
       "</style>\n",
       "<table border=\"1\" class=\"dataframe\">\n",
       "  <thead>\n",
       "    <tr style=\"text-align: right;\">\n",
       "      <th></th>\n",
       "      <th>numgroup</th>\n",
       "      <th>addres</th>\n",
       "      <th>okrug</th>\n",
       "      <th>region</th>\n",
       "    </tr>\n",
       "  </thead>\n",
       "  <tbody>\n",
       "    <tr>\n",
       "      <th>0</th>\n",
       "      <td>801357270</td>\n",
       "      <td>город Москва, Саратовская улица, дом 16, корпус 2</td>\n",
       "      <td>Юго-Восточный административный округ</td>\n",
       "      <td>муниципальный округ Текстильщики</td>\n",
       "    </tr>\n",
       "    <tr>\n",
       "      <th>1</th>\n",
       "      <td>801356857</td>\n",
       "      <td>город Москва, Подольская улица, дом 5</td>\n",
       "      <td>Юго-Восточный административный округ</td>\n",
       "      <td>муниципальный округ Марьино</td>\n",
       "    </tr>\n",
       "    <tr>\n",
       "      <th>2</th>\n",
       "      <td>801351684</td>\n",
       "      <td>г. Москва, Базовская улица, дом 15, строение 1...</td>\n",
       "      <td>Северный административный округ, Северный адми...</td>\n",
       "      <td>муниципальный округ Западное Дегунино, муницип...</td>\n",
       "    </tr>\n",
       "    <tr>\n",
       "      <th>3</th>\n",
       "      <td>801353683</td>\n",
       "      <td>город Москва, улица Обручева, дом 28А, город М...</td>\n",
       "      <td>Юго-Западный административный округ, Юго-Запад...</td>\n",
       "      <td>муниципальный округ Обручевский, муниципальный...</td>\n",
       "    </tr>\n",
       "    <tr>\n",
       "      <th>4</th>\n",
       "      <td>801352164</td>\n",
       "      <td>город Москва, Воронцовский парк, дом 3, город ...</td>\n",
       "      <td>Юго-Западный административный округ, Юго-Запад...</td>\n",
       "      <td>муниципальный округ Обручевский, муниципальный...</td>\n",
       "    </tr>\n",
       "  </tbody>\n",
       "</table>\n",
       "</div>"
      ],
      "text/plain": [
       "    numgroup                                             addres  \\\n",
       "0  801357270  город Москва, Саратовская улица, дом 16, корпус 2   \n",
       "1  801356857              город Москва, Подольская улица, дом 5   \n",
       "2  801351684  г. Москва, Базовская улица, дом 15, строение 1...   \n",
       "3  801353683  город Москва, улица Обручева, дом 28А, город М...   \n",
       "4  801352164  город Москва, Воронцовский парк, дом 3, город ...   \n",
       "\n",
       "                                               okrug  \\\n",
       "0               Юго-Восточный административный округ   \n",
       "1               Юго-Восточный административный округ   \n",
       "2  Северный административный округ, Северный адми...   \n",
       "3  Юго-Западный административный округ, Юго-Запад...   \n",
       "4  Юго-Западный административный округ, Юго-Запад...   \n",
       "\n",
       "                                              region  \n",
       "0                   муниципальный округ Текстильщики  \n",
       "1                        муниципальный округ Марьино  \n",
       "2  муниципальный округ Западное Дегунино, муницип...  \n",
       "3  муниципальный округ Обручевский, муниципальный...  \n",
       "4  муниципальный округ Обручевский, муниципальный...  "
      ]
     },
     "execution_count": 29,
     "metadata": {},
     "output_type": "execute_result"
    }
   ],
   "source": [
    "# Оставляю нужные столбцы\n",
    "groups = groups.loc[:, ['numgroup', 'addres', 'okrug', 'region']]\n",
    "groups.head()"
   ]
  },
  {
   "cell_type": "code",
   "execution_count": 30,
   "id": "0fe03dd6",
   "metadata": {},
   "outputs": [
    {
     "data": {
      "text/plain": [
       "numgroup       0\n",
       "addres         0\n",
       "okrug       3982\n",
       "region      3982\n",
       "dtype: int64"
      ]
     },
     "execution_count": 30,
     "metadata": {},
     "output_type": "execute_result"
    }
   ],
   "source": [
    "groups.isnull().sum()"
   ]
  },
  {
   "cell_type": "code",
   "execution_count": 31,
   "id": "e887585c",
   "metadata": {},
   "outputs": [
    {
     "data": {
      "text/plain": [
       "True     24535\n",
       "False     2468\n",
       "Name: numgroup, dtype: int64"
      ]
     },
     "execution_count": 31,
     "metadata": {},
     "output_type": "execute_result"
    }
   ],
   "source": [
    "# Сопоставил номера групп из groups c attend на предмет наличия в attend\n",
    "groups['numgroup'].isin(attend['numgroup']).value_counts()"
   ]
  },
  {
   "cell_type": "code",
   "execution_count": 34,
   "id": "7c40787b",
   "metadata": {},
   "outputs": [],
   "source": [
    "# Сохранил в одельный датафрейм только те номера групп, которые есть в attend\n",
    "plan = groups.loc[groups['numgroup'].isin(attend['numgroup'].unique())]"
   ]
  },
  {
   "cell_type": "code",
   "execution_count": 38,
   "id": "701f4042",
   "metadata": {},
   "outputs": [
    {
     "data": {
      "text/plain": [
       "(24535, 4)"
      ]
     },
     "execution_count": 38,
     "metadata": {},
     "output_type": "execute_result"
    }
   ],
   "source": [
    "plan.shape"
   ]
  },
  {
   "cell_type": "code",
   "execution_count": 40,
   "id": "11ece760",
   "metadata": {},
   "outputs": [
    {
     "data": {
      "text/html": [
       "<div>\n",
       "<style scoped>\n",
       "    .dataframe tbody tr th:only-of-type {\n",
       "        vertical-align: middle;\n",
       "    }\n",
       "\n",
       "    .dataframe tbody tr th {\n",
       "        vertical-align: top;\n",
       "    }\n",
       "\n",
       "    .dataframe thead th {\n",
       "        text-align: right;\n",
       "    }\n",
       "</style>\n",
       "<table border=\"1\" class=\"dataframe\">\n",
       "  <thead>\n",
       "    <tr style=\"text-align: right;\">\n",
       "      <th></th>\n",
       "      <th>numclient</th>\n",
       "      <th>datereg</th>\n",
       "      <th>sex</th>\n",
       "      <th>datebirth</th>\n",
       "      <th>address_live</th>\n",
       "    </tr>\n",
       "  </thead>\n",
       "  <tbody>\n",
       "    <tr>\n",
       "      <th>0</th>\n",
       "      <td>101391104</td>\n",
       "      <td>2019-02-26 15:52:09.000</td>\n",
       "      <td>Женщина</td>\n",
       "      <td>1959-09-10</td>\n",
       "      <td>город москва, константинова, дом 30</td>\n",
       "    </tr>\n",
       "    <tr>\n",
       "      <th>1</th>\n",
       "      <td>101437383</td>\n",
       "      <td>2022-09-14 13:46:41.079</td>\n",
       "      <td>Женщина</td>\n",
       "      <td>1958-06-29</td>\n",
       "      <td>г. москва, большая серпуховская улица, дом 40,...</td>\n",
       "    </tr>\n",
       "    <tr>\n",
       "      <th>2</th>\n",
       "      <td>101351338</td>\n",
       "      <td>2018-03-19 18:34:58.000</td>\n",
       "      <td>Женщина</td>\n",
       "      <td>1956-08-28</td>\n",
       "      <td>город москва, летчика грицевца, дом 10</td>\n",
       "    </tr>\n",
       "    <tr>\n",
       "      <th>3</th>\n",
       "      <td>101354578</td>\n",
       "      <td>2018-03-22 13:19:42.000</td>\n",
       "      <td>Женщина</td>\n",
       "      <td>1939-05-19</td>\n",
       "      <td>город москва, лобачевского, дом 76</td>\n",
       "    </tr>\n",
       "    <tr>\n",
       "      <th>4</th>\n",
       "      <td>101411997</td>\n",
       "      <td>2019-12-17 12:29:25.481</td>\n",
       "      <td>Женщина</td>\n",
       "      <td>1951-03-02</td>\n",
       "      <td>г. москва, улица вертолётчиков, дом 13</td>\n",
       "    </tr>\n",
       "  </tbody>\n",
       "</table>\n",
       "</div>"
      ],
      "text/plain": [
       "   numclient                  datereg      sex   datebirth  \\\n",
       "0  101391104  2019-02-26 15:52:09.000  Женщина  1959-09-10   \n",
       "1  101437383  2022-09-14 13:46:41.079  Женщина  1958-06-29   \n",
       "2  101351338  2018-03-19 18:34:58.000  Женщина  1956-08-28   \n",
       "3  101354578  2018-03-22 13:19:42.000  Женщина  1939-05-19   \n",
       "4  101411997  2019-12-17 12:29:25.481  Женщина  1951-03-02   \n",
       "\n",
       "                                        address_live  \n",
       "0                город москва, константинова, дом 30  \n",
       "1  г. москва, большая серпуховская улица, дом 40,...  \n",
       "2             город москва, летчика грицевца, дом 10  \n",
       "3                 город москва, лобачевского, дом 76  \n",
       "4             г. москва, улица вертолётчиков, дом 13  "
      ]
     },
     "execution_count": 40,
     "metadata": {},
     "output_type": "execute_result"
    }
   ],
   "source": [
    "# Приступим к юзерам\n",
    "users = pd.read_csv('I:/Download/Датасеты/users.csv')\n",
    "users = users.rename(columns={\"уникальный номер\": \"numclient\", \"дата создание личного дела\": \"datereg\", \n",
    "                              \"пол\": \"sex\", \"дата рождения\": \"datebirth\", \n",
    "                       \"адрес проживания\": \"address_live\"})\n",
    "users.head()"
   ]
  },
  {
   "cell_type": "code",
   "execution_count": 41,
   "id": "114cee8b",
   "metadata": {},
   "outputs": [
    {
     "data": {
      "text/plain": [
       "True     50906\n",
       "False     1428\n",
       "Name: numclient, dtype: int64"
      ]
     },
     "execution_count": 41,
     "metadata": {},
     "output_type": "execute_result"
    }
   ],
   "source": [
    "# Сопоставим юзеров с юзерами в attend\n",
    "users['numclient'].isin(attend['numclient']).value_counts()"
   ]
  },
  {
   "cell_type": "code",
   "execution_count": 43,
   "id": "5c7fd966",
   "metadata": {},
   "outputs": [
    {
     "data": {
      "text/plain": [
       "(50906, 5)"
      ]
     },
     "execution_count": 43,
     "metadata": {},
     "output_type": "execute_result"
    }
   ],
   "source": [
    "# Оставлю только тех, кто есть в attend\n",
    "users2 = users.loc[users['numclient'].isin(attend['numclient'].unique())]\n",
    "users2.shape"
   ]
  },
  {
   "cell_type": "code",
   "execution_count": 45,
   "id": "94a97382",
   "metadata": {},
   "outputs": [
    {
     "data": {
      "text/plain": [
       "numclient       0\n",
       "datereg         0\n",
       "sex             0\n",
       "datebirth       0\n",
       "address_live    0\n",
       "dtype: int64"
      ]
     },
     "execution_count": 45,
     "metadata": {},
     "output_type": "execute_result"
    }
   ],
   "source": [
    "# Проверим пустоту\n",
    "users2.isnull().sum()"
   ]
  },
  {
   "cell_type": "code",
   "execution_count": 46,
   "id": "f7d93259",
   "metadata": {},
   "outputs": [
    {
     "data": {
      "text/html": [
       "<div>\n",
       "<style scoped>\n",
       "    .dataframe tbody tr th:only-of-type {\n",
       "        vertical-align: middle;\n",
       "    }\n",
       "\n",
       "    .dataframe tbody tr th {\n",
       "        vertical-align: top;\n",
       "    }\n",
       "\n",
       "    .dataframe thead th {\n",
       "        text-align: right;\n",
       "    }\n",
       "</style>\n",
       "<table border=\"1\" class=\"dataframe\">\n",
       "  <thead>\n",
       "    <tr style=\"text-align: right;\">\n",
       "      <th></th>\n",
       "      <th>numzan</th>\n",
       "      <th>numgroup</th>\n",
       "      <th>numclient</th>\n",
       "      <th>type2</th>\n",
       "      <th>type3</th>\n",
       "      <th>online</th>\n",
       "      <th>date</th>\n",
       "      <th>time_begin</th>\n",
       "      <th>time_end</th>\n",
       "      <th>datereg</th>\n",
       "      <th>sex</th>\n",
       "      <th>datebirth</th>\n",
       "      <th>address_live</th>\n",
       "    </tr>\n",
       "  </thead>\n",
       "  <tbody>\n",
       "    <tr>\n",
       "      <th>0</th>\n",
       "      <td>401346550</td>\n",
       "      <td>801346550</td>\n",
       "      <td>101352023</td>\n",
       "      <td>ОНЛАЙН Гимнастика</td>\n",
       "      <td>ОНЛАЙН Цигун</td>\n",
       "      <td>True</td>\n",
       "      <td>2022-08-01</td>\n",
       "      <td>09:00:00</td>\n",
       "      <td>10:00:00</td>\n",
       "      <td>2018-03-20 14:54:07.000</td>\n",
       "      <td>Женщина</td>\n",
       "      <td>1959-01-18</td>\n",
       "      <td>город москва, кутузовский проспект, дом 19</td>\n",
       "    </tr>\n",
       "    <tr>\n",
       "      <th>1</th>\n",
       "      <td>401348283</td>\n",
       "      <td>801346550</td>\n",
       "      <td>101352023</td>\n",
       "      <td>ОНЛАЙН Гимнастика</td>\n",
       "      <td>ОНЛАЙН Цигун</td>\n",
       "      <td>True</td>\n",
       "      <td>2022-08-03</td>\n",
       "      <td>09:00:00</td>\n",
       "      <td>10:00:00</td>\n",
       "      <td>2018-03-20 14:54:07.000</td>\n",
       "      <td>Женщина</td>\n",
       "      <td>1959-01-18</td>\n",
       "      <td>город москва, кутузовский проспект, дом 19</td>\n",
       "    </tr>\n",
       "    <tr>\n",
       "      <th>2</th>\n",
       "      <td>401351970</td>\n",
       "      <td>801346550</td>\n",
       "      <td>101352023</td>\n",
       "      <td>ОНЛАЙН Гимнастика</td>\n",
       "      <td>ОНЛАЙН Цигун</td>\n",
       "      <td>True</td>\n",
       "      <td>2022-08-08</td>\n",
       "      <td>09:00:00</td>\n",
       "      <td>10:00:00</td>\n",
       "      <td>2018-03-20 14:54:07.000</td>\n",
       "      <td>Женщина</td>\n",
       "      <td>1959-01-18</td>\n",
       "      <td>город москва, кутузовский проспект, дом 19</td>\n",
       "    </tr>\n",
       "    <tr>\n",
       "      <th>3</th>\n",
       "      <td>401355029</td>\n",
       "      <td>801350331</td>\n",
       "      <td>101352023</td>\n",
       "      <td>ОНЛАЙН Красота и стиль</td>\n",
       "      <td>ОНЛАЙН Мастер-класс по уходу за кожей в зрелом...</td>\n",
       "      <td>True</td>\n",
       "      <td>2022-08-08</td>\n",
       "      <td>18:30:00</td>\n",
       "      <td>19:30:00</td>\n",
       "      <td>2018-03-20 14:54:07.000</td>\n",
       "      <td>Женщина</td>\n",
       "      <td>1959-01-18</td>\n",
       "      <td>город москва, кутузовский проспект, дом 19</td>\n",
       "    </tr>\n",
       "    <tr>\n",
       "      <th>4</th>\n",
       "      <td>401355095</td>\n",
       "      <td>801346550</td>\n",
       "      <td>101352023</td>\n",
       "      <td>ОНЛАЙН Гимнастика</td>\n",
       "      <td>ОНЛАЙН Цигун</td>\n",
       "      <td>True</td>\n",
       "      <td>2022-08-10</td>\n",
       "      <td>09:00:00</td>\n",
       "      <td>10:00:00</td>\n",
       "      <td>2018-03-20 14:54:07.000</td>\n",
       "      <td>Женщина</td>\n",
       "      <td>1959-01-18</td>\n",
       "      <td>город москва, кутузовский проспект, дом 19</td>\n",
       "    </tr>\n",
       "  </tbody>\n",
       "</table>\n",
       "</div>"
      ],
      "text/plain": [
       "      numzan   numgroup  numclient                   type2  \\\n",
       "0  401346550  801346550  101352023       ОНЛАЙН Гимнастика   \n",
       "1  401348283  801346550  101352023       ОНЛАЙН Гимнастика   \n",
       "2  401351970  801346550  101352023       ОНЛАЙН Гимнастика   \n",
       "3  401355029  801350331  101352023  ОНЛАЙН Красота и стиль   \n",
       "4  401355095  801346550  101352023       ОНЛАЙН Гимнастика   \n",
       "\n",
       "                                               type3  online       date  \\\n",
       "0                                       ОНЛАЙН Цигун    True 2022-08-01   \n",
       "1                                       ОНЛАЙН Цигун    True 2022-08-03   \n",
       "2                                       ОНЛАЙН Цигун    True 2022-08-08   \n",
       "3  ОНЛАЙН Мастер-класс по уходу за кожей в зрелом...    True 2022-08-08   \n",
       "4                                       ОНЛАЙН Цигун    True 2022-08-10   \n",
       "\n",
       "  time_begin  time_end                  datereg      sex   datebirth  \\\n",
       "0   09:00:00  10:00:00  2018-03-20 14:54:07.000  Женщина  1959-01-18   \n",
       "1   09:00:00  10:00:00  2018-03-20 14:54:07.000  Женщина  1959-01-18   \n",
       "2   09:00:00  10:00:00  2018-03-20 14:54:07.000  Женщина  1959-01-18   \n",
       "3   18:30:00  19:30:00  2018-03-20 14:54:07.000  Женщина  1959-01-18   \n",
       "4   09:00:00  10:00:00  2018-03-20 14:54:07.000  Женщина  1959-01-18   \n",
       "\n",
       "                                 address_live  \n",
       "0  город москва, кутузовский проспект, дом 19  \n",
       "1  город москва, кутузовский проспект, дом 19  \n",
       "2  город москва, кутузовский проспект, дом 19  \n",
       "3  город москва, кутузовский проспект, дом 19  \n",
       "4  город москва, кутузовский проспект, дом 19  "
      ]
     },
     "execution_count": 46,
     "metadata": {},
     "output_type": "execute_result"
    }
   ],
   "source": [
    "# Начинаю собирать датасет для модели\n",
    "users_attend = attend.merge(users2, on='numclient', how='outer')\n",
    "users_attend.head()"
   ]
  },
  {
   "cell_type": "code",
   "execution_count": 47,
   "id": "17c1eaa4",
   "metadata": {},
   "outputs": [
    {
     "name": "stdout",
     "output_type": "stream",
     "text": [
      "<class 'pandas.core.frame.DataFrame'>\n",
      "Int64Index: 5901274 entries, 0 to 5901273\n",
      "Data columns (total 13 columns):\n",
      " #   Column        Dtype         \n",
      "---  ------        -----         \n",
      " 0   numzan        int64         \n",
      " 1   numgroup      int64         \n",
      " 2   numclient     int64         \n",
      " 3   type2         object        \n",
      " 4   type3         object        \n",
      " 5   online        bool          \n",
      " 6   date          datetime64[ns]\n",
      " 7   time_begin    object        \n",
      " 8   time_end      object        \n",
      " 9   datereg       object        \n",
      " 10  sex           object        \n",
      " 11  datebirth     object        \n",
      " 12  address_live  object        \n",
      "dtypes: bool(1), datetime64[ns](1), int64(3), object(8)\n",
      "memory usage: 590.9+ MB\n"
     ]
    }
   ],
   "source": [
    "users_attend.info()"
   ]
  },
  {
   "cell_type": "code",
   "execution_count": 48,
   "id": "8d032abb",
   "metadata": {},
   "outputs": [
    {
     "data": {
      "text/plain": [
       "numzan          0\n",
       "numgroup        0\n",
       "numclient       0\n",
       "type2           0\n",
       "type3           0\n",
       "online          0\n",
       "date            0\n",
       "time_begin      0\n",
       "time_end        0\n",
       "datereg         0\n",
       "sex             0\n",
       "datebirth       0\n",
       "address_live    0\n",
       "dtype: int64"
      ]
     },
     "execution_count": 48,
     "metadata": {},
     "output_type": "execute_result"
    }
   ],
   "source": [
    "users_attend.isnull().sum()"
   ]
  }
 ],
 "metadata": {
  "kernelspec": {
   "display_name": "Python 3 (ipykernel)",
   "language": "python",
   "name": "python3"
  },
  "language_info": {
   "codemirror_mode": {
    "name": "ipython",
    "version": 3
   },
   "file_extension": ".py",
   "mimetype": "text/x-python",
   "name": "python",
   "nbconvert_exporter": "python",
   "pygments_lexer": "ipython3",
   "version": "3.10.9"
  }
 },
 "nbformat": 4,
 "nbformat_minor": 5
}
