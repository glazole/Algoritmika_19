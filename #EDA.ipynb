{
 "cells": [
  {
   "attachments": {},
   "cell_type": "markdown",
   "id": "e38804ee",
   "metadata": {},
   "source": [
    "Импорт библиотек"
   ]
  },
  {
   "cell_type": "code",
   "execution_count": 2,
   "id": "576fb15c",
   "metadata": {},
   "outputs": [],
   "source": [
    "# data analysis \n",
    "import pandas as pd\n",
    "import numpy as np\n",
    "from datetime import datetime\n",
    "today = datetime.today()\n",
    "# visualization\n",
    "import matplotlib.pyplot as plt\n",
    "%matplotlib inline\n",
    "\n",
    "# pd.set_option('display.max_rows', None)"
   ]
  },
  {
   "attachments": {},
   "cell_type": "markdown",
   "id": "bad87670",
   "metadata": {},
   "source": [
    "Импорт датасетов"
   ]
  },
  {
   "cell_type": "code",
   "execution_count": 3,
   "id": "5d9796ce",
   "metadata": {},
   "outputs": [],
   "source": [
    "attend = pd.read_csv('I:\\\\Download\\\\Датасеты\\\\attend.csv')\n",
    "groups = pd.read_csv('I:\\\\Download\\\\Датасеты\\\\groups.csv')\n",
    "users = pd.read_csv('I:\\\\Download\\\\Датасеты\\\\users.csv')\n",
    "dictx = pd.read_excel('I:\\\\Download\\\\Датасеты\\\\dict.xlsx')\n",
    "test = pd.read_csv('I:\\\\Download\\\\Датасеты\\\\test.csv')"
   ]
  },
  {
   "attachments": {},
   "cell_type": "markdown",
   "id": "b9304dfa",
   "metadata": {},
   "source": [
    "Переименование полей (для удобства обработки)"
   ]
  },
  {
   "cell_type": "code",
   "execution_count": 4,
   "id": "b7e77fa5",
   "metadata": {},
   "outputs": [],
   "source": [
    "attend = attend.rename(columns={\"уникальный номер занятия\": \"numzan\", \"уникальный номер группы\": \"numgroup\", \"уникальный номер участника\": \"numclient\",\n",
    "                               \"направление 2\": \"type2\", \"направление 3\": \"type3\", \"онлайн/офлайн\": \"online\", \"дата занятия\": \"datezan\",\n",
    "                               \"время начала занятия\": \"timebegin\", \"время окончания занятия\": \"timeend\"})\n",
    "groups = groups.rename(columns={\"уникальный номер\": \"numgroup\", \"направление 1\": \"type1\", \"направление 2\": \"type2\", \"направление 3\": \"type3\", \n",
    "                       \"адрес площадки\": \"address\", \"округ площадки\": \"okrug\", \"район площадки\": \"region\", \"расписание в активных периодах\": \"active_schedule\",\n",
    "                      \"расписание в закрытых периодах\": \"end_schedule\", \"расписание в плановом периоде\": \"plan_schedule\"})\n",
    "users = users.rename(columns={\"уникальный номер\": \"numclient\", \"дата создание личного дела\": \"datereg\", \"пол\": \"sex\", \"дата рождения\": \"datebirth\", \n",
    "                       \"адрес проживания\": \"address_live\"})"
   ]
  },
  {
   "attachments": {},
   "cell_type": "markdown",
   "id": "52636dc5",
   "metadata": {},
   "source": [
    "EDA"
   ]
  },
  {
   "cell_type": "code",
   "execution_count": 5,
   "id": "0db1b33a",
   "metadata": {},
   "outputs": [
    {
     "name": "stdout",
     "output_type": "stream",
     "text": [
      "<class 'pandas.core.frame.DataFrame'>\n",
      "RangeIndex: 5901274 entries, 0 to 5901273\n",
      "Data columns (total 9 columns):\n",
      " #   Column     Dtype \n",
      "---  ------     ----- \n",
      " 0   numzan     int64 \n",
      " 1   numgroup   int64 \n",
      " 2   numclient  int64 \n",
      " 3   type2      object\n",
      " 4   type3      object\n",
      " 5   online     object\n",
      " 6   datezan    object\n",
      " 7   timebegin  object\n",
      " 8   timeend    object\n",
      "dtypes: int64(3), object(6)\n",
      "memory usage: 3.1 GB\n"
     ]
    }
   ],
   "source": [
    "attend.info(memory_usage='deep')"
   ]
  },
  {
   "cell_type": "code",
   "execution_count": 6,
   "id": "f75fcc65",
   "metadata": {},
   "outputs": [
    {
     "data": {
      "text/plain": [
       "numzan       0\n",
       "numgroup     0\n",
       "numclient    0\n",
       "type2        0\n",
       "type3        0\n",
       "online       0\n",
       "datezan      0\n",
       "timebegin    0\n",
       "timeend      0\n",
       "dtype: int64"
      ]
     },
     "execution_count": 6,
     "metadata": {},
     "output_type": "execute_result"
    }
   ],
   "source": [
    "#Смотрим пропущенные значения - пропущенных нет\n",
    "attend.isnull().sum()"
   ]
  },
  {
   "cell_type": "code",
   "execution_count": 7,
   "id": "fa8ea078",
   "metadata": {},
   "outputs": [
    {
     "data": {
      "text/html": [
       "<div>\n",
       "<style scoped>\n",
       "    .dataframe tbody tr th:only-of-type {\n",
       "        vertical-align: middle;\n",
       "    }\n",
       "\n",
       "    .dataframe tbody tr th {\n",
       "        vertical-align: top;\n",
       "    }\n",
       "\n",
       "    .dataframe thead th {\n",
       "        text-align: right;\n",
       "    }\n",
       "</style>\n",
       "<table border=\"1\" class=\"dataframe\">\n",
       "  <thead>\n",
       "    <tr style=\"text-align: right;\">\n",
       "      <th></th>\n",
       "      <th>type2</th>\n",
       "      <th>type3</th>\n",
       "      <th>online</th>\n",
       "      <th>datezan</th>\n",
       "      <th>timebegin</th>\n",
       "      <th>timeend</th>\n",
       "    </tr>\n",
       "  </thead>\n",
       "  <tbody>\n",
       "    <tr>\n",
       "      <th>count</th>\n",
       "      <td>5901274</td>\n",
       "      <td>5901274</td>\n",
       "      <td>5901274</td>\n",
       "      <td>5901274</td>\n",
       "      <td>5901274</td>\n",
       "      <td>5901274</td>\n",
       "    </tr>\n",
       "    <tr>\n",
       "      <th>unique</th>\n",
       "      <td>81</td>\n",
       "      <td>453</td>\n",
       "      <td>2</td>\n",
       "      <td>333</td>\n",
       "      <td>157</td>\n",
       "      <td>156</td>\n",
       "    </tr>\n",
       "    <tr>\n",
       "      <th>top</th>\n",
       "      <td>ОНЛАЙН Гимнастика</td>\n",
       "      <td>ОНЛАЙН Мастер-класс по уходу за кожей в зрелом...</td>\n",
       "      <td>Да</td>\n",
       "      <td>2023-02-14</td>\n",
       "      <td>10:00:00</td>\n",
       "      <td>11:00:00</td>\n",
       "    </tr>\n",
       "    <tr>\n",
       "      <th>freq</th>\n",
       "      <td>819496</td>\n",
       "      <td>413095</td>\n",
       "      <td>3816929</td>\n",
       "      <td>39308</td>\n",
       "      <td>658684</td>\n",
       "      <td>599741</td>\n",
       "    </tr>\n",
       "  </tbody>\n",
       "</table>\n",
       "</div>"
      ],
      "text/plain": [
       "                    type2                                              type3  \\\n",
       "count             5901274                                            5901274   \n",
       "unique                 81                                                453   \n",
       "top     ОНЛАЙН Гимнастика  ОНЛАЙН Мастер-класс по уходу за кожей в зрелом...   \n",
       "freq               819496                                             413095   \n",
       "\n",
       "         online     datezan timebegin   timeend  \n",
       "count   5901274     5901274   5901274   5901274  \n",
       "unique        2         333       157       156  \n",
       "top          Да  2023-02-14  10:00:00  11:00:00  \n",
       "freq    3816929       39308    658684    599741  "
      ]
     },
     "execution_count": 7,
     "metadata": {},
     "output_type": "execute_result"
    }
   ],
   "source": [
    "# Смотрим общую статистику\n",
    "attend.describe(include='object')"
   ]
  },
  {
   "cell_type": "code",
   "execution_count": 8,
   "id": "02d2089a",
   "metadata": {},
   "outputs": [
    {
     "data": {
      "text/plain": [
       "24535"
      ]
     },
     "execution_count": 8,
     "metadata": {},
     "output_type": "execute_result"
    }
   ],
   "source": [
    "attend.numgroup.nunique() #Количество уникальных групп"
   ]
  },
  {
   "cell_type": "code",
   "execution_count": 9,
   "id": "65898e82",
   "metadata": {},
   "outputs": [
    {
     "data": {
      "text/plain": [
       "647132"
      ]
     },
     "execution_count": 9,
     "metadata": {},
     "output_type": "execute_result"
    }
   ],
   "source": [
    "attend.numzan.nunique() #Количество уникальных занятий"
   ]
  },
  {
   "cell_type": "code",
   "execution_count": 10,
   "id": "02ccc5b9",
   "metadata": {},
   "outputs": [
    {
     "data": {
      "text/plain": [
       "50906"
      ]
     },
     "execution_count": 10,
     "metadata": {},
     "output_type": "execute_result"
    }
   ],
   "source": [
    "attend.numclient.nunique() #Уникальное количество пользователей всего"
   ]
  },
  {
   "cell_type": "code",
   "execution_count": 11,
   "id": "2651a732",
   "metadata": {},
   "outputs": [
    {
     "data": {
      "text/html": [
       "<div>\n",
       "<style scoped>\n",
       "    .dataframe tbody tr th:only-of-type {\n",
       "        vertical-align: middle;\n",
       "    }\n",
       "\n",
       "    .dataframe tbody tr th {\n",
       "        vertical-align: top;\n",
       "    }\n",
       "\n",
       "    .dataframe thead th {\n",
       "        text-align: right;\n",
       "    }\n",
       "</style>\n",
       "<table border=\"1\" class=\"dataframe\">\n",
       "  <thead>\n",
       "    <tr style=\"text-align: right;\">\n",
       "      <th></th>\n",
       "      <th></th>\n",
       "      <th>numgroup</th>\n",
       "    </tr>\n",
       "    <tr>\n",
       "      <th>numclient</th>\n",
       "      <th>type2</th>\n",
       "      <th></th>\n",
       "    </tr>\n",
       "  </thead>\n",
       "  <tbody>\n",
       "    <tr>\n",
       "      <th>101387204</th>\n",
       "      <th>ОНЛАЙН Художественно-прикладное творчество</th>\n",
       "      <td>743</td>\n",
       "    </tr>\n",
       "    <tr>\n",
       "      <th>101426166</th>\n",
       "      <th>ОНЛАЙН Рисование</th>\n",
       "      <td>628</td>\n",
       "    </tr>\n",
       "    <tr>\n",
       "      <th>101391680</th>\n",
       "      <th>ОНЛАЙН Рисование</th>\n",
       "      <td>621</td>\n",
       "    </tr>\n",
       "    <tr>\n",
       "      <th>101354085</th>\n",
       "      <th>ОНЛАЙН Художественно-прикладное творчество</th>\n",
       "      <td>569</td>\n",
       "    </tr>\n",
       "    <tr>\n",
       "      <th>101358683</th>\n",
       "      <th>ОНЛАЙН Рисование</th>\n",
       "      <td>567</td>\n",
       "    </tr>\n",
       "  </tbody>\n",
       "</table>\n",
       "</div>"
      ],
      "text/plain": [
       "                                                      numgroup\n",
       "numclient type2                                               \n",
       "101387204 ОНЛАЙН Художественно-прикладное творчество       743\n",
       "101426166 ОНЛАЙН Рисование                                 628\n",
       "101391680 ОНЛАЙН Рисование                                 621\n",
       "101354085 ОНЛАЙН Художественно-прикладное творчество       569\n",
       "101358683 ОНЛАЙН Рисование                                 567"
      ]
     },
     "execution_count": 11,
     "metadata": {},
     "output_type": "execute_result"
    }
   ],
   "source": [
    "# ТОП пользователей по группам \n",
    "attend\\\n",
    "    .groupby(['numclient', 'type2']) \\\n",
    "    .agg({'numgroup':'count'}) \\\n",
    "    .sort_values(by=['numgroup'], ascending=False).head() "
   ]
  },
  {
   "cell_type": "code",
   "execution_count": 12,
   "id": "831a35cb",
   "metadata": {},
   "outputs": [
    {
     "data": {
      "text/html": [
       "<div>\n",
       "<style scoped>\n",
       "    .dataframe tbody tr th:only-of-type {\n",
       "        vertical-align: middle;\n",
       "    }\n",
       "\n",
       "    .dataframe tbody tr th {\n",
       "        vertical-align: top;\n",
       "    }\n",
       "\n",
       "    .dataframe thead th {\n",
       "        text-align: right;\n",
       "    }\n",
       "</style>\n",
       "<table border=\"1\" class=\"dataframe\">\n",
       "  <thead>\n",
       "    <tr style=\"text-align: right;\">\n",
       "      <th></th>\n",
       "      <th>type2</th>\n",
       "      <th>type3</th>\n",
       "      <th>online</th>\n",
       "      <th>numclient</th>\n",
       "    </tr>\n",
       "  </thead>\n",
       "  <tbody>\n",
       "    <tr>\n",
       "      <th>0</th>\n",
       "      <td>ОНЛАЙН Красота и стиль</td>\n",
       "      <td>ОНЛАЙН Мастер-класс по уходу за кожей в зрелом...</td>\n",
       "      <td>Да</td>\n",
       "      <td>413095</td>\n",
       "    </tr>\n",
       "    <tr>\n",
       "      <th>1</th>\n",
       "      <td>ОНЛАЙН Гимнастика</td>\n",
       "      <td>ОНЛАЙН Гимнастика</td>\n",
       "      <td>Да</td>\n",
       "      <td>209704</td>\n",
       "    </tr>\n",
       "    <tr>\n",
       "      <th>2</th>\n",
       "      <td>Скандинавская ходьба</td>\n",
       "      <td>Скандинавская ходьба</td>\n",
       "      <td>Нет</td>\n",
       "      <td>182593</td>\n",
       "    </tr>\n",
       "    <tr>\n",
       "      <th>3</th>\n",
       "      <td>ОНЛАЙН Гимнастика</td>\n",
       "      <td>ОНЛАЙН Суставная гимнастика</td>\n",
       "      <td>Да</td>\n",
       "      <td>173138</td>\n",
       "    </tr>\n",
       "    <tr>\n",
       "      <th>4</th>\n",
       "      <td>ОНЛАЙН Психология и коммуникации</td>\n",
       "      <td>ОНЛАЙН Психологические тренинги</td>\n",
       "      <td>Да</td>\n",
       "      <td>145011</td>\n",
       "    </tr>\n",
       "  </tbody>\n",
       "</table>\n",
       "</div>"
      ],
      "text/plain": [
       "                              type2  \\\n",
       "0            ОНЛАЙН Красота и стиль   \n",
       "1                 ОНЛАЙН Гимнастика   \n",
       "2              Скандинавская ходьба   \n",
       "3                 ОНЛАЙН Гимнастика   \n",
       "4  ОНЛАЙН Психология и коммуникации   \n",
       "\n",
       "                                               type3 online  numclient  \n",
       "0  ОНЛАЙН Мастер-класс по уходу за кожей в зрелом...     Да     413095  \n",
       "1                                  ОНЛАЙН Гимнастика     Да     209704  \n",
       "2                               Скандинавская ходьба    Нет     182593  \n",
       "3                        ОНЛАЙН Суставная гимнастика     Да     173138  \n",
       "4                    ОНЛАЙН Психологические тренинги     Да     145011  "
      ]
     },
     "execution_count": 12,
     "metadata": {},
     "output_type": "execute_result"
    }
   ],
   "source": [
    "# Количество пользователей посетивших различные занятия\n",
    "attend.groupby(['type2', 'type3', 'online']).agg({\"numclient\": 'count'})\\\n",
    "    .sort_values(by=['numclient'], ascending=False).reset_index().head()"
   ]
  },
  {
   "cell_type": "code",
   "execution_count": 13,
   "id": "1bbaa86a",
   "metadata": {},
   "outputs": [
    {
     "data": {
      "text/plain": [
       "101415587"
      ]
     },
     "execution_count": 13,
     "metadata": {},
     "output_type": "execute_result"
    }
   ],
   "source": [
    "# ID пользователя с минимальной активностью за год\n",
    "attend.groupby(['numclient'])['datezan'].nunique().idxmin()"
   ]
  },
  {
   "cell_type": "code",
   "execution_count": 14,
   "id": "99ce3951",
   "metadata": {},
   "outputs": [
    {
     "data": {
      "text/plain": [
       "101420479"
      ]
     },
     "execution_count": 14,
     "metadata": {},
     "output_type": "execute_result"
    }
   ],
   "source": [
    "# ID пользователя с максимальной активностью за год\n",
    "attend.groupby(['numclient'])['datezan'].nunique().idxmax()"
   ]
  },
  {
   "cell_type": "code",
   "execution_count": 15,
   "id": "69f536cb",
   "metadata": {},
   "outputs": [
    {
     "data": {
      "text/html": [
       "<div>\n",
       "<style scoped>\n",
       "    .dataframe tbody tr th:only-of-type {\n",
       "        vertical-align: middle;\n",
       "    }\n",
       "\n",
       "    .dataframe tbody tr th {\n",
       "        vertical-align: top;\n",
       "    }\n",
       "\n",
       "    .dataframe thead th {\n",
       "        text-align: right;\n",
       "    }\n",
       "</style>\n",
       "<table border=\"1\" class=\"dataframe\">\n",
       "  <thead>\n",
       "    <tr style=\"text-align: right;\">\n",
       "      <th></th>\n",
       "      <th>type3</th>\n",
       "    </tr>\n",
       "    <tr>\n",
       "      <th>type2</th>\n",
       "      <th></th>\n",
       "    </tr>\n",
       "  </thead>\n",
       "  <tbody>\n",
       "    <tr>\n",
       "      <th>ОНЛАЙН Красота и стиль</th>\n",
       "      <td>229</td>\n",
       "    </tr>\n",
       "    <tr>\n",
       "      <th>ОНЛАЙН Гимнастика</th>\n",
       "      <td>146</td>\n",
       "    </tr>\n",
       "    <tr>\n",
       "      <th>ОНЛАЙН Здорово жить</th>\n",
       "      <td>127</td>\n",
       "    </tr>\n",
       "    <tr>\n",
       "      <th>ОНЛАЙН Психология и коммуникации</th>\n",
       "      <td>81</td>\n",
       "    </tr>\n",
       "    <tr>\n",
       "      <th>ОНЛАЙН ОФП</th>\n",
       "      <td>80</td>\n",
       "    </tr>\n",
       "  </tbody>\n",
       "</table>\n",
       "</div>"
      ],
      "text/plain": [
       "                                  type3\n",
       "type2                                  \n",
       "ОНЛАЙН Красота и стиль              229\n",
       "ОНЛАЙН Гимнастика                   146\n",
       "ОНЛАЙН Здорово жить                 127\n",
       "ОНЛАЙН Психология и коммуникации     81\n",
       "ОНЛАЙН ОФП                           80"
      ]
     },
     "execution_count": 15,
     "metadata": {},
     "output_type": "execute_result"
    }
   ],
   "source": [
    "#Пользователь с максимальной активностью за год\n",
    "attend.query('numclient == 101420479').groupby('type2').agg({'type3':'count'})\\\n",
    "    .sort_values(by=['type3'], ascending=False)"
   ]
  },
  {
   "cell_type": "code",
   "execution_count": 16,
   "id": "049ef390",
   "metadata": {},
   "outputs": [
    {
     "data": {
      "text/html": [
       "<div>\n",
       "<style scoped>\n",
       "    .dataframe tbody tr th:only-of-type {\n",
       "        vertical-align: middle;\n",
       "    }\n",
       "\n",
       "    .dataframe tbody tr th {\n",
       "        vertical-align: top;\n",
       "    }\n",
       "\n",
       "    .dataframe thead th {\n",
       "        text-align: right;\n",
       "    }\n",
       "</style>\n",
       "<table border=\"1\" class=\"dataframe\">\n",
       "  <thead>\n",
       "    <tr style=\"text-align: right;\">\n",
       "      <th></th>\n",
       "      <th>type3</th>\n",
       "    </tr>\n",
       "    <tr>\n",
       "      <th>type2</th>\n",
       "      <th></th>\n",
       "    </tr>\n",
       "  </thead>\n",
       "  <tbody>\n",
       "    <tr>\n",
       "      <th>Информационные технологии</th>\n",
       "      <td>5</td>\n",
       "    </tr>\n",
       "  </tbody>\n",
       "</table>\n",
       "</div>"
      ],
      "text/plain": [
       "                           type3\n",
       "type2                           \n",
       "Информационные технологии      5"
      ]
     },
     "execution_count": 16,
     "metadata": {},
     "output_type": "execute_result"
    }
   ],
   "source": [
    "#Пользователь с минимальной активностью за год\n",
    "attend.query('numclient == 101415587').groupby('type2').agg({'type3':'count'})\\\n",
    "    .sort_values(by=['type3'], ascending=False)"
   ]
  },
  {
   "cell_type": "code",
   "execution_count": 17,
   "id": "0dc272bd",
   "metadata": {},
   "outputs": [
    {
     "data": {
      "text/html": [
       "<div>\n",
       "<style scoped>\n",
       "    .dataframe tbody tr th:only-of-type {\n",
       "        vertical-align: middle;\n",
       "    }\n",
       "\n",
       "    .dataframe tbody tr th {\n",
       "        vertical-align: top;\n",
       "    }\n",
       "\n",
       "    .dataframe thead th {\n",
       "        text-align: right;\n",
       "    }\n",
       "</style>\n",
       "<table border=\"1\" class=\"dataframe\">\n",
       "  <thead>\n",
       "    <tr style=\"text-align: right;\">\n",
       "      <th></th>\n",
       "      <th>numzan</th>\n",
       "    </tr>\n",
       "    <tr>\n",
       "      <th>online</th>\n",
       "      <th></th>\n",
       "    </tr>\n",
       "  </thead>\n",
       "  <tbody>\n",
       "    <tr>\n",
       "      <th>Нет</th>\n",
       "      <td>412908</td>\n",
       "    </tr>\n",
       "    <tr>\n",
       "      <th>Да</th>\n",
       "      <td>234224</td>\n",
       "    </tr>\n",
       "  </tbody>\n",
       "</table>\n",
       "</div>"
      ],
      "text/plain": [
       "        numzan\n",
       "online        \n",
       "Нет     412908\n",
       "Да      234224"
      ]
     },
     "execution_count": 17,
     "metadata": {},
     "output_type": "execute_result"
    }
   ],
   "source": [
    "attend.groupby('online').agg({'numzan':'nunique'})\\\n",
    "    .sort_values(by=['numzan'], ascending=False).head()"
   ]
  },
  {
   "cell_type": "code",
   "execution_count": 18,
   "id": "6b5c998f",
   "metadata": {},
   "outputs": [
    {
     "name": "stdout",
     "output_type": "stream",
     "text": [
      "Занятий онлайн: 36.19%\n",
      "Занятий офлайн: 63.81%\n"
     ]
    }
   ],
   "source": [
    "print(f'''Занятий онлайн: {100*(234224/647132):.2f}%\n",
    "Занятий офлайн: {100*(412908/647132):.2f}%''')"
   ]
  },
  {
   "cell_type": "code",
   "execution_count": 19,
   "id": "3e28ea9a",
   "metadata": {},
   "outputs": [
    {
     "data": {
      "text/html": [
       "<div>\n",
       "<style scoped>\n",
       "    .dataframe tbody tr th:only-of-type {\n",
       "        vertical-align: middle;\n",
       "    }\n",
       "\n",
       "    .dataframe tbody tr th {\n",
       "        vertical-align: top;\n",
       "    }\n",
       "\n",
       "    .dataframe thead th {\n",
       "        text-align: right;\n",
       "    }\n",
       "</style>\n",
       "<table border=\"1\" class=\"dataframe\">\n",
       "  <thead>\n",
       "    <tr style=\"text-align: right;\">\n",
       "      <th></th>\n",
       "      <th>numgroup</th>\n",
       "    </tr>\n",
       "    <tr>\n",
       "      <th>online</th>\n",
       "      <th></th>\n",
       "    </tr>\n",
       "  </thead>\n",
       "  <tbody>\n",
       "    <tr>\n",
       "      <th>Нет</th>\n",
       "      <td>17185</td>\n",
       "    </tr>\n",
       "    <tr>\n",
       "      <th>Да</th>\n",
       "      <td>7350</td>\n",
       "    </tr>\n",
       "  </tbody>\n",
       "</table>\n",
       "</div>"
      ],
      "text/plain": [
       "        numgroup\n",
       "online          \n",
       "Нет        17185\n",
       "Да          7350"
      ]
     },
     "execution_count": 19,
     "metadata": {},
     "output_type": "execute_result"
    }
   ],
   "source": [
    "attend.groupby('online').agg({'numgroup':'nunique'})\\\n",
    "    .sort_values(by=['numgroup'], ascending=False).head()"
   ]
  },
  {
   "cell_type": "code",
   "execution_count": 20,
   "id": "ff1851f2",
   "metadata": {},
   "outputs": [
    {
     "name": "stdout",
     "output_type": "stream",
     "text": [
      "Групп онлайн: 29.96%\n",
      "Групп офлайн: 70.04%\n"
     ]
    }
   ],
   "source": [
    "print(f'''Групп онлайн: {100*(7350/24535):.2f}%\n",
    "Групп офлайн: {100*(17185/24535):.2f}%''')"
   ]
  },
  {
   "cell_type": "code",
   "execution_count": 21,
   "id": "9c3bd108",
   "metadata": {},
   "outputs": [
    {
     "data": {
      "text/html": [
       "<div>\n",
       "<style scoped>\n",
       "    .dataframe tbody tr th:only-of-type {\n",
       "        vertical-align: middle;\n",
       "    }\n",
       "\n",
       "    .dataframe tbody tr th {\n",
       "        vertical-align: top;\n",
       "    }\n",
       "\n",
       "    .dataframe thead th {\n",
       "        text-align: right;\n",
       "    }\n",
       "</style>\n",
       "<table border=\"1\" class=\"dataframe\">\n",
       "  <thead>\n",
       "    <tr style=\"text-align: right;\">\n",
       "      <th></th>\n",
       "      <th>type3</th>\n",
       "    </tr>\n",
       "    <tr>\n",
       "      <th>type2</th>\n",
       "      <th></th>\n",
       "    </tr>\n",
       "  </thead>\n",
       "  <tbody>\n",
       "    <tr>\n",
       "      <th>ОНЛАЙН Гимнастика</th>\n",
       "      <td>819496</td>\n",
       "    </tr>\n",
       "    <tr>\n",
       "      <th>ОНЛАЙН Красота и стиль</th>\n",
       "      <td>461259</td>\n",
       "    </tr>\n",
       "    <tr>\n",
       "      <th>ОНЛАЙН Здорово жить</th>\n",
       "      <td>346469</td>\n",
       "    </tr>\n",
       "    <tr>\n",
       "      <th>ОНЛАЙН История, искусство, краеведение</th>\n",
       "      <td>294575</td>\n",
       "    </tr>\n",
       "    <tr>\n",
       "      <th>ОНЛАЙН Рисование</th>\n",
       "      <td>228054</td>\n",
       "    </tr>\n",
       "  </tbody>\n",
       "</table>\n",
       "</div>"
      ],
      "text/plain": [
       "                                         type3\n",
       "type2                                         \n",
       "ОНЛАЙН Гимнастика                       819496\n",
       "ОНЛАЙН Красота и стиль                  461259\n",
       "ОНЛАЙН Здорово жить                     346469\n",
       "ОНЛАЙН История, искусство, краеведение  294575\n",
       "ОНЛАЙН Рисование                        228054"
      ]
     },
     "execution_count": 21,
     "metadata": {},
     "output_type": "execute_result"
    }
   ],
   "source": [
    "# Онлайн программы по популярности\n",
    "attend.query('online == \"Да\"').groupby('type2').agg({'type3':'count'})\\\n",
    "    .sort_values(by=['type3'], ascending=False).head()"
   ]
  },
  {
   "cell_type": "code",
   "execution_count": 22,
   "id": "61a0e7a9",
   "metadata": {},
   "outputs": [
    {
     "data": {
      "text/html": [
       "<div>\n",
       "<style scoped>\n",
       "    .dataframe tbody tr th:only-of-type {\n",
       "        vertical-align: middle;\n",
       "    }\n",
       "\n",
       "    .dataframe tbody tr th {\n",
       "        vertical-align: top;\n",
       "    }\n",
       "\n",
       "    .dataframe thead th {\n",
       "        text-align: right;\n",
       "    }\n",
       "</style>\n",
       "<table border=\"1\" class=\"dataframe\">\n",
       "  <thead>\n",
       "    <tr style=\"text-align: right;\">\n",
       "      <th></th>\n",
       "      <th>type3</th>\n",
       "    </tr>\n",
       "    <tr>\n",
       "      <th>type2</th>\n",
       "      <th></th>\n",
       "    </tr>\n",
       "  </thead>\n",
       "  <tbody>\n",
       "    <tr>\n",
       "      <th>Гимнастика</th>\n",
       "      <td>408361</td>\n",
       "    </tr>\n",
       "    <tr>\n",
       "      <th>Танцы</th>\n",
       "      <td>223793</td>\n",
       "    </tr>\n",
       "    <tr>\n",
       "      <th>Фитнес, тренажеры</th>\n",
       "      <td>210518</td>\n",
       "    </tr>\n",
       "    <tr>\n",
       "      <th>Скандинавская ходьба</th>\n",
       "      <td>182593</td>\n",
       "    </tr>\n",
       "    <tr>\n",
       "      <th>Спортивные игры</th>\n",
       "      <td>153462</td>\n",
       "    </tr>\n",
       "  </tbody>\n",
       "</table>\n",
       "</div>"
      ],
      "text/plain": [
       "                       type3\n",
       "type2                       \n",
       "Гимнастика            408361\n",
       "Танцы                 223793\n",
       "Фитнес, тренажеры     210518\n",
       "Скандинавская ходьба  182593\n",
       "Спортивные игры       153462"
      ]
     },
     "execution_count": 22,
     "metadata": {},
     "output_type": "execute_result"
    }
   ],
   "source": [
    "# Офлайн программы по популярности\n",
    "attend.query('online == \"Нет\"').groupby('type2').agg({'type3':'count'})\\\n",
    "    .sort_values(by=['type3'], ascending=False).head()"
   ]
  },
  {
   "cell_type": "code",
   "execution_count": 23,
   "id": "65a63efb",
   "metadata": {},
   "outputs": [
    {
     "data": {
      "text/plain": [
       "Timedelta('333 days 00:00:00')"
      ]
     },
     "execution_count": 23,
     "metadata": {},
     "output_type": "execute_result"
    }
   ],
   "source": [
    "attend['datezan'] = attend['datezan'].astype(\"datetime64[ns]\") #Дату преобразовал в формат даты\n",
    "#Смотрим за какой отрезок времени наш датасет - 333 дня - 1 год\n",
    "attend['datezan'].max() - attend['datezan'].min()"
   ]
  },
  {
   "cell_type": "code",
   "execution_count": 24,
   "id": "8368ec1f",
   "metadata": {},
   "outputs": [
    {
     "data": {
      "text/html": [
       "<div>\n",
       "<style scoped>\n",
       "    .dataframe tbody tr th:only-of-type {\n",
       "        vertical-align: middle;\n",
       "    }\n",
       "\n",
       "    .dataframe tbody tr th {\n",
       "        vertical-align: top;\n",
       "    }\n",
       "\n",
       "    .dataframe thead th {\n",
       "        text-align: right;\n",
       "    }\n",
       "</style>\n",
       "<table border=\"1\" class=\"dataframe\">\n",
       "  <thead>\n",
       "    <tr style=\"text-align: right;\">\n",
       "      <th></th>\n",
       "      <th>numgroup</th>\n",
       "      <th>type1</th>\n",
       "      <th>type2</th>\n",
       "      <th>type3</th>\n",
       "      <th>address</th>\n",
       "      <th>okrug</th>\n",
       "      <th>region</th>\n",
       "      <th>active_schedule</th>\n",
       "      <th>end_schedule</th>\n",
       "      <th>plan_schedule</th>\n",
       "    </tr>\n",
       "  </thead>\n",
       "  <tbody>\n",
       "    <tr>\n",
       "      <th>0</th>\n",
       "      <td>801357270</td>\n",
       "      <td>Физическая активность</td>\n",
       "      <td>ОФП</td>\n",
       "      <td>ОФП</td>\n",
       "      <td>город Москва, Саратовская улица, дом 16, корпус 2</td>\n",
       "      <td>Юго-Восточный административный округ</td>\n",
       "      <td>муниципальный округ Текстильщики</td>\n",
       "      <td>NaN</td>\n",
       "      <td>c 01.01.2023 по 31.03.2023, Пн., Ср. 19:10-20:...</td>\n",
       "      <td>NaN</td>\n",
       "    </tr>\n",
       "    <tr>\n",
       "      <th>1</th>\n",
       "      <td>801356857</td>\n",
       "      <td>Физическая активность</td>\n",
       "      <td>ОФП</td>\n",
       "      <td>ОФП</td>\n",
       "      <td>город Москва, Подольская улица, дом 5</td>\n",
       "      <td>Юго-Восточный административный округ</td>\n",
       "      <td>муниципальный округ Марьино</td>\n",
       "      <td>NaN</td>\n",
       "      <td>c 09.01.2023 по 31.03.2023, Вт., Чт. 10:00-11:...</td>\n",
       "      <td>NaN</td>\n",
       "    </tr>\n",
       "    <tr>\n",
       "      <th>2</th>\n",
       "      <td>801351684</td>\n",
       "      <td>Физическая активность</td>\n",
       "      <td>ОФП</td>\n",
       "      <td>ОФП</td>\n",
       "      <td>г. Москва, Базовская улица, дом 15, строение 1...</td>\n",
       "      <td>Северный административный округ, Северный адми...</td>\n",
       "      <td>муниципальный округ Западное Дегунино, муницип...</td>\n",
       "      <td>NaN</td>\n",
       "      <td>c 09.01.2023 по 31.03.2023, Вт., Чт. 19:00-20:...</td>\n",
       "      <td>NaN</td>\n",
       "    </tr>\n",
       "    <tr>\n",
       "      <th>3</th>\n",
       "      <td>801353683</td>\n",
       "      <td>Физическая активность</td>\n",
       "      <td>ОФП</td>\n",
       "      <td>ОФП</td>\n",
       "      <td>город Москва, улица Обручева, дом 28А, город М...</td>\n",
       "      <td>Юго-Западный административный округ, Юго-Запад...</td>\n",
       "      <td>муниципальный округ Обручевский, муниципальный...</td>\n",
       "      <td>NaN</td>\n",
       "      <td>c 09.01.2023 по 31.03.2023, Пн., Ср. 13:30-14:...</td>\n",
       "      <td>NaN</td>\n",
       "    </tr>\n",
       "    <tr>\n",
       "      <th>4</th>\n",
       "      <td>801352164</td>\n",
       "      <td>Физическая активность</td>\n",
       "      <td>ОФП</td>\n",
       "      <td>ОФП</td>\n",
       "      <td>город Москва, Воронцовский парк, дом 3, город ...</td>\n",
       "      <td>Юго-Западный административный округ, Юго-Запад...</td>\n",
       "      <td>муниципальный округ Обручевский, муниципальный...</td>\n",
       "      <td>NaN</td>\n",
       "      <td>c 10.01.2023 по 28.02.2023, Вт., Пт. 12:00-13:...</td>\n",
       "      <td>NaN</td>\n",
       "    </tr>\n",
       "  </tbody>\n",
       "</table>\n",
       "</div>"
      ],
      "text/plain": [
       "    numgroup                  type1 type2 type3  \\\n",
       "0  801357270  Физическая активность   ОФП   ОФП   \n",
       "1  801356857  Физическая активность   ОФП   ОФП   \n",
       "2  801351684  Физическая активность   ОФП   ОФП   \n",
       "3  801353683  Физическая активность   ОФП   ОФП   \n",
       "4  801352164  Физическая активность   ОФП   ОФП   \n",
       "\n",
       "                                             address  \\\n",
       "0  город Москва, Саратовская улица, дом 16, корпус 2   \n",
       "1              город Москва, Подольская улица, дом 5   \n",
       "2  г. Москва, Базовская улица, дом 15, строение 1...   \n",
       "3  город Москва, улица Обручева, дом 28А, город М...   \n",
       "4  город Москва, Воронцовский парк, дом 3, город ...   \n",
       "\n",
       "                                               okrug  \\\n",
       "0               Юго-Восточный административный округ   \n",
       "1               Юго-Восточный административный округ   \n",
       "2  Северный административный округ, Северный адми...   \n",
       "3  Юго-Западный административный округ, Юго-Запад...   \n",
       "4  Юго-Западный административный округ, Юго-Запад...   \n",
       "\n",
       "                                              region active_schedule  \\\n",
       "0                   муниципальный округ Текстильщики             NaN   \n",
       "1                        муниципальный округ Марьино             NaN   \n",
       "2  муниципальный округ Западное Дегунино, муницип...             NaN   \n",
       "3  муниципальный округ Обручевский, муниципальный...             NaN   \n",
       "4  муниципальный округ Обручевский, муниципальный...             NaN   \n",
       "\n",
       "                                        end_schedule plan_schedule  \n",
       "0  c 01.01.2023 по 31.03.2023, Пн., Ср. 19:10-20:...           NaN  \n",
       "1  c 09.01.2023 по 31.03.2023, Вт., Чт. 10:00-11:...           NaN  \n",
       "2  c 09.01.2023 по 31.03.2023, Вт., Чт. 19:00-20:...           NaN  \n",
       "3  c 09.01.2023 по 31.03.2023, Пн., Ср. 13:30-14:...           NaN  \n",
       "4  c 10.01.2023 по 28.02.2023, Вт., Пт. 12:00-13:...           NaN  "
      ]
     },
     "execution_count": 24,
     "metadata": {},
     "output_type": "execute_result"
    }
   ],
   "source": [
    "groups.head()"
   ]
  },
  {
   "cell_type": "code",
   "execution_count": 25,
   "id": "ba075293",
   "metadata": {},
   "outputs": [
    {
     "name": "stdout",
     "output_type": "stream",
     "text": [
      "<class 'pandas.core.frame.DataFrame'>\n",
      "RangeIndex: 27003 entries, 0 to 27002\n",
      "Data columns (total 10 columns):\n",
      " #   Column           Non-Null Count  Dtype \n",
      "---  ------           --------------  ----- \n",
      " 0   numgroup         27003 non-null  int64 \n",
      " 1   type1            27003 non-null  object\n",
      " 2   type2            27003 non-null  object\n",
      " 3   type3            27003 non-null  object\n",
      " 4   address          27003 non-null  object\n",
      " 5   okrug            23021 non-null  object\n",
      " 6   region           23021 non-null  object\n",
      " 7   active_schedule  6522 non-null   object\n",
      " 8   end_schedule     21643 non-null  object\n",
      " 9   plan_schedule    67 non-null     object\n",
      "dtypes: int64(1), object(9)\n",
      "memory usage: 2.1+ MB\n"
     ]
    }
   ],
   "source": [
    "groups.info()"
   ]
  },
  {
   "cell_type": "code",
   "execution_count": 26,
   "id": "f9931a87",
   "metadata": {},
   "outputs": [
    {
     "data": {
      "text/plain": [
       "numgroup               0\n",
       "type1                  0\n",
       "type2                  0\n",
       "type3                  0\n",
       "address                0\n",
       "okrug               3982\n",
       "region              3982\n",
       "active_schedule    20481\n",
       "end_schedule        5360\n",
       "plan_schedule      26936\n",
       "dtype: int64"
      ]
     },
     "execution_count": 26,
     "metadata": {},
     "output_type": "execute_result"
    }
   ],
   "source": [
    "#Смотрим пропущенные значения\n",
    "groups.isnull().sum()"
   ]
  },
  {
   "cell_type": "code",
   "execution_count": 27,
   "id": "4dcddaa2",
   "metadata": {},
   "outputs": [
    {
     "data": {
      "text/html": [
       "<div>\n",
       "<style scoped>\n",
       "    .dataframe tbody tr th:only-of-type {\n",
       "        vertical-align: middle;\n",
       "    }\n",
       "\n",
       "    .dataframe tbody tr th {\n",
       "        vertical-align: top;\n",
       "    }\n",
       "\n",
       "    .dataframe thead th {\n",
       "        text-align: right;\n",
       "    }\n",
       "</style>\n",
       "<table border=\"1\" class=\"dataframe\">\n",
       "  <thead>\n",
       "    <tr style=\"text-align: right;\">\n",
       "      <th></th>\n",
       "      <th>type1</th>\n",
       "      <th>type2</th>\n",
       "      <th>type3</th>\n",
       "      <th>address</th>\n",
       "      <th>okrug</th>\n",
       "      <th>region</th>\n",
       "      <th>active_schedule</th>\n",
       "      <th>end_schedule</th>\n",
       "      <th>plan_schedule</th>\n",
       "    </tr>\n",
       "  </thead>\n",
       "  <tbody>\n",
       "    <tr>\n",
       "      <th>count</th>\n",
       "      <td>27003</td>\n",
       "      <td>27003</td>\n",
       "      <td>27003</td>\n",
       "      <td>27003</td>\n",
       "      <td>23021</td>\n",
       "      <td>23021</td>\n",
       "      <td>6522</td>\n",
       "      <td>21643</td>\n",
       "      <td>67</td>\n",
       "    </tr>\n",
       "    <tr>\n",
       "      <th>unique</th>\n",
       "      <td>12</td>\n",
       "      <td>81</td>\n",
       "      <td>456</td>\n",
       "      <td>4821</td>\n",
       "      <td>139</td>\n",
       "      <td>685</td>\n",
       "      <td>4458</td>\n",
       "      <td>19959</td>\n",
       "      <td>62</td>\n",
       "    </tr>\n",
       "    <tr>\n",
       "      <th>top</th>\n",
       "      <td>Образование</td>\n",
       "      <td>Гимнастика</td>\n",
       "      <td>Осваиваем мобильные устройства</td>\n",
       "      <td>г. Москва, поселение Сосенское, деревня Зименк...</td>\n",
       "      <td>Восточный административный округ</td>\n",
       "      <td>муниципальный округ Ясенево</td>\n",
       "      <td>c 09.01.2023 по 31.12.2023, Пн., Ср. 09:00-10:...</td>\n",
       "      <td>c 11.01.2022 по 31.12.2022, Вт., Чт. 09:00-10:...</td>\n",
       "      <td>c 29.04.2023 по 30.04.2023, Вс. 11:00-12:00, б...</td>\n",
       "    </tr>\n",
       "    <tr>\n",
       "      <th>freq</th>\n",
       "      <td>9502</td>\n",
       "      <td>3048</td>\n",
       "      <td>890</td>\n",
       "      <td>412</td>\n",
       "      <td>2915</td>\n",
       "      <td>449</td>\n",
       "      <td>35</td>\n",
       "      <td>18</td>\n",
       "      <td>3</td>\n",
       "    </tr>\n",
       "  </tbody>\n",
       "</table>\n",
       "</div>"
      ],
      "text/plain": [
       "              type1       type2                           type3  \\\n",
       "count         27003       27003                           27003   \n",
       "unique           12          81                             456   \n",
       "top     Образование  Гимнастика  Осваиваем мобильные устройства   \n",
       "freq           9502        3048                             890   \n",
       "\n",
       "                                                  address  \\\n",
       "count                                               27003   \n",
       "unique                                               4821   \n",
       "top     г. Москва, поселение Сосенское, деревня Зименк...   \n",
       "freq                                                  412   \n",
       "\n",
       "                                   okrug                       region  \\\n",
       "count                              23021                        23021   \n",
       "unique                               139                          685   \n",
       "top     Восточный административный округ  муниципальный округ Ясенево   \n",
       "freq                                2915                          449   \n",
       "\n",
       "                                          active_schedule  \\\n",
       "count                                                6522   \n",
       "unique                                               4458   \n",
       "top     c 09.01.2023 по 31.12.2023, Пн., Ср. 09:00-10:...   \n",
       "freq                                                   35   \n",
       "\n",
       "                                             end_schedule  \\\n",
       "count                                               21643   \n",
       "unique                                              19959   \n",
       "top     c 11.01.2022 по 31.12.2022, Вт., Чт. 09:00-10:...   \n",
       "freq                                                   18   \n",
       "\n",
       "                                            plan_schedule  \n",
       "count                                                  67  \n",
       "unique                                                 62  \n",
       "top     c 29.04.2023 по 30.04.2023, Вс. 11:00-12:00, б...  \n",
       "freq                                                    3  "
      ]
     },
     "execution_count": 27,
     "metadata": {},
     "output_type": "execute_result"
    }
   ],
   "source": [
    "# Смотрим общую статистику\n",
    "groups.describe(include='object')"
   ]
  },
  {
   "cell_type": "code",
   "execution_count": 28,
   "id": "917f82e5",
   "metadata": {},
   "outputs": [
    {
     "data": {
      "text/plain": [
       "True     24535\n",
       "False     2468\n",
       "Name: numgroup, dtype: int64"
      ]
     },
     "execution_count": 28,
     "metadata": {},
     "output_type": "execute_result"
    }
   ],
   "source": [
    "# Сопоставил номера групп из groups c attend на предмет наличия в attend\n",
    "groups['numgroup'].isin(attend['numgroup']).value_counts()"
   ]
  },
  {
   "cell_type": "code",
   "execution_count": 29,
   "id": "39751cdf",
   "metadata": {},
   "outputs": [
    {
     "data": {
      "text/plain": [
       "True     50906\n",
       "False     1428\n",
       "Name: numclient, dtype: int64"
      ]
     },
     "execution_count": 29,
     "metadata": {},
     "output_type": "execute_result"
    }
   ],
   "source": [
    "# Сопоставил номера пользователей из users c attend на предмет наличия в attend\n",
    "users['numclient'].isin(attend['numclient']).value_counts()"
   ]
  },
  {
   "attachments": {},
   "cell_type": "markdown",
   "id": "1c564d5f",
   "metadata": {},
   "source": [
    "Объединяем датасеты"
   ]
  },
  {
   "cell_type": "code",
   "execution_count": 30,
   "id": "fcc79e3f",
   "metadata": {},
   "outputs": [
    {
     "data": {
      "text/html": [
       "<div>\n",
       "<style scoped>\n",
       "    .dataframe tbody tr th:only-of-type {\n",
       "        vertical-align: middle;\n",
       "    }\n",
       "\n",
       "    .dataframe tbody tr th {\n",
       "        vertical-align: top;\n",
       "    }\n",
       "\n",
       "    .dataframe thead th {\n",
       "        text-align: right;\n",
       "    }\n",
       "</style>\n",
       "<table border=\"1\" class=\"dataframe\">\n",
       "  <thead>\n",
       "    <tr style=\"text-align: right;\">\n",
       "      <th></th>\n",
       "      <th>numzan</th>\n",
       "      <th>numgroup</th>\n",
       "      <th>numclient</th>\n",
       "      <th>type1</th>\n",
       "      <th>type2</th>\n",
       "      <th>type3</th>\n",
       "      <th>online</th>\n",
       "      <th>sex</th>\n",
       "      <th>datebirth</th>\n",
       "      <th>age</th>\n",
       "      <th>datereg</th>\n",
       "      <th>datezan</th>\n",
       "    </tr>\n",
       "  </thead>\n",
       "  <tbody>\n",
       "    <tr>\n",
       "      <th>0</th>\n",
       "      <td>401346550</td>\n",
       "      <td>801346550</td>\n",
       "      <td>101352023</td>\n",
       "      <td>Физическая активность</td>\n",
       "      <td>ОНЛАЙН Гимнастика</td>\n",
       "      <td>ОНЛАЙН Цигун</td>\n",
       "      <td>Да</td>\n",
       "      <td>Женщина</td>\n",
       "      <td>1959-01-18</td>\n",
       "      <td>64</td>\n",
       "      <td>2018-03-20 14:54:07</td>\n",
       "      <td>2022-08-01</td>\n",
       "    </tr>\n",
       "    <tr>\n",
       "      <th>1</th>\n",
       "      <td>401348283</td>\n",
       "      <td>801346550</td>\n",
       "      <td>101352023</td>\n",
       "      <td>Физическая активность</td>\n",
       "      <td>ОНЛАЙН Гимнастика</td>\n",
       "      <td>ОНЛАЙН Цигун</td>\n",
       "      <td>Да</td>\n",
       "      <td>Женщина</td>\n",
       "      <td>1959-01-18</td>\n",
       "      <td>64</td>\n",
       "      <td>2018-03-20 14:54:07</td>\n",
       "      <td>2022-08-03</td>\n",
       "    </tr>\n",
       "    <tr>\n",
       "      <th>2</th>\n",
       "      <td>401351970</td>\n",
       "      <td>801346550</td>\n",
       "      <td>101352023</td>\n",
       "      <td>Физическая активность</td>\n",
       "      <td>ОНЛАЙН Гимнастика</td>\n",
       "      <td>ОНЛАЙН Цигун</td>\n",
       "      <td>Да</td>\n",
       "      <td>Женщина</td>\n",
       "      <td>1959-01-18</td>\n",
       "      <td>64</td>\n",
       "      <td>2018-03-20 14:54:07</td>\n",
       "      <td>2022-08-08</td>\n",
       "    </tr>\n",
       "    <tr>\n",
       "      <th>3</th>\n",
       "      <td>401355095</td>\n",
       "      <td>801346550</td>\n",
       "      <td>101352023</td>\n",
       "      <td>Физическая активность</td>\n",
       "      <td>ОНЛАЙН Гимнастика</td>\n",
       "      <td>ОНЛАЙН Цигун</td>\n",
       "      <td>Да</td>\n",
       "      <td>Женщина</td>\n",
       "      <td>1959-01-18</td>\n",
       "      <td>64</td>\n",
       "      <td>2018-03-20 14:54:07</td>\n",
       "      <td>2022-08-10</td>\n",
       "    </tr>\n",
       "    <tr>\n",
       "      <th>4</th>\n",
       "      <td>401365374</td>\n",
       "      <td>801346550</td>\n",
       "      <td>101352023</td>\n",
       "      <td>Физическая активность</td>\n",
       "      <td>ОНЛАЙН Гимнастика</td>\n",
       "      <td>ОНЛАЙН Цигун</td>\n",
       "      <td>Да</td>\n",
       "      <td>Женщина</td>\n",
       "      <td>1959-01-18</td>\n",
       "      <td>64</td>\n",
       "      <td>2018-03-20 14:54:07</td>\n",
       "      <td>2022-08-22</td>\n",
       "    </tr>\n",
       "  </tbody>\n",
       "</table>\n",
       "</div>"
      ],
      "text/plain": [
       "      numzan   numgroup  numclient                  type1              type2  \\\n",
       "0  401346550  801346550  101352023  Физическая активность  ОНЛАЙН Гимнастика   \n",
       "1  401348283  801346550  101352023  Физическая активность  ОНЛАЙН Гимнастика   \n",
       "2  401351970  801346550  101352023  Физическая активность  ОНЛАЙН Гимнастика   \n",
       "3  401355095  801346550  101352023  Физическая активность  ОНЛАЙН Гимнастика   \n",
       "4  401365374  801346550  101352023  Физическая активность  ОНЛАЙН Гимнастика   \n",
       "\n",
       "          type3 online      sex  datebirth  age             datereg    datezan  \n",
       "0  ОНЛАЙН Цигун     Да  Женщина 1959-01-18   64 2018-03-20 14:54:07 2022-08-01  \n",
       "1  ОНЛАЙН Цигун     Да  Женщина 1959-01-18   64 2018-03-20 14:54:07 2022-08-03  \n",
       "2  ОНЛАЙН Цигун     Да  Женщина 1959-01-18   64 2018-03-20 14:54:07 2022-08-08  \n",
       "3  ОНЛАЙН Цигун     Да  Женщина 1959-01-18   64 2018-03-20 14:54:07 2022-08-10  \n",
       "4  ОНЛАЙН Цигун     Да  Женщина 1959-01-18   64 2018-03-20 14:54:07 2022-08-22  "
      ]
     },
     "execution_count": 30,
     "metadata": {},
     "output_type": "execute_result"
    }
   ],
   "source": [
    "attend = attend.loc[:,['numzan', 'numgroup', 'numclient', 'type2', 'type3', 'online', 'datezan']]\n",
    "groups = groups.loc[:,['numgroup', 'type1', 'address', 'okrug', 'region']]\n",
    " ## чтобы не было пустых, сохраним в датафрейм, только те группы, которые есть в attend\n",
    "plan = groups.loc[groups['numgroup'].isin(attend['numgroup'])]\n",
    " ## присоеденим группы к таблице attend                           \n",
    "df = attend.merge(plan, how='outer', on='numgroup')\n",
    "df = df.loc[:,['numzan', 'numgroup', 'numclient', 'type1', 'type2', 'type3', 'online', 'address', 'okrug', 'region', 'datezan']]\n",
    " ## чтобы не было пустых, сохраним в датафрейм, только тех пользователей, которые есть в attend\n",
    "use = users.loc[users['numclient'].isin(df['numclient'])]\n",
    " ## присоеденим группы к таблице attend, которую ранее объединили с группами \n",
    "plan = df.merge(use, how='outer', on='numclient')\n",
    " ## поменяем тип данных у оставшихся полей с датами\n",
    "plan['datebirth'] = plan['datebirth'].astype('datetime64[ns]')\n",
    "plan['datereg'] = plan['datereg'].astype('datetime64[ns]')\n",
    " ## добавим поле расчета возраста пользователя по состоянию на сегодня\n",
    "plan['age'] = plan['datebirth'].apply(lambda x: today.year - x.year - ((today.month, today.day) < (x.month, x.day)))\n",
    " ## отберем поля для финального датасета\n",
    "plan = plan.loc[:,['numzan', 'numgroup', 'numclient', 'type1', 'type2', 'type3', 'online', 'sex', 'datebirth', 'age', 'datereg', 'datezan']] #'datereg', 'datezan', 'okrug', 'region'\n",
    "plan.head()"
   ]
  },
  {
   "cell_type": "code",
   "execution_count": 31,
   "id": "e0f939b4",
   "metadata": {},
   "outputs": [
    {
     "data": {
      "text/html": [
       "<div>\n",
       "<style scoped>\n",
       "    .dataframe tbody tr th:only-of-type {\n",
       "        vertical-align: middle;\n",
       "    }\n",
       "\n",
       "    .dataframe tbody tr th {\n",
       "        vertical-align: top;\n",
       "    }\n",
       "\n",
       "    .dataframe thead th {\n",
       "        text-align: right;\n",
       "    }\n",
       "</style>\n",
       "<table border=\"1\" class=\"dataframe\">\n",
       "  <thead>\n",
       "    <tr style=\"text-align: right;\">\n",
       "      <th></th>\n",
       "      <th>type1</th>\n",
       "      <th>type2</th>\n",
       "      <th>type3</th>\n",
       "      <th>online</th>\n",
       "      <th>sex</th>\n",
       "    </tr>\n",
       "  </thead>\n",
       "  <tbody>\n",
       "    <tr>\n",
       "      <th>count</th>\n",
       "      <td>5901274</td>\n",
       "      <td>5901274</td>\n",
       "      <td>5901274</td>\n",
       "      <td>5901274</td>\n",
       "      <td>5901274</td>\n",
       "    </tr>\n",
       "    <tr>\n",
       "      <th>unique</th>\n",
       "      <td>12</td>\n",
       "      <td>81</td>\n",
       "      <td>453</td>\n",
       "      <td>2</td>\n",
       "      <td>2</td>\n",
       "    </tr>\n",
       "    <tr>\n",
       "      <th>top</th>\n",
       "      <td>Образование</td>\n",
       "      <td>ОНЛАЙН Гимнастика</td>\n",
       "      <td>ОНЛАЙН Мастер-класс по уходу за кожей в зрелом...</td>\n",
       "      <td>Да</td>\n",
       "      <td>Женщина</td>\n",
       "    </tr>\n",
       "    <tr>\n",
       "      <th>freq</th>\n",
       "      <td>2080278</td>\n",
       "      <td>819496</td>\n",
       "      <td>413095</td>\n",
       "      <td>3816929</td>\n",
       "      <td>5557997</td>\n",
       "    </tr>\n",
       "  </tbody>\n",
       "</table>\n",
       "</div>"
      ],
      "text/plain": [
       "              type1              type2  \\\n",
       "count       5901274            5901274   \n",
       "unique           12                 81   \n",
       "top     Образование  ОНЛАЙН Гимнастика   \n",
       "freq        2080278             819496   \n",
       "\n",
       "                                                    type3   online      sex  \n",
       "count                                             5901274  5901274  5901274  \n",
       "unique                                                453        2        2  \n",
       "top     ОНЛАЙН Мастер-класс по уходу за кожей в зрелом...       Да  Женщина  \n",
       "freq                                               413095  3816929  5557997  "
      ]
     },
     "execution_count": 31,
     "metadata": {},
     "output_type": "execute_result"
    }
   ],
   "source": [
    "plan.describe(include='object')"
   ]
  },
  {
   "cell_type": "code",
   "execution_count": 32,
   "id": "01cb3c36",
   "metadata": {},
   "outputs": [
    {
     "data": {
      "text/html": [
       "<div>\n",
       "<style scoped>\n",
       "    .dataframe tbody tr th:only-of-type {\n",
       "        vertical-align: middle;\n",
       "    }\n",
       "\n",
       "    .dataframe tbody tr th {\n",
       "        vertical-align: top;\n",
       "    }\n",
       "\n",
       "    .dataframe thead th {\n",
       "        text-align: right;\n",
       "    }\n",
       "</style>\n",
       "<table border=\"1\" class=\"dataframe\">\n",
       "  <thead>\n",
       "    <tr style=\"text-align: right;\">\n",
       "      <th></th>\n",
       "      <th>numclient</th>\n",
       "    </tr>\n",
       "    <tr>\n",
       "      <th>sex</th>\n",
       "      <th></th>\n",
       "    </tr>\n",
       "  </thead>\n",
       "  <tbody>\n",
       "    <tr>\n",
       "      <th>Женщина</th>\n",
       "      <td>45971</td>\n",
       "    </tr>\n",
       "    <tr>\n",
       "      <th>Мужчина</th>\n",
       "      <td>4935</td>\n",
       "    </tr>\n",
       "  </tbody>\n",
       "</table>\n",
       "</div>"
      ],
      "text/plain": [
       "         numclient\n",
       "sex               \n",
       "Женщина      45971\n",
       "Мужчина       4935"
      ]
     },
     "execution_count": 32,
     "metadata": {},
     "output_type": "execute_result"
    }
   ],
   "source": [
    "# Количество мужчин и женщин\n",
    "plan.groupby('sex').agg({'numclient':'nunique'})\\\n",
    "    .sort_values(by=['numclient'], ascending=False).head()"
   ]
  },
  {
   "cell_type": "code",
   "execution_count": 33,
   "id": "6e0c6c46",
   "metadata": {},
   "outputs": [
    {
     "name": "stdout",
     "output_type": "stream",
     "text": [
      "Мужчин: 9.69%\n",
      "Женщин: 90.31%\n"
     ]
    }
   ],
   "source": [
    "print(f'''Мужчин: {100*(4935/50906):.2f}%\n",
    "Женщин: {100*(45971/50906):.2f}%''')"
   ]
  },
  {
   "cell_type": "code",
   "execution_count": 34,
   "id": "022b91c6",
   "metadata": {},
   "outputs": [
    {
     "data": {
      "text/html": [
       "<div>\n",
       "<style scoped>\n",
       "    .dataframe tbody tr th:only-of-type {\n",
       "        vertical-align: middle;\n",
       "    }\n",
       "\n",
       "    .dataframe tbody tr th {\n",
       "        vertical-align: top;\n",
       "    }\n",
       "\n",
       "    .dataframe thead th {\n",
       "        text-align: right;\n",
       "    }\n",
       "</style>\n",
       "<table border=\"1\" class=\"dataframe\">\n",
       "  <thead>\n",
       "    <tr style=\"text-align: right;\">\n",
       "      <th></th>\n",
       "      <th></th>\n",
       "      <th>numclient</th>\n",
       "    </tr>\n",
       "    <tr>\n",
       "      <th>online</th>\n",
       "      <th>sex</th>\n",
       "      <th></th>\n",
       "    </tr>\n",
       "  </thead>\n",
       "  <tbody>\n",
       "    <tr>\n",
       "      <th>Нет</th>\n",
       "      <th>Женщина</th>\n",
       "      <td>35226</td>\n",
       "    </tr>\n",
       "    <tr>\n",
       "      <th>Да</th>\n",
       "      <th>Женщина</th>\n",
       "      <td>26924</td>\n",
       "    </tr>\n",
       "    <tr>\n",
       "      <th>Нет</th>\n",
       "      <th>Мужчина</th>\n",
       "      <td>4183</td>\n",
       "    </tr>\n",
       "    <tr>\n",
       "      <th>Да</th>\n",
       "      <th>Мужчина</th>\n",
       "      <td>1539</td>\n",
       "    </tr>\n",
       "  </tbody>\n",
       "</table>\n",
       "</div>"
      ],
      "text/plain": [
       "                numclient\n",
       "online sex               \n",
       "Нет    Женщина      35226\n",
       "Да     Женщина      26924\n",
       "Нет    Мужчина       4183\n",
       "Да     Мужчина       1539"
      ]
     },
     "execution_count": 34,
     "metadata": {},
     "output_type": "execute_result"
    }
   ],
   "source": [
    "plan.groupby(['online', 'sex']).agg({'numclient':'nunique'})\\\n",
    "    .sort_values(by=['numclient'], ascending=False).head()"
   ]
  },
  {
   "cell_type": "code",
   "execution_count": 35,
   "id": "af71014a",
   "metadata": {},
   "outputs": [
    {
     "data": {
      "text/html": [
       "<div>\n",
       "<style scoped>\n",
       "    .dataframe tbody tr th:only-of-type {\n",
       "        vertical-align: middle;\n",
       "    }\n",
       "\n",
       "    .dataframe tbody tr th {\n",
       "        vertical-align: top;\n",
       "    }\n",
       "\n",
       "    .dataframe thead th {\n",
       "        text-align: right;\n",
       "    }\n",
       "</style>\n",
       "<table border=\"1\" class=\"dataframe\">\n",
       "  <thead>\n",
       "    <tr style=\"text-align: right;\">\n",
       "      <th></th>\n",
       "      <th>min_age</th>\n",
       "      <th>max_age</th>\n",
       "      <th>avg_age</th>\n",
       "    </tr>\n",
       "    <tr>\n",
       "      <th>sex</th>\n",
       "      <th></th>\n",
       "      <th></th>\n",
       "      <th></th>\n",
       "    </tr>\n",
       "  </thead>\n",
       "  <tbody>\n",
       "    <tr>\n",
       "      <th>Женщина</th>\n",
       "      <td>42</td>\n",
       "      <td>96</td>\n",
       "      <td>67.507075</td>\n",
       "    </tr>\n",
       "    <tr>\n",
       "      <th>Мужчина</th>\n",
       "      <td>42</td>\n",
       "      <td>96</td>\n",
       "      <td>70.052651</td>\n",
       "    </tr>\n",
       "  </tbody>\n",
       "</table>\n",
       "</div>"
      ],
      "text/plain": [
       "         min_age  max_age    avg_age\n",
       "sex                                 \n",
       "Женщина       42       96  67.507075\n",
       "Мужчина       42       96  70.052651"
      ]
     },
     "execution_count": 35,
     "metadata": {},
     "output_type": "execute_result"
    }
   ],
   "source": [
    "# Возрасты по полу\n",
    "plan.groupby(['sex']).agg(\n",
    "    min_age=('age','min'),\n",
    "    max_age=('age','max'),\n",
    "    avg_age=('age', 'mean'),\n",
    ")"
   ]
  },
  {
   "cell_type": "code",
   "execution_count": 36,
   "id": "e474664c",
   "metadata": {},
   "outputs": [
    {
     "name": "stdout",
     "output_type": "stream",
     "text": [
      "Количество женщин моложе 55 лет: 496 человек\n"
     ]
    }
   ],
   "source": [
    "# Посчитаем количество женщин моложе 55 лет\n",
    "age_fem_young = plan.loc[((plan['age'] <= 55) & (plan['sex'] == 'Женщина'))]\n",
    "print(f'Количество женщин моложе 55 лет: {age_fem_young.numclient.nunique()} человек')"
   ]
  },
  {
   "cell_type": "code",
   "execution_count": 37,
   "id": "644e0802",
   "metadata": {},
   "outputs": [
    {
     "name": "stdout",
     "output_type": "stream",
     "text": [
      "Количество мужчин моложе 60 лет: 214 человек\n"
     ]
    }
   ],
   "source": [
    "# Количество мужчин моложе 60 лет\n",
    "age_mal_young = plan.loc[((plan['age'] <= 60) & (plan['sex'] == 'Мужчина'))]\n",
    "print(f'Количество мужчин моложе 60 лет: {age_mal_young.numclient.nunique()} человек')"
   ]
  },
  {
   "cell_type": "code",
   "execution_count": 38,
   "id": "73624931",
   "metadata": {},
   "outputs": [
    {
     "data": {
      "text/html": [
       "<div>\n",
       "<style scoped>\n",
       "    .dataframe tbody tr th:only-of-type {\n",
       "        vertical-align: middle;\n",
       "    }\n",
       "\n",
       "    .dataframe tbody tr th {\n",
       "        vertical-align: top;\n",
       "    }\n",
       "\n",
       "    .dataframe thead th {\n",
       "        text-align: right;\n",
       "    }\n",
       "</style>\n",
       "<table border=\"1\" class=\"dataframe\">\n",
       "  <thead>\n",
       "    <tr style=\"text-align: right;\">\n",
       "      <th></th>\n",
       "      <th></th>\n",
       "      <th>numclient</th>\n",
       "    </tr>\n",
       "    <tr>\n",
       "      <th>datezan</th>\n",
       "      <th>sex</th>\n",
       "      <th></th>\n",
       "    </tr>\n",
       "  </thead>\n",
       "  <tbody>\n",
       "    <tr>\n",
       "      <th rowspan=\"2\" valign=\"top\">2022-04-30</th>\n",
       "      <th>Женщина</th>\n",
       "      <td>28923</td>\n",
       "    </tr>\n",
       "    <tr>\n",
       "      <th>Мужчина</th>\n",
       "      <td>2344</td>\n",
       "    </tr>\n",
       "    <tr>\n",
       "      <th rowspan=\"2\" valign=\"top\">2022-05-31</th>\n",
       "      <th>Женщина</th>\n",
       "      <td>28517</td>\n",
       "    </tr>\n",
       "    <tr>\n",
       "      <th>Мужчина</th>\n",
       "      <td>2367</td>\n",
       "    </tr>\n",
       "    <tr>\n",
       "      <th rowspan=\"2\" valign=\"top\">2022-06-30</th>\n",
       "      <th>Женщина</th>\n",
       "      <td>27353</td>\n",
       "    </tr>\n",
       "    <tr>\n",
       "      <th>Мужчина</th>\n",
       "      <td>2232</td>\n",
       "    </tr>\n",
       "    <tr>\n",
       "      <th rowspan=\"2\" valign=\"top\">2022-07-31</th>\n",
       "      <th>Женщина</th>\n",
       "      <td>25365</td>\n",
       "    </tr>\n",
       "    <tr>\n",
       "      <th>Мужчина</th>\n",
       "      <td>1964</td>\n",
       "    </tr>\n",
       "    <tr>\n",
       "      <th rowspan=\"2\" valign=\"top\">2022-08-31</th>\n",
       "      <th>Женщина</th>\n",
       "      <td>26186</td>\n",
       "    </tr>\n",
       "    <tr>\n",
       "      <th>Мужчина</th>\n",
       "      <td>1976</td>\n",
       "    </tr>\n",
       "    <tr>\n",
       "      <th rowspan=\"2\" valign=\"top\">2022-09-30</th>\n",
       "      <th>Женщина</th>\n",
       "      <td>32556</td>\n",
       "    </tr>\n",
       "    <tr>\n",
       "      <th>Мужчина</th>\n",
       "      <td>2799</td>\n",
       "    </tr>\n",
       "    <tr>\n",
       "      <th rowspan=\"2\" valign=\"top\">2022-10-31</th>\n",
       "      <th>Женщина</th>\n",
       "      <td>36560</td>\n",
       "    </tr>\n",
       "    <tr>\n",
       "      <th>Мужчина</th>\n",
       "      <td>3352</td>\n",
       "    </tr>\n",
       "    <tr>\n",
       "      <th rowspan=\"2\" valign=\"top\">2022-11-30</th>\n",
       "      <th>Женщина</th>\n",
       "      <td>39349</td>\n",
       "    </tr>\n",
       "    <tr>\n",
       "      <th>Мужчина</th>\n",
       "      <td>3799</td>\n",
       "    </tr>\n",
       "    <tr>\n",
       "      <th rowspan=\"2\" valign=\"top\">2022-12-31</th>\n",
       "      <th>Женщина</th>\n",
       "      <td>39675</td>\n",
       "    </tr>\n",
       "    <tr>\n",
       "      <th>Мужчина</th>\n",
       "      <td>3919</td>\n",
       "    </tr>\n",
       "    <tr>\n",
       "      <th rowspan=\"2\" valign=\"top\">2023-01-31</th>\n",
       "      <th>Женщина</th>\n",
       "      <td>40759</td>\n",
       "    </tr>\n",
       "    <tr>\n",
       "      <th>Мужчина</th>\n",
       "      <td>4129</td>\n",
       "    </tr>\n",
       "    <tr>\n",
       "      <th rowspan=\"2\" valign=\"top\">2023-02-28</th>\n",
       "      <th>Женщина</th>\n",
       "      <td>41894</td>\n",
       "    </tr>\n",
       "    <tr>\n",
       "      <th>Мужчина</th>\n",
       "      <td>4301</td>\n",
       "    </tr>\n",
       "  </tbody>\n",
       "</table>\n",
       "</div>"
      ],
      "text/plain": [
       "                    numclient\n",
       "datezan    sex               \n",
       "2022-04-30 Женщина      28923\n",
       "           Мужчина       2344\n",
       "2022-05-31 Женщина      28517\n",
       "           Мужчина       2367\n",
       "2022-06-30 Женщина      27353\n",
       "           Мужчина       2232\n",
       "2022-07-31 Женщина      25365\n",
       "           Мужчина       1964\n",
       "2022-08-31 Женщина      26186\n",
       "           Мужчина       1976\n",
       "2022-09-30 Женщина      32556\n",
       "           Мужчина       2799\n",
       "2022-10-31 Женщина      36560\n",
       "           Мужчина       3352\n",
       "2022-11-30 Женщина      39349\n",
       "           Мужчина       3799\n",
       "2022-12-31 Женщина      39675\n",
       "           Мужчина       3919\n",
       "2023-01-31 Женщина      40759\n",
       "           Мужчина       4129\n",
       "2023-02-28 Женщина      41894\n",
       "           Мужчина       4301"
      ]
     },
     "execution_count": 38,
     "metadata": {},
     "output_type": "execute_result"
    }
   ],
   "source": [
    "# Количество регистраций на мероприятия по месяцам\n",
    "plan.groupby([pd.Grouper(freq=\"1M\", key=\"datezan\"), \"sex\"])[[\"numclient\"]].nunique()"
   ]
  },
  {
   "cell_type": "code",
   "execution_count": 39,
   "id": "a43e0b65",
   "metadata": {},
   "outputs": [
    {
     "data": {
      "text/plain": [
       "<Axes: xlabel='datezan'>"
      ]
     },
     "execution_count": 39,
     "metadata": {},
     "output_type": "execute_result"
    },
    {
     "data": {
      "image/png": "[encoded data removed]",
      "text/plain": [
       "<Figure size 640x480 with 1 Axes>"
      ]
     },
     "metadata": {},
     "output_type": "display_data"
    }
   ],
   "source": [
    "# Количество регистраций на мероприятия по месяцам - активность растет\n",
    "plan.groupby([pd.Grouper(freq=\"1M\", key=\"datezan\")])[[\"numclient\"]].nunique().plot(legend=True)"
   ]
  },
  {
   "cell_type": "code",
   "execution_count": 40,
   "id": "6fc4a2e6",
   "metadata": {},
   "outputs": [
    {
     "data": {
      "text/plain": [
       "<Axes: xlabel='datebirth'>"
      ]
     },
     "execution_count": 40,
     "metadata": {},
     "output_type": "execute_result"
    },
    {
     "data": {
      "image/png": "[encoded data removed]",
      "text/plain": [
       "<Figure size 640x480 with 1 Axes>"
      ]
     },
     "metadata": {},
     "output_type": "display_data"
    }
   ],
   "source": [
    "# Участники программы по годам рождения\n",
    "plan.groupby([pd.Grouper(freq=\"5Y\", key=\"datebirth\")])[[\"numclient\"]].nunique().plot(legend=True)"
   ]
  },
  {
   "cell_type": "code",
   "execution_count": 41,
   "id": "efaa8a8f",
   "metadata": {},
   "outputs": [
    {
     "data": {
      "text/plain": [
       "<Axes: xlabel='datezan'>"
      ]
     },
     "execution_count": 41,
     "metadata": {},
     "output_type": "execute_result"
    },
    {
     "data": {
      "image/png": "[encoded data removed]",
      "text/plain": [
       "<Figure size 640x480 with 1 Axes>"
      ]
     },
     "metadata": {},
     "output_type": "display_data"
    }
   ],
   "source": [
    "# Количество занятий - активностей - как меняется в течение года\n",
    "plan.groupby([pd.Grouper(freq=\"1M\", key=\"datezan\")])[[\"numzan\"]].nunique().plot(legend=True)"
   ]
  },
  {
   "cell_type": "code",
   "execution_count": 42,
   "id": "6665b871",
   "metadata": {},
   "outputs": [
    {
     "data": {
      "text/html": [
       "<div>\n",
       "<style scoped>\n",
       "    .dataframe tbody tr th:only-of-type {\n",
       "        vertical-align: middle;\n",
       "    }\n",
       "\n",
       "    .dataframe tbody tr th {\n",
       "        vertical-align: top;\n",
       "    }\n",
       "\n",
       "    .dataframe thead th {\n",
       "        text-align: right;\n",
       "    }\n",
       "</style>\n",
       "<table border=\"1\" class=\"dataframe\">\n",
       "  <thead>\n",
       "    <tr style=\"text-align: right;\">\n",
       "      <th></th>\n",
       "      <th>numzan</th>\n",
       "      <th>numgroup</th>\n",
       "      <th>numclient</th>\n",
       "      <th>type1</th>\n",
       "      <th>type2</th>\n",
       "      <th>type3</th>\n",
       "      <th>online</th>\n",
       "      <th>sex</th>\n",
       "      <th>datebirth</th>\n",
       "      <th>age</th>\n",
       "      <th>datereg</th>\n",
       "      <th>datezan</th>\n",
       "    </tr>\n",
       "  </thead>\n",
       "  <tbody>\n",
       "    <tr>\n",
       "      <th>0</th>\n",
       "      <td>401346550</td>\n",
       "      <td>801346550</td>\n",
       "      <td>101352023</td>\n",
       "      <td>Физическая активность</td>\n",
       "      <td>ОНЛАЙН Гимнастика</td>\n",
       "      <td>ОНЛАЙН Цигун</td>\n",
       "      <td>Да</td>\n",
       "      <td>Женщина</td>\n",
       "      <td>1959-01-18</td>\n",
       "      <td>64</td>\n",
       "      <td>2018-03-20 14:54:07</td>\n",
       "      <td>2022-08-01</td>\n",
       "    </tr>\n",
       "    <tr>\n",
       "      <th>1</th>\n",
       "      <td>401348283</td>\n",
       "      <td>801346550</td>\n",
       "      <td>101352023</td>\n",
       "      <td>Физическая активность</td>\n",
       "      <td>ОНЛАЙН Гимнастика</td>\n",
       "      <td>ОНЛАЙН Цигун</td>\n",
       "      <td>Да</td>\n",
       "      <td>Женщина</td>\n",
       "      <td>1959-01-18</td>\n",
       "      <td>64</td>\n",
       "      <td>2018-03-20 14:54:07</td>\n",
       "      <td>2022-08-03</td>\n",
       "    </tr>\n",
       "    <tr>\n",
       "      <th>2</th>\n",
       "      <td>401351970</td>\n",
       "      <td>801346550</td>\n",
       "      <td>101352023</td>\n",
       "      <td>Физическая активность</td>\n",
       "      <td>ОНЛАЙН Гимнастика</td>\n",
       "      <td>ОНЛАЙН Цигун</td>\n",
       "      <td>Да</td>\n",
       "      <td>Женщина</td>\n",
       "      <td>1959-01-18</td>\n",
       "      <td>64</td>\n",
       "      <td>2018-03-20 14:54:07</td>\n",
       "      <td>2022-08-08</td>\n",
       "    </tr>\n",
       "    <tr>\n",
       "      <th>3</th>\n",
       "      <td>401355095</td>\n",
       "      <td>801346550</td>\n",
       "      <td>101352023</td>\n",
       "      <td>Физическая активность</td>\n",
       "      <td>ОНЛАЙН Гимнастика</td>\n",
       "      <td>ОНЛАЙН Цигун</td>\n",
       "      <td>Да</td>\n",
       "      <td>Женщина</td>\n",
       "      <td>1959-01-18</td>\n",
       "      <td>64</td>\n",
       "      <td>2018-03-20 14:54:07</td>\n",
       "      <td>2022-08-10</td>\n",
       "    </tr>\n",
       "    <tr>\n",
       "      <th>4</th>\n",
       "      <td>401365374</td>\n",
       "      <td>801346550</td>\n",
       "      <td>101352023</td>\n",
       "      <td>Физическая активность</td>\n",
       "      <td>ОНЛАЙН Гимнастика</td>\n",
       "      <td>ОНЛАЙН Цигун</td>\n",
       "      <td>Да</td>\n",
       "      <td>Женщина</td>\n",
       "      <td>1959-01-18</td>\n",
       "      <td>64</td>\n",
       "      <td>2018-03-20 14:54:07</td>\n",
       "      <td>2022-08-22</td>\n",
       "    </tr>\n",
       "  </tbody>\n",
       "</table>\n",
       "</div>"
      ],
      "text/plain": [
       "      numzan   numgroup  numclient                  type1              type2  \\\n",
       "0  401346550  801346550  101352023  Физическая активность  ОНЛАЙН Гимнастика   \n",
       "1  401348283  801346550  101352023  Физическая активность  ОНЛАЙН Гимнастика   \n",
       "2  401351970  801346550  101352023  Физическая активность  ОНЛАЙН Гимнастика   \n",
       "3  401355095  801346550  101352023  Физическая активность  ОНЛАЙН Гимнастика   \n",
       "4  401365374  801346550  101352023  Физическая активность  ОНЛАЙН Гимнастика   \n",
       "\n",
       "          type3 online      sex  datebirth  age             datereg    datezan  \n",
       "0  ОНЛАЙН Цигун     Да  Женщина 1959-01-18   64 2018-03-20 14:54:07 2022-08-01  \n",
       "1  ОНЛАЙН Цигун     Да  Женщина 1959-01-18   64 2018-03-20 14:54:07 2022-08-03  \n",
       "2  ОНЛАЙН Цигун     Да  Женщина 1959-01-18   64 2018-03-20 14:54:07 2022-08-08  \n",
       "3  ОНЛАЙН Цигун     Да  Женщина 1959-01-18   64 2018-03-20 14:54:07 2022-08-10  \n",
       "4  ОНЛАЙН Цигун     Да  Женщина 1959-01-18   64 2018-03-20 14:54:07 2022-08-22  "
      ]
     },
     "execution_count": 42,
     "metadata": {},
     "output_type": "execute_result"
    }
   ],
   "source": [
    "plan.head()"
   ]
  },
  {
   "cell_type": "code",
   "execution_count": 43,
   "id": "9ebc9d5e",
   "metadata": {},
   "outputs": [
    {
     "data": {
      "text/plain": [
       "count                                               5901274\n",
       "unique                                                  453\n",
       "top       ОНЛАЙН Мастер-класс по уходу за кожей в зрелом...\n",
       "freq                                                 413095\n",
       "Name: type3, dtype: object"
      ]
     },
     "execution_count": 43,
     "metadata": {},
     "output_type": "execute_result"
    }
   ],
   "source": [
    "types = plan['type3']\n",
    "types.describe()"
   ]
  },
  {
   "cell_type": "code",
   "execution_count": 44,
   "id": "911f55e1",
   "metadata": {},
   "outputs": [
    {
     "data": {
      "text/html": [
       "<div>\n",
       "<style scoped>\n",
       "    .dataframe tbody tr th:only-of-type {\n",
       "        vertical-align: middle;\n",
       "    }\n",
       "\n",
       "    .dataframe tbody tr th {\n",
       "        vertical-align: top;\n",
       "    }\n",
       "\n",
       "    .dataframe thead th {\n",
       "        text-align: right;\n",
       "    }\n",
       "</style>\n",
       "<table border=\"1\" class=\"dataframe\">\n",
       "  <thead>\n",
       "    <tr style=\"text-align: right;\">\n",
       "      <th></th>\n",
       "      <th>type2</th>\n",
       "      <th>online</th>\n",
       "      <th>sex</th>\n",
       "      <th>numclient</th>\n",
       "      <th>age</th>\n",
       "    </tr>\n",
       "  </thead>\n",
       "  <tbody>\n",
       "    <tr>\n",
       "      <th>0</th>\n",
       "      <td>Борьба</td>\n",
       "      <td>Нет</td>\n",
       "      <td>Женщина</td>\n",
       "      <td>38</td>\n",
       "      <td>62.838780</td>\n",
       "    </tr>\n",
       "    <tr>\n",
       "      <th>1</th>\n",
       "      <td>Борьба</td>\n",
       "      <td>Нет</td>\n",
       "      <td>Мужчина</td>\n",
       "      <td>22</td>\n",
       "      <td>64.071429</td>\n",
       "    </tr>\n",
       "    <tr>\n",
       "      <th>2</th>\n",
       "      <td>ГТО</td>\n",
       "      <td>Нет</td>\n",
       "      <td>Женщина</td>\n",
       "      <td>265</td>\n",
       "      <td>68.183867</td>\n",
       "    </tr>\n",
       "    <tr>\n",
       "      <th>3</th>\n",
       "      <td>ГТО</td>\n",
       "      <td>Нет</td>\n",
       "      <td>Мужчина</td>\n",
       "      <td>50</td>\n",
       "      <td>66.291076</td>\n",
       "    </tr>\n",
       "    <tr>\n",
       "      <th>4</th>\n",
       "      <td>Гимнастика</td>\n",
       "      <td>Нет</td>\n",
       "      <td>Женщина</td>\n",
       "      <td>13930</td>\n",
       "      <td>67.721676</td>\n",
       "    </tr>\n",
       "    <tr>\n",
       "      <th>5</th>\n",
       "      <td>Гимнастика</td>\n",
       "      <td>Нет</td>\n",
       "      <td>Мужчина</td>\n",
       "      <td>806</td>\n",
       "      <td>70.655632</td>\n",
       "    </tr>\n",
       "    <tr>\n",
       "      <th>6</th>\n",
       "      <td>Коньки</td>\n",
       "      <td>Нет</td>\n",
       "      <td>Женщина</td>\n",
       "      <td>111</td>\n",
       "      <td>64.245098</td>\n",
       "    </tr>\n",
       "    <tr>\n",
       "      <th>7</th>\n",
       "      <td>Коньки</td>\n",
       "      <td>Нет</td>\n",
       "      <td>Мужчина</td>\n",
       "      <td>9</td>\n",
       "      <td>70.967213</td>\n",
       "    </tr>\n",
       "    <tr>\n",
       "      <th>8</th>\n",
       "      <td>Лыжи</td>\n",
       "      <td>Нет</td>\n",
       "      <td>Женщина</td>\n",
       "      <td>65</td>\n",
       "      <td>68.572948</td>\n",
       "    </tr>\n",
       "    <tr>\n",
       "      <th>9</th>\n",
       "      <td>Лыжи</td>\n",
       "      <td>Нет</td>\n",
       "      <td>Мужчина</td>\n",
       "      <td>9</td>\n",
       "      <td>72.536232</td>\n",
       "    </tr>\n",
       "    <tr>\n",
       "      <th>10</th>\n",
       "      <td>ОНЛАЙН Гимнастика</td>\n",
       "      <td>Да</td>\n",
       "      <td>Женщина</td>\n",
       "      <td>14872</td>\n",
       "      <td>67.840831</td>\n",
       "    </tr>\n",
       "    <tr>\n",
       "      <th>11</th>\n",
       "      <td>ОНЛАЙН Гимнастика</td>\n",
       "      <td>Да</td>\n",
       "      <td>Мужчина</td>\n",
       "      <td>566</td>\n",
       "      <td>69.928605</td>\n",
       "    </tr>\n",
       "    <tr>\n",
       "      <th>12</th>\n",
       "      <td>ОНЛАЙН ОФП</td>\n",
       "      <td>Да</td>\n",
       "      <td>Женщина</td>\n",
       "      <td>4253</td>\n",
       "      <td>67.437446</td>\n",
       "    </tr>\n",
       "    <tr>\n",
       "      <th>13</th>\n",
       "      <td>ОНЛАЙН ОФП</td>\n",
       "      <td>Да</td>\n",
       "      <td>Мужчина</td>\n",
       "      <td>107</td>\n",
       "      <td>68.349958</td>\n",
       "    </tr>\n",
       "    <tr>\n",
       "      <th>14</th>\n",
       "      <td>ОФП</td>\n",
       "      <td>Нет</td>\n",
       "      <td>Женщина</td>\n",
       "      <td>5702</td>\n",
       "      <td>68.577843</td>\n",
       "    </tr>\n",
       "    <tr>\n",
       "      <th>15</th>\n",
       "      <td>ОФП</td>\n",
       "      <td>Нет</td>\n",
       "      <td>Мужчина</td>\n",
       "      <td>411</td>\n",
       "      <td>71.149946</td>\n",
       "    </tr>\n",
       "    <tr>\n",
       "      <th>16</th>\n",
       "      <td>Скандинавская ходьба</td>\n",
       "      <td>Нет</td>\n",
       "      <td>Женщина</td>\n",
       "      <td>5442</td>\n",
       "      <td>71.127416</td>\n",
       "    </tr>\n",
       "    <tr>\n",
       "      <th>17</th>\n",
       "      <td>Скандинавская ходьба</td>\n",
       "      <td>Нет</td>\n",
       "      <td>Мужчина</td>\n",
       "      <td>301</td>\n",
       "      <td>73.933432</td>\n",
       "    </tr>\n",
       "    <tr>\n",
       "      <th>18</th>\n",
       "      <td>Спортивные игры</td>\n",
       "      <td>Нет</td>\n",
       "      <td>Женщина</td>\n",
       "      <td>2782</td>\n",
       "      <td>66.338964</td>\n",
       "    </tr>\n",
       "    <tr>\n",
       "      <th>19</th>\n",
       "      <td>Спортивные игры</td>\n",
       "      <td>Нет</td>\n",
       "      <td>Мужчина</td>\n",
       "      <td>1715</td>\n",
       "      <td>69.286109</td>\n",
       "    </tr>\n",
       "    <tr>\n",
       "      <th>20</th>\n",
       "      <td>Фитнес, тренажеры</td>\n",
       "      <td>Нет</td>\n",
       "      <td>Женщина</td>\n",
       "      <td>7543</td>\n",
       "      <td>66.675390</td>\n",
       "    </tr>\n",
       "    <tr>\n",
       "      <th>21</th>\n",
       "      <td>Фитнес, тренажеры</td>\n",
       "      <td>Нет</td>\n",
       "      <td>Мужчина</td>\n",
       "      <td>541</td>\n",
       "      <td>68.850803</td>\n",
       "    </tr>\n",
       "  </tbody>\n",
       "</table>\n",
       "</div>"
      ],
      "text/plain": [
       "                   type2 online      sex  numclient        age\n",
       "0                 Борьба    Нет  Женщина         38  62.838780\n",
       "1                 Борьба    Нет  Мужчина         22  64.071429\n",
       "2                    ГТО    Нет  Женщина        265  68.183867\n",
       "3                    ГТО    Нет  Мужчина         50  66.291076\n",
       "4             Гимнастика    Нет  Женщина      13930  67.721676\n",
       "5             Гимнастика    Нет  Мужчина        806  70.655632\n",
       "6                 Коньки    Нет  Женщина        111  64.245098\n",
       "7                 Коньки    Нет  Мужчина          9  70.967213\n",
       "8                   Лыжи    Нет  Женщина         65  68.572948\n",
       "9                   Лыжи    Нет  Мужчина          9  72.536232\n",
       "10     ОНЛАЙН Гимнастика     Да  Женщина      14872  67.840831\n",
       "11     ОНЛАЙН Гимнастика     Да  Мужчина        566  69.928605\n",
       "12            ОНЛАЙН ОФП     Да  Женщина       4253  67.437446\n",
       "13            ОНЛАЙН ОФП     Да  Мужчина        107  68.349958\n",
       "14                   ОФП    Нет  Женщина       5702  68.577843\n",
       "15                   ОФП    Нет  Мужчина        411  71.149946\n",
       "16  Скандинавская ходьба    Нет  Женщина       5442  71.127416\n",
       "17  Скандинавская ходьба    Нет  Мужчина        301  73.933432\n",
       "18       Спортивные игры    Нет  Женщина       2782  66.338964\n",
       "19       Спортивные игры    Нет  Мужчина       1715  69.286109\n",
       "20     Фитнес, тренажеры    Нет  Женщина       7543  66.675390\n",
       "21     Фитнес, тренажеры    Нет  Мужчина        541  68.850803"
      ]
     },
     "execution_count": 44,
     "metadata": {},
     "output_type": "execute_result"
    }
   ],
   "source": [
    "\"\"\"Количество пользователей по направлению Физическая активность, с разбивкой по полу, среднему возрасту участника,\n",
    "типу занятия\"\"\"\n",
    "plan.query(\"type1 == 'Физическая активность'\").groupby(['type2', 'online', 'sex'])\\\n",
    "    .agg({\"numclient\": 'nunique', \"age\" : 'mean'}).reset_index() #.to_frame()"
   ]
  },
  {
   "cell_type": "code",
   "execution_count": 45,
   "id": "fe594887",
   "metadata": {},
   "outputs": [
    {
     "data": {
      "text/html": [
       "<div>\n",
       "<style scoped>\n",
       "    .dataframe tbody tr th:only-of-type {\n",
       "        vertical-align: middle;\n",
       "    }\n",
       "\n",
       "    .dataframe tbody tr th {\n",
       "        vertical-align: top;\n",
       "    }\n",
       "\n",
       "    .dataframe thead th {\n",
       "        text-align: right;\n",
       "    }\n",
       "</style>\n",
       "<table border=\"1\" class=\"dataframe\">\n",
       "  <thead>\n",
       "    <tr style=\"text-align: right;\">\n",
       "      <th></th>\n",
       "      <th>type1</th>\n",
       "      <th>age</th>\n",
       "    </tr>\n",
       "  </thead>\n",
       "  <tbody>\n",
       "    <tr>\n",
       "      <th>0</th>\n",
       "      <td>Игры</td>\n",
       "      <td>69.367789</td>\n",
       "    </tr>\n",
       "    <tr>\n",
       "      <th>1</th>\n",
       "      <td>Образование</td>\n",
       "      <td>67.759223</td>\n",
       "    </tr>\n",
       "    <tr>\n",
       "      <th>2</th>\n",
       "      <td>Пение</td>\n",
       "      <td>70.067063</td>\n",
       "    </tr>\n",
       "    <tr>\n",
       "      <th>3</th>\n",
       "      <td>Рисование</td>\n",
       "      <td>66.910890</td>\n",
       "    </tr>\n",
       "    <tr>\n",
       "      <th>4</th>\n",
       "      <td>Спецпроект / Интеллектуальный клуб</td>\n",
       "      <td>67.200858</td>\n",
       "    </tr>\n",
       "    <tr>\n",
       "      <th>5</th>\n",
       "      <td>Спецпроект / Московский театрал</td>\n",
       "      <td>67.229051</td>\n",
       "    </tr>\n",
       "    <tr>\n",
       "      <th>6</th>\n",
       "      <td>Спецпроект / Серебряный университет</td>\n",
       "      <td>61.198604</td>\n",
       "    </tr>\n",
       "    <tr>\n",
       "      <th>7</th>\n",
       "      <td>Спецпроект / Тренировки долголетия (спецпроект...</td>\n",
       "      <td>69.376055</td>\n",
       "    </tr>\n",
       "    <tr>\n",
       "      <th>8</th>\n",
       "      <td>Танцы</td>\n",
       "      <td>66.932076</td>\n",
       "    </tr>\n",
       "    <tr>\n",
       "      <th>9</th>\n",
       "      <td>Творчество</td>\n",
       "      <td>66.346509</td>\n",
       "    </tr>\n",
       "    <tr>\n",
       "      <th>10</th>\n",
       "      <td>Физическая активность</td>\n",
       "      <td>68.125319</td>\n",
       "    </tr>\n",
       "    <tr>\n",
       "      <th>11</th>\n",
       "      <td>Центры московского долголетия</td>\n",
       "      <td>69.384306</td>\n",
       "    </tr>\n",
       "  </tbody>\n",
       "</table>\n",
       "</div>"
      ],
      "text/plain": [
       "                                                type1        age\n",
       "0                                                Игры  69.367789\n",
       "1                                         Образование  67.759223\n",
       "2                                               Пение  70.067063\n",
       "3                                           Рисование  66.910890\n",
       "4                  Спецпроект / Интеллектуальный клуб  67.200858\n",
       "5                     Спецпроект / Московский театрал  67.229051\n",
       "6                 Спецпроект / Серебряный университет  61.198604\n",
       "7   Спецпроект / Тренировки долголетия (спецпроект...  69.376055\n",
       "8                                               Танцы  66.932076\n",
       "9                                          Творчество  66.346509\n",
       "10                              Физическая активность  68.125319\n",
       "11                      Центры московского долголетия  69.384306"
      ]
     },
     "metadata": {},
     "output_type": "display_data"
    },
    {
     "data": {
      "text/plain": [
       "<Axes: xlabel='type1'>"
      ]
     },
     "execution_count": 45,
     "metadata": {},
     "output_type": "execute_result"
    },
    {
     "data": {
      "image/png": "[encoded data removed]",
      "text/plain": [
       "<Figure size 640x480 with 1 Axes>"
      ]
     },
     "metadata": {},
     "output_type": "display_data"
    }
   ],
   "source": [
    "# Средний возраст участников по направлениям\n",
    "md = pd.DataFrame(plan.groupby(['type1'])[['age']].mean())\n",
    "md.reset_index(drop=False, inplace=True)\n",
    "display(md)\n",
    "md.plot(x='type1', y='age', kind='bar')"
   ]
  }
 ],
 "metadata": {
  "kernelspec": {
   "display_name": "Python 3 (ipykernel)",
   "language": "python",
   "name": "python3"
  },
  "language_info": {
   "codemirror_mode": {
    "name": "ipython",
    "version": 3
   },
   "file_extension": ".py",
   "mimetype": "text/x-python",
   "name": "python",
   "nbconvert_exporter": "python",
   "pygments_lexer": "ipython3",
   "version": "3.10.9"
  }
 },
 "nbformat": 4,
 "nbformat_minor": 5
}
