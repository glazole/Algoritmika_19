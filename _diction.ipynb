{
 "cells": [
  {
   "cell_type": "code",
   "execution_count": 1,
   "id": "576fb15c",
   "metadata": {},
   "outputs": [],
   "source": [
    "import pandas as pd\n",
    "# import zipfile\n",
    "# with zipfile.ZipFile('I:\\\\Download\\\\Датасеты.zip', 'r') as zip_ref:\n",
    "#     zip_ref.extractall('I:\\\\Download')"
   ]
  },
  {
   "cell_type": "code",
   "execution_count": 12,
   "id": "d57c2df4",
   "metadata": {},
   "outputs": [
    {
     "name": "stdout",
     "output_type": "stream",
     "text": [
      "<class 'pandas.core.frame.DataFrame'>\n",
      "RangeIndex: 899 entries, 0 to 898\n",
      "Data columns (total 10 columns):\n",
      " #   Column                                  Non-Null Count  Dtype  \n",
      "---  ------                                  --------------  -----  \n",
      " 0   Разметка: Для ума/ Для души / Для тела  899 non-null    object \n",
      " 1   id_level1                               899 non-null    int64  \n",
      " 2   level1                                  899 non-null    object \n",
      " 3   id_level2                               899 non-null    int64  \n",
      " 4   level2                                  899 non-null    object \n",
      " 5   id_level3                               899 non-null    int64  \n",
      " 6   leve3                                   899 non-null    object \n",
      " 7   d_level1                                899 non-null    object \n",
      " 8   d_level2                                0 non-null      float64\n",
      " 9   d_level3                                0 non-null      float64\n",
      "dtypes: float64(2), int64(3), object(5)\n",
      "memory usage: 70.4+ KB\n"
     ]
    }
   ],
   "source": [
    "diction = pd.read_excel('I:\\\\Download\\\\Датасеты\\\\dict.xlsx')\n",
    "diction.info()"
   ]
  },
  {
   "cell_type": "code",
   "execution_count": 13,
   "id": "40eae262",
   "metadata": {},
   "outputs": [
    {
     "data": {
      "text/html": [
       "<div>\n",
       "<style scoped>\n",
       "    .dataframe tbody tr th:only-of-type {\n",
       "        vertical-align: middle;\n",
       "    }\n",
       "\n",
       "    .dataframe tbody tr th {\n",
       "        vertical-align: top;\n",
       "    }\n",
       "\n",
       "    .dataframe thead th {\n",
       "        text-align: right;\n",
       "    }\n",
       "</style>\n",
       "<table border=\"1\" class=\"dataframe\">\n",
       "  <thead>\n",
       "    <tr style=\"text-align: right;\">\n",
       "      <th></th>\n",
       "      <th>Разметка: Для ума/ Для души / Для тела</th>\n",
       "      <th>id_level1</th>\n",
       "      <th>level1</th>\n",
       "      <th>id_level2</th>\n",
       "      <th>level2</th>\n",
       "      <th>id_level3</th>\n",
       "      <th>leve3</th>\n",
       "      <th>d_level1</th>\n",
       "      <th>d_level2</th>\n",
       "      <th>d_level3</th>\n",
       "    </tr>\n",
       "  </thead>\n",
       "  <tbody>\n",
       "    <tr>\n",
       "      <th>0</th>\n",
       "      <td>Для ума</td>\n",
       "      <td>649</td>\n",
       "      <td>Игры</td>\n",
       "      <td>651</td>\n",
       "      <td>Интеллектуальные игры</td>\n",
       "      <td>1042</td>\n",
       "      <td>Иные интеллектуальные игры</td>\n",
       "      <td>Занятия по изучению правил игр, основанных на ...</td>\n",
       "      <td>NaN</td>\n",
       "      <td>NaN</td>\n",
       "    </tr>\n",
       "    <tr>\n",
       "      <th>1</th>\n",
       "      <td>Для ума</td>\n",
       "      <td>649</td>\n",
       "      <td>Игры</td>\n",
       "      <td>651</td>\n",
       "      <td>Интеллектуальные игры</td>\n",
       "      <td>1040</td>\n",
       "      <td>Викторины</td>\n",
       "      <td>Занятия по изучению правил игры, которая заклю...</td>\n",
       "      <td>NaN</td>\n",
       "      <td>NaN</td>\n",
       "    </tr>\n",
       "    <tr>\n",
       "      <th>2</th>\n",
       "      <td>Для ума</td>\n",
       "      <td>649</td>\n",
       "      <td>Игры</td>\n",
       "      <td>651</td>\n",
       "      <td>Интеллектуальные игры</td>\n",
       "      <td>1041</td>\n",
       "      <td>Квест</td>\n",
       "      <td>Занятия по изучению способов решений головолом...</td>\n",
       "      <td>NaN</td>\n",
       "      <td>NaN</td>\n",
       "    </tr>\n",
       "    <tr>\n",
       "      <th>3</th>\n",
       "      <td>Для ума</td>\n",
       "      <td>649</td>\n",
       "      <td>Игры</td>\n",
       "      <td>651</td>\n",
       "      <td>Интеллектуальные игры</td>\n",
       "      <td>1043</td>\n",
       "      <td>Брейн-ринг</td>\n",
       "      <td>Занятия по изучению правил игры, в которой поб...</td>\n",
       "      <td>NaN</td>\n",
       "      <td>NaN</td>\n",
       "    </tr>\n",
       "    <tr>\n",
       "      <th>4</th>\n",
       "      <td>Для ума</td>\n",
       "      <td>649</td>\n",
       "      <td>Игры</td>\n",
       "      <td>650</td>\n",
       "      <td>Настольные игры</td>\n",
       "      <td>323</td>\n",
       "      <td>Современные настольные игры</td>\n",
       "      <td>Занятия по изучению правил современных игр, ра...</td>\n",
       "      <td>NaN</td>\n",
       "      <td>NaN</td>\n",
       "    </tr>\n",
       "  </tbody>\n",
       "</table>\n",
       "</div>"
      ],
      "text/plain": [
       "  Разметка: Для ума/ Для души / Для тела  id_level1 level1  id_level2  \\\n",
       "0                                Для ума        649   Игры        651   \n",
       "1                                Для ума        649   Игры        651   \n",
       "2                                Для ума        649   Игры        651   \n",
       "3                                Для ума        649   Игры        651   \n",
       "4                                Для ума        649   Игры        650   \n",
       "\n",
       "                  level2  id_level3                        leve3  \\\n",
       "0  Интеллектуальные игры       1042   Иные интеллектуальные игры   \n",
       "1  Интеллектуальные игры       1040                    Викторины   \n",
       "2  Интеллектуальные игры       1041                        Квест   \n",
       "3  Интеллектуальные игры       1043                   Брейн-ринг   \n",
       "4        Настольные игры        323  Современные настольные игры   \n",
       "\n",
       "                                            d_level1  d_level2  d_level3  \n",
       "0  Занятия по изучению правил игр, основанных на ...       NaN       NaN  \n",
       "1  Занятия по изучению правил игры, которая заклю...       NaN       NaN  \n",
       "2  Занятия по изучению способов решений головолом...       NaN       NaN  \n",
       "3  Занятия по изучению правил игры, в которой поб...       NaN       NaN  \n",
       "4  Занятия по изучению правил современных игр, ра...       NaN       NaN  "
      ]
     },
     "execution_count": 13,
     "metadata": {},
     "output_type": "execute_result"
    }
   ],
   "source": [
    "diction.head()"
   ]
  },
  {
   "cell_type": "code",
   "execution_count": 14,
   "id": "c1d0b048",
   "metadata": {},
   "outputs": [
    {
     "data": {
      "text/plain": [
       "array(['Интеллектуальные игры', 'Настольные игры',\n",
       "       'ОНЛАЙН Интеллектуальные игры', 'ОНЛАЙН Настольные игры',\n",
       "       'ОНЛАЙН Шахматы и шашки', 'Шахматы и шашки', 'Английский язык',\n",
       "       'Здорово жить', 'Иностранные языки', 'Информационные технологии',\n",
       "       'История, искусство, краеведение', 'Киберспорт',\n",
       "       'ОНЛАЙН Английский язык', 'ОНЛАЙН Здорово жить',\n",
       "       'ОНЛАЙН Иностранные языки', 'ОНЛАЙН Информационные технологии',\n",
       "       'ОНЛАЙН История, искусство, краеведение', 'ОНЛАЙН Киберспорт',\n",
       "       'ОНЛАЙН Образовательный практикум', 'ОНЛАЙН Пеший лекторий',\n",
       "       'ОНЛАЙН Психология и коммуникации',\n",
       "       'ОНЛАЙН Финансовая и правовая грамотность, личная безопасность',\n",
       "       'ОНЛАЙН Экология жизни', 'Образовательный практикум',\n",
       "       'Пеший лекторий', 'Психология и коммуникации',\n",
       "       'Финансовая и правовая грамотность, личная безопасность',\n",
       "       'Экология жизни', 'ОНЛАЙН Пение', 'Пение', 'ОНЛАЙН Рисование',\n",
       "       'Рисование', 'Интеллектуальный клуб. Домоводство',\n",
       "       'Интеллектуальный клуб. Здоровье/красота/стиль',\n",
       "       'Интеллектуальный клуб. Иностранные языки',\n",
       "       'Интеллектуальный клуб. Информационные технологии',\n",
       "       'Интеллектуальный клуб. История/Искусство',\n",
       "       'Интеллектуальный клуб. Клубная работа',\n",
       "       'Интеллектуальный клуб. Образовательный практикум',\n",
       "       'Интеллектуальный клуб. Проф/подготовка',\n",
       "       'Интеллектуальный клуб. Психологические тренинги',\n",
       "       'Интеллектуальный клуб. Творческие мастерские',\n",
       "       'ОНЛАЙН Интеллектуальный клуб. Домоводство',\n",
       "       'ОНЛАЙН Интеллектуальный клуб. Здоровье/красота/стиль',\n",
       "       'ОНЛАЙН Интеллектуальный клуб. Иностранные языки',\n",
       "       'ОНЛАЙН Интеллектуальный клуб. Информационные технологии',\n",
       "       'ОНЛАЙН Интеллектуальный клуб. История/Искусство',\n",
       "       'ОНЛАЙН Интеллектуальный клуб. Клубная работа',\n",
       "       'ОНЛАЙН Интеллектуальный клуб. Образовательный практикум',\n",
       "       'ОНЛАЙН Интеллектуальный клуб. Проф/подготовка',\n",
       "       'ОНЛАЙН Интеллектуальный клуб. Психологические тренинги',\n",
       "       'ОНЛАЙН Интеллектуальный клуб. Творческие мастерские',\n",
       "       'Московский театрал', 'ОНЛАЙН Московский театрал',\n",
       "       'ОНЛАЙН Серебряный университет', 'Серебряный университет',\n",
       "       'Тренировки долголетия (спецпроект по медицинской реабилитации)',\n",
       "       'ОНЛАЙН Танцы', 'Танцы', 'Домоводство', 'Красота и стиль',\n",
       "       'Литература', 'Музыка, фольклор', 'ОНЛАЙН Домоводство',\n",
       "       'ОНЛАЙН Красота и стиль', 'ОНЛАЙН Литература',\n",
       "       'ОНЛАЙН Музыка, фольклор', 'ОНЛАЙН Фото/видео',\n",
       "       'ОНЛАЙН Художественно-прикладное творчество', 'Фото/видео',\n",
       "       'Художественно-прикладное творчество', 'Борьба', 'Велоспорт',\n",
       "       'ГТО', 'Гимнастика', 'Коньки', 'Лыжи', 'ОНЛАЙН Гимнастика',\n",
       "       'ОНЛАЙН ОФП', 'ОФП', 'Скандинавская ходьба', 'Спортивные игры',\n",
       "       'Фитнес, тренажеры'], dtype=object)"
      ]
     },
     "execution_count": 14,
     "metadata": {},
     "output_type": "execute_result"
    }
   ],
   "source": [
    "diction.level2.unique()"
   ]
  },
  {
   "cell_type": "code",
   "execution_count": 15,
   "id": "e7b3f709",
   "metadata": {},
   "outputs": [
    {
     "data": {
      "text/html": [
       "<div>\n",
       "<style scoped>\n",
       "    .dataframe tbody tr th:only-of-type {\n",
       "        vertical-align: middle;\n",
       "    }\n",
       "\n",
       "    .dataframe tbody tr th {\n",
       "        vertical-align: top;\n",
       "    }\n",
       "\n",
       "    .dataframe thead th {\n",
       "        text-align: right;\n",
       "    }\n",
       "</style>\n",
       "<table border=\"1\" class=\"dataframe\">\n",
       "  <thead>\n",
       "    <tr style=\"text-align: right;\">\n",
       "      <th></th>\n",
       "      <th>уникальный номер участника</th>\n",
       "      <th>уникальный номер группы</th>\n",
       "    </tr>\n",
       "  </thead>\n",
       "  <tbody>\n",
       "    <tr>\n",
       "      <th>0</th>\n",
       "      <td>101346610</td>\n",
       "      <td>NaN</td>\n",
       "    </tr>\n",
       "    <tr>\n",
       "      <th>1</th>\n",
       "      <td>101346612</td>\n",
       "      <td>NaN</td>\n",
       "    </tr>\n",
       "    <tr>\n",
       "      <th>2</th>\n",
       "      <td>101347269</td>\n",
       "      <td>NaN</td>\n",
       "    </tr>\n",
       "    <tr>\n",
       "      <th>3</th>\n",
       "      <td>101347321</td>\n",
       "      <td>NaN</td>\n",
       "    </tr>\n",
       "    <tr>\n",
       "      <th>4</th>\n",
       "      <td>101347983</td>\n",
       "      <td>NaN</td>\n",
       "    </tr>\n",
       "  </tbody>\n",
       "</table>\n",
       "</div>"
      ],
      "text/plain": [
       "   уникальный номер участника  уникальный номер группы\n",
       "0                   101346610                      NaN\n",
       "1                   101346612                      NaN\n",
       "2                   101347269                      NaN\n",
       "3                   101347321                      NaN\n",
       "4                   101347983                      NaN"
      ]
     },
     "execution_count": 15,
     "metadata": {},
     "output_type": "execute_result"
    }
   ],
   "source": [
    "test = pd.read_csv('I:\\\\Download\\\\Датасеты\\\\test.csv')\n",
    "test.head()"
   ]
  },
  {
   "cell_type": "code",
   "execution_count": 16,
   "id": "74d157b9",
   "metadata": {},
   "outputs": [
    {
     "name": "stdout",
     "output_type": "stream",
     "text": [
      "<class 'pandas.core.frame.DataFrame'>\n",
      "RangeIndex: 200 entries, 0 to 199\n",
      "Data columns (total 2 columns):\n",
      " #   Column                      Non-Null Count  Dtype  \n",
      "---  ------                      --------------  -----  \n",
      " 0   уникальный номер участника  200 non-null    int64  \n",
      " 1   уникальный номер группы     0 non-null      float64\n",
      "dtypes: float64(1), int64(1)\n",
      "memory usage: 3.2 KB\n"
     ]
    }
   ],
   "source": [
    "test.info()"
   ]
  }
 ],
 "metadata": {
  "kernelspec": {
   "display_name": "Python 3 (ipykernel)",
   "language": "python",
   "name": "python3"
  },
  "language_info": {
   "codemirror_mode": {
    "name": "ipython",
    "version": 3
   },
   "file_extension": ".py",
   "mimetype": "text/x-python",
   "name": "python",
   "nbconvert_exporter": "python",
   "pygments_lexer": "ipython3",
   "version": "3.10.9"
  }
 },
 "nbformat": 4,
 "nbformat_minor": 5
}
